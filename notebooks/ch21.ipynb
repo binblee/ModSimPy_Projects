{
 "cells": [
  {
   "cell_type": "code",
   "execution_count": 1,
   "metadata": {},
   "outputs": [],
   "source": [
    "from modsim import *"
   ]
  },
  {
   "cell_type": "code",
   "execution_count": 3,
   "metadata": {},
   "outputs": [
    {
     "data": {
      "text/plain": [
       "namespace(mass=0.0025,\n",
       "          diameter=0.019,\n",
       "          rho=1.2,\n",
       "          g=9.8,\n",
       "          v_init=0,\n",
       "          v_term=18,\n",
       "          height=381,\n",
       "          t_end=30)"
      ]
     },
     "execution_count": 3,
     "metadata": {},
     "output_type": "execute_result"
    }
   ],
   "source": [
    "params = Params(\n",
    "    mass=0.0025, # kg\n",
    "    diameter=0.019, # m\n",
    "    rho=1.2, # kg/m**3\n",
    "    g=9.8, # m/s**2\n",
    "    v_init=0, # m / s\n",
    "    v_term=18, # m / s\n",
    "    height=381, # m\n",
    "    t_end=30, # s\n",
    ")\n",
    "params"
   ]
  },
  {
   "cell_type": "code",
   "execution_count": 4,
   "metadata": {},
   "outputs": [],
   "source": [
    "from numpy import pi\n",
    "def make_system(params):\n",
    "    init = State(y=params.height, v=params.v_init)\n",
    "    area = pi * (params.diameter/2)**2\n",
    "    C_d = (2 * params.mass * params.g / (params.rho * area * params.v_term**2))\n",
    "    return System(init=init,\n",
    "                  area=area,\n",
    "                  C_d=C_d,\n",
    "                  mass=params.mass,\n",
    "                  rho=params.rho,\n",
    "                  g=params.g,\n",
    "                  t_end=params.t_end)"
   ]
  },
  {
   "cell_type": "code",
   "execution_count": 5,
   "metadata": {},
   "outputs": [
    {
     "data": {
      "text/plain": [
       "namespace(init=y    381\n",
       "               v      0\n",
       "               Name: state, dtype: int64,\n",
       "          area=0.0002835287369864788,\n",
       "          C_d=0.4445009981135434,\n",
       "          mass=0.0025,\n",
       "          rho=1.2,\n",
       "          g=9.8,\n",
       "          t_end=30)"
      ]
     },
     "execution_count": 5,
     "metadata": {},
     "output_type": "execute_result"
    }
   ],
   "source": [
    "system = make_system(params)\n",
    "system"
   ]
  },
  {
   "cell_type": "code",
   "execution_count": 7,
   "metadata": {},
   "outputs": [],
   "source": [
    "def slope_func(t, state, system):\n",
    "    y, v = state\n",
    "    rho, C_d, area, mass, g = system.rho, system.C_d, system.area, system.mass, system.g\n",
    "    f_drag = rho * v**2 * C_d * area / 2\n",
    "    a_drag = f_drag / mass\n",
    "\n",
    "    dydt = v\n",
    "    dvdt = -g + a_drag\n",
    "    return dydt, dvdt\n"
   ]
  },
  {
   "cell_type": "code",
   "execution_count": 8,
   "metadata": {},
   "outputs": [
    {
     "data": {
      "text/plain": [
       "(0, -9.8)"
      ]
     },
     "execution_count": 8,
     "metadata": {},
     "output_type": "execute_result"
    }
   ],
   "source": [
    "slope_func(0, system.init, system)"
   ]
  },
  {
   "cell_type": "code",
   "execution_count": 9,
   "metadata": {},
   "outputs": [],
   "source": [
    "def event_func(t, state, system):\n",
    "    y, v = state\n",
    "    return y"
   ]
  },
  {
   "cell_type": "code",
   "execution_count": 10,
   "metadata": {},
   "outputs": [
    {
     "data": {
      "text/plain": [
       "'A termination event occurred.'"
      ]
     },
     "execution_count": 10,
     "metadata": {},
     "output_type": "execute_result"
    }
   ],
   "source": [
    "results, details = run_solve_ivp(system, slope_func, events=event_func)\n",
    "details.message"
   ]
  },
  {
   "cell_type": "code",
   "execution_count": 11,
   "metadata": {},
   "outputs": [
    {
     "data": {
      "text/html": [
       "<div>\n",
       "<style scoped>\n",
       "    .dataframe tbody tr th:only-of-type {\n",
       "        vertical-align: middle;\n",
       "    }\n",
       "\n",
       "    .dataframe tbody tr th {\n",
       "        vertical-align: top;\n",
       "    }\n",
       "\n",
       "    .dataframe thead th {\n",
       "        text-align: right;\n",
       "    }\n",
       "</style>\n",
       "<table border=\"1\" class=\"dataframe\">\n",
       "  <thead>\n",
       "    <tr style=\"text-align: right;\">\n",
       "      <th></th>\n",
       "      <th>y</th>\n",
       "      <th>v</th>\n",
       "    </tr>\n",
       "  </thead>\n",
       "  <tbody>\n",
       "    <tr>\n",
       "      <th>21.541886</th>\n",
       "      <td>1.614743e+01</td>\n",
       "      <td>-18.001510</td>\n",
       "    </tr>\n",
       "    <tr>\n",
       "      <th>21.766281</th>\n",
       "      <td>1.211265e+01</td>\n",
       "      <td>-18.006240</td>\n",
       "    </tr>\n",
       "    <tr>\n",
       "      <th>21.990676</th>\n",
       "      <td>8.076745e+00</td>\n",
       "      <td>-18.009752</td>\n",
       "    </tr>\n",
       "    <tr>\n",
       "      <th>22.215070</th>\n",
       "      <td>4.039275e+00</td>\n",
       "      <td>-18.011553</td>\n",
       "    </tr>\n",
       "    <tr>\n",
       "      <th>22.439465</th>\n",
       "      <td>2.131628e-14</td>\n",
       "      <td>-18.011383</td>\n",
       "    </tr>\n",
       "  </tbody>\n",
       "</table>\n",
       "</div>"
      ],
      "text/plain": [
       "                      y          v\n",
       "21.541886  1.614743e+01 -18.001510\n",
       "21.766281  1.211265e+01 -18.006240\n",
       "21.990676  8.076745e+00 -18.009752\n",
       "22.215070  4.039275e+00 -18.011553\n",
       "22.439465  2.131628e-14 -18.011383"
      ]
     },
     "execution_count": 11,
     "metadata": {},
     "output_type": "execute_result"
    }
   ],
   "source": [
    "results.tail()"
   ]
  },
  {
   "cell_type": "code",
   "execution_count": 12,
   "metadata": {},
   "outputs": [
    {
     "data": {
      "text/plain": [
       "np.float64(22.439465058044306)"
      ]
     },
     "execution_count": 12,
     "metadata": {},
     "output_type": "execute_result"
    }
   ],
   "source": [
    "t_sidewalk = results.index[-1]\n",
    "t_sidewalk"
   ]
  },
  {
   "cell_type": "code",
   "execution_count": 21,
   "metadata": {},
   "outputs": [
    {
     "data": {
      "image/png": "[encoded data removed]",
      "text/plain": [
       "<Figure size 450x300 with 1 Axes>"
      ]
     },
     "metadata": {},
     "output_type": "display_data"
    }
   ],
   "source": [
    "def plot_position(results):\n",
    "    results.y.plot()\n",
    "    decorate(xlabel='Time (s)',\n",
    "            ylabel='Height (m)')\n",
    "plot_position(results)"
   ]
  },
  {
   "cell_type": "code",
   "execution_count": 20,
   "metadata": {},
   "outputs": [
    {
     "data": {
      "image/png": "[encoded data removed]",
      "text/plain": [
       "<Figure size 450x300 with 1 Axes>"
      ]
     },
     "metadata": {},
     "output_type": "display_data"
    }
   ],
   "source": [
    "def plot_velocity(results):\n",
    "    results.v.plot()\n",
    "    decorate(xlabel='Time (s)', ylabel='Velocity (m/s)')\n",
    "plot_velocity(results)"
   ]
  },
  {
   "cell_type": "code",
   "execution_count": null,
   "metadata": {},
   "outputs": [],
   "source": [
    "# Exercise 21.1\n",
    "# Run the simulation with a downward initial velocity that exceeds the penny’s terminal velocity.\n",
    "# What do you expect to happen? Plot velocity and position as a function of time,\n",
    "# and see if they are consistent with your prediction.\n",
    "# Hint: Use params.set to make a new Params object with a different initial velocity.\n"
   ]
  },
  {
   "cell_type": "code",
   "execution_count": 32,
   "metadata": {},
   "outputs": [
    {
     "data": {
      "text/plain": [
       "(namespace(mass=0.0025,\n",
       "           diameter=0.019,\n",
       "           rho=1.2,\n",
       "           g=9.8,\n",
       "           v_init=-20,\n",
       "           v_term=18,\n",
       "           height=381,\n",
       "           t_end=30),\n",
       " namespace(init=y    381\n",
       "                v    -20\n",
       "                Name: state, dtype: int64,\n",
       "           area=0.0002835287369864788,\n",
       "           C_d=0.4445009981135434,\n",
       "           mass=0.0025,\n",
       "           rho=1.2,\n",
       "           g=9.8,\n",
       "           t_end=30))"
      ]
     },
     "execution_count": 32,
     "metadata": {},
     "output_type": "execute_result"
    }
   ],
   "source": [
    "params2 = params.set(v_init=-20)\n",
    "system2 = make_system(params2)\n",
    "params2, system2"
   ]
  },
  {
   "cell_type": "code",
   "execution_count": 35,
   "metadata": {},
   "outputs": [
    {
     "data": {
      "text/plain": [
       "'A termination event occurred.'"
      ]
     },
     "execution_count": 35,
     "metadata": {},
     "output_type": "execute_result"
    }
   ],
   "source": [
    "results, details = run_solve_ivp(system2, slope_func, events=event_func)\n",
    "details.message"
   ]
  },
  {
   "cell_type": "code",
   "execution_count": 37,
   "metadata": {},
   "outputs": [
    {
     "data": {
      "image/png": "[encoded data removed]",
      "text/plain": [
       "<Figure size 450x300 with 1 Axes>"
      ]
     },
     "metadata": {},
     "output_type": "display_data"
    }
   ],
   "source": [
    "plot_position(results)"
   ]
  },
  {
   "cell_type": "code",
   "execution_count": 36,
   "metadata": {},
   "outputs": [
    {
     "data": {
      "image/png": "[encoded data removed]",
      "text/plain": [
       "<Figure size 450x300 with 1 Axes>"
      ]
     },
     "metadata": {},
     "output_type": "display_data"
    }
   ],
   "source": [
    "plot_velocity(results)"
   ]
  },
  {
   "cell_type": "code",
   "execution_count": null,
   "metadata": {},
   "outputs": [],
   "source": [
    "# Exercise 21.2\n",
    "# Suppose we drop a quarter from the Empire State Building and find that \n",
    "# its flight time is 19.1 seconds. Use this measurement to estimate terminal velocity \n",
    "# and coefficient of drag.\n",
    "# You can get the relevant dimensions of a quarter from \n",
    "# https://en.wikipedia.org/wiki/Quarter_(United_States_coin).\n",
    "# \n",
    "# 1. Create a Params object with new values of mass and diameter. \n",
    "# We don’t know v_term, so we’ll start with the initial guess 18 m/s.\n",
    "# \n",
    "# 2. Use make_system to create a System object.\n",
    "# \n",
    "# 3. Call run_solve_ivp to simulate the system. How does the flight time of the simulation \n",
    "# compare to the measurement?\n",
    "# \n",
    "# 4. Try a few different values of v_term and see if you can get the simulated flight time \n",
    "# close to 19.1 seconds.\n",
    "# \n",
    "# 5. Optionally, write an error function and use root_scalar to improve your estimate.\n",
    "# \n",
    "# 6. Use your best estimate of v_term to compute C_d.\n",
    "# \n",
    "# Note: I fabricated the “observed” flight time, so don’t take the results of this exercise \n",
    "# too seriously."
   ]
  },
  {
   "cell_type": "code",
   "execution_count": 38,
   "metadata": {},
   "outputs": [
    {
     "data": {
      "text/plain": [
       "namespace(mass=0.00567,\n",
       "          diameter=0.024,\n",
       "          rho=1.2,\n",
       "          g=9.8,\n",
       "          v_init=0,\n",
       "          v_term=18,\n",
       "          height=381,\n",
       "          t_end=30)"
      ]
     },
     "execution_count": 38,
     "metadata": {},
     "output_type": "execute_result"
    }
   ],
   "source": [
    "params3 = Params(\n",
    "    mass=0.00567, # kg\n",
    "    diameter=0.024, # m\n",
    "    rho=1.2, # kg/m**3\n",
    "    g=9.8, # m/s**2\n",
    "    v_init=0, # m / s\n",
    "    v_term=18, # m / s\n",
    "    height=381, # m\n",
    "    t_end=30, # s\n",
    ")\n",
    "params3"
   ]
  },
  {
   "cell_type": "code",
   "execution_count": 39,
   "metadata": {},
   "outputs": [
    {
     "data": {
      "text/plain": [
       "namespace(init=y    381\n",
       "               v      0\n",
       "               Name: state, dtype: int64,\n",
       "          area=0.0004523893421169302,\n",
       "          C_d=0.6318303875060197,\n",
       "          mass=0.00567,\n",
       "          rho=1.2,\n",
       "          g=9.8,\n",
       "          t_end=30)"
      ]
     },
     "execution_count": 39,
     "metadata": {},
     "output_type": "execute_result"
    }
   ],
   "source": [
    "system3 = make_system(params3)\n",
    "system3"
   ]
  },
  {
   "cell_type": "code",
   "execution_count": 40,
   "metadata": {},
   "outputs": [
    {
     "data": {
      "text/plain": [
       "'A termination event occurred.'"
      ]
     },
     "execution_count": 40,
     "metadata": {},
     "output_type": "execute_result"
    }
   ],
   "source": [
    "results, details = run_solve_ivp(system3, slope_func, events=event_func)\n",
    "details.message"
   ]
  },
  {
   "cell_type": "code",
   "execution_count": 43,
   "metadata": {},
   "outputs": [
    {
     "data": {
      "text/plain": [
       "np.float64(22.439465058044302)"
      ]
     },
     "execution_count": 43,
     "metadata": {},
     "output_type": "execute_result"
    }
   ],
   "source": [
    "t_sidewalk = results.index[-1]\n",
    "t_sidewalk"
   ]
  },
  {
   "cell_type": "code",
   "execution_count": 56,
   "metadata": {},
   "outputs": [
    {
     "data": {
      "text/plain": [
       "('A termination event occurred.', np.float64(18.87282979155261))"
      ]
     },
     "execution_count": 56,
     "metadata": {},
     "output_type": "execute_result"
    }
   ],
   "source": [
    "params3x = params3.set(v_term=22)\n",
    "system3x = make_system(params3x)\n",
    "results, details = run_solve_ivp(system3x, slope_func, events=event_func)\n",
    "details.message, results.index[-1]"
   ]
  },
  {
   "cell_type": "code",
   "execution_count": 60,
   "metadata": {},
   "outputs": [
    {
     "data": {
      "text/plain": [
       "(np.float64(3.3394650580443006), np.float64(-0.2271702084473901))"
      ]
     },
     "execution_count": 60,
     "metadata": {},
     "output_type": "execute_result"
    }
   ],
   "source": [
    "def error_func(v_term, system):\n",
    "    params_x = params3.set(v_term=v_term)\n",
    "    system_x = make_system(params_x)\n",
    "    results, details = run_solve_ivp(system_x, slope_func, events=event_func)\n",
    "    t_sidewalk = results.index[-1]\n",
    "    return t_sidewalk - 19.1\n",
    "error_func(18, system3), error_func(22, system3)"
   ]
  },
  {
   "cell_type": "code",
   "execution_count": 62,
   "metadata": {},
   "outputs": [
    {
     "data": {
      "text/plain": [
       "21.688258716910184"
      ]
     },
     "execution_count": 62,
     "metadata": {},
     "output_type": "execute_result"
    }
   ],
   "source": [
    "res = root_scalar(error_func, system3, bracket=[18, 22])\n",
    "res.root"
   ]
  },
  {
   "cell_type": "code",
   "execution_count": 63,
   "metadata": {},
   "outputs": [
    {
     "data": {
      "text/plain": [
       "('A termination event occurred.', np.float64(19.100105371017516))"
      ]
     },
     "execution_count": 63,
     "metadata": {},
     "output_type": "execute_result"
    }
   ],
   "source": [
    "params3x = params3.set(v_term=res.root)\n",
    "system3x = make_system(params3x)\n",
    "results, details = run_solve_ivp(system3x, slope_func, events=event_func)\n",
    "details.message, results.index[-1]"
   ]
  },
  {
   "cell_type": "code",
   "execution_count": 64,
   "metadata": {},
   "outputs": [
    {
     "data": {
      "text/html": [
       "<div>\n",
       "<style scoped>\n",
       "    .dataframe tbody tr th:only-of-type {\n",
       "        vertical-align: middle;\n",
       "    }\n",
       "\n",
       "    .dataframe tbody tr th {\n",
       "        vertical-align: top;\n",
       "    }\n",
       "\n",
       "    .dataframe thead th {\n",
       "        text-align: right;\n",
       "    }\n",
       "</style>\n",
       "<table border=\"1\" class=\"dataframe\">\n",
       "  <thead>\n",
       "    <tr style=\"text-align: right;\">\n",
       "      <th></th>\n",
       "      <th>y</th>\n",
       "      <th>v</th>\n",
       "    </tr>\n",
       "  </thead>\n",
       "  <tbody>\n",
       "    <tr>\n",
       "      <th>0.000000</th>\n",
       "      <td>3.810000e+02</td>\n",
       "      <td>0.000000</td>\n",
       "    </tr>\n",
       "    <tr>\n",
       "      <th>0.191001</th>\n",
       "      <td>3.808214e+02</td>\n",
       "      <td>-1.867241</td>\n",
       "    </tr>\n",
       "    <tr>\n",
       "      <th>0.382002</th>\n",
       "      <td>3.802882e+02</td>\n",
       "      <td>-3.707121</td>\n",
       "    </tr>\n",
       "    <tr>\n",
       "      <th>0.573003</th>\n",
       "      <td>3.794086e+02</td>\n",
       "      <td>-5.493280</td>\n",
       "    </tr>\n",
       "    <tr>\n",
       "      <th>0.764004</th>\n",
       "      <td>3.781951e+02</td>\n",
       "      <td>-7.203146</td>\n",
       "    </tr>\n",
       "    <tr>\n",
       "      <th>...</th>\n",
       "      <td>...</td>\n",
       "      <td>...</td>\n",
       "    </tr>\n",
       "    <tr>\n",
       "      <th>18.336101</th>\n",
       "      <td>1.655627e+01</td>\n",
       "      <td>-21.683744</td>\n",
       "    </tr>\n",
       "    <tr>\n",
       "      <th>18.527102</th>\n",
       "      <td>1.241810e+01</td>\n",
       "      <td>-21.687652</td>\n",
       "    </tr>\n",
       "    <tr>\n",
       "      <th>18.718103</th>\n",
       "      <td>8.279515e+00</td>\n",
       "      <td>-21.691184</td>\n",
       "    </tr>\n",
       "    <tr>\n",
       "      <th>18.909104</th>\n",
       "      <td>4.140220e+00</td>\n",
       "      <td>-21.694077</td>\n",
       "    </tr>\n",
       "    <tr>\n",
       "      <th>19.100105</th>\n",
       "      <td>3.552714e-15</td>\n",
       "      <td>-21.696134</td>\n",
       "    </tr>\n",
       "  </tbody>\n",
       "</table>\n",
       "<p>101 rows × 2 columns</p>\n",
       "</div>"
      ],
      "text/plain": [
       "                      y          v\n",
       "0.000000   3.810000e+02   0.000000\n",
       "0.191001   3.808214e+02  -1.867241\n",
       "0.382002   3.802882e+02  -3.707121\n",
       "0.573003   3.794086e+02  -5.493280\n",
       "0.764004   3.781951e+02  -7.203146\n",
       "...                 ...        ...\n",
       "18.336101  1.655627e+01 -21.683744\n",
       "18.527102  1.241810e+01 -21.687652\n",
       "18.718103  8.279515e+00 -21.691184\n",
       "18.909104  4.140220e+00 -21.694077\n",
       "19.100105  3.552714e-15 -21.696134\n",
       "\n",
       "[101 rows x 2 columns]"
      ]
     },
     "execution_count": 64,
     "metadata": {},
     "output_type": "execute_result"
    }
   ],
   "source": [
    "results"
   ]
  },
  {
   "cell_type": "code",
   "execution_count": 65,
   "metadata": {},
   "outputs": [
    {
     "data": {
      "text/plain": [
       "      converged: True\n",
       "           flag: converged\n",
       " function_calls: 5\n",
       "     iterations: 4\n",
       "           root: 21.688258716910184\n",
       "         method: brentq"
      ]
     },
     "execution_count": 65,
     "metadata": {},
     "output_type": "execute_result"
    }
   ],
   "source": [
    "res"
   ]
  },
  {
   "cell_type": "code",
   "execution_count": 66,
   "metadata": {},
   "outputs": [
    {
     "data": {
      "text/plain": [
       "y    381\n",
       "v      0\n",
       "Name: state, dtype: int64"
      ]
     },
     "execution_count": 66,
     "metadata": {},
     "output_type": "execute_result"
    }
   ],
   "source": [
    "system.init"
   ]
  }
 ],
 "metadata": {
  "kernelspec": {
   "display_name": "modsimpy",
   "language": "python",
   "name": "python3"
  },
  "language_info": {
   "codemirror_mode": {
    "name": "ipython",
    "version": 3
   },
   "file_extension": ".py",
   "mimetype": "text/x-python",
   "name": "python",
   "nbconvert_exporter": "python",
   "pygments_lexer": "ipython3",
   "version": "3.12.2"
  }
 },
 "nbformat": 4,
 "nbformat_minor": 2
}
