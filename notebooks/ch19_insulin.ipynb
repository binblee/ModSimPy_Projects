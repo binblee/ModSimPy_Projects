{
 "cells": [
  {
   "cell_type": "markdown",
   "metadata": {},
   "source": [
    "# The Insulin Minimal Model"
   ]
  },
  {
   "cell_type": "markdown",
   "metadata": {},
   "source": [
    "*Modeling and Simulation in Python*\n",
    "\n",
    "Copyright 2021 Allen Downey\n",
    "\n",
    "License: [Creative Commons Attribution-NonCommercial-ShareAlike 4.0 International](https://creativecommons.org/licenses/by-nc-sa/4.0/)"
   ]
  },
  {
   "cell_type": "code",
   "execution_count": null,
   "metadata": {
    "tags": []
   },
   "outputs": [],
   "source": [
    "# install Pint if necessary\n",
    "\n",
    "try:\n",
    "    import pint\n",
    "except ImportError:\n",
    "    !pip install pint"
   ]
  },
  {
   "cell_type": "code",
   "execution_count": null,
   "metadata": {
    "tags": []
   },
   "outputs": [],
   "source": [
    "# download modsim.py if necessary\n",
    "\n",
    "from os.path import basename, exists\n",
    "\n",
    "def download(url):\n",
    "    filename = basename(url)\n",
    "    if not exists(filename):\n",
    "        from urllib.request import urlretrieve\n",
    "        local, _ = urlretrieve(url, filename)\n",
    "        print('Downloaded ' + local)\n",
    "    \n",
    "download('https://github.com/AllenDowney/ModSimPy/raw/master/modsim.py')"
   ]
  },
  {
   "cell_type": "code",
   "execution_count": 53,
   "metadata": {
    "tags": []
   },
   "outputs": [],
   "source": [
    "# import functions from modsim\n",
    "\n",
    "from modsim import *"
   ]
  },
  {
   "cell_type": "markdown",
   "metadata": {},
   "source": [
    "The following cells download and read the data."
   ]
  },
  {
   "cell_type": "code",
   "execution_count": null,
   "metadata": {},
   "outputs": [],
   "source": [
    "download('https://raw.githubusercontent.com/AllenDowney/' +\n",
    "         'ModSim/main/data/glucose_insulin.csv')"
   ]
  },
  {
   "cell_type": "code",
   "execution_count": 54,
   "metadata": {},
   "outputs": [],
   "source": [
    "data = pd.read_csv('glucose_insulin.csv', index_col='time');"
   ]
  },
  {
   "cell_type": "markdown",
   "metadata": {},
   "source": [
    "In Chapter 17 I present the glucose minimal model; in Chapter 18 we implemented it using `run_simulation` and `run_solve_ivp`.\n",
    "In this case study, we'll implement the other half of the Minimal Model, which describes the concentration of insulin.\n",
    "\n",
    "In the insulin minimal model, the concentration of insulin, $I$, is governed by this differential equation:\n",
    "\n",
    "$ \\frac{dI}{dt} = -k I(t) + \\gamma (G(t) - G_T) t $\n",
    "\n",
    "where $G(t)$ is the concentration of glucose at time $t$, and\n",
    "$k$, $\\gamma$, and $G_T$ are positive-valued parameters:\n",
    "\n",
    "* $k$ controls the rate of insulin disappearance.\n",
    "\n",
    "* $G_T$ determines the glucose threshold: when $G(t)$ exceeds this threshold, it causes insulin to appear; when $G(t)$ is below this threshold, it causes insulin to disappear.\n",
    "\n",
    "* $\\gamma$ controls how quickly insulin appears or disappears when the concentration of glucose is elevated or depressed.\n",
    " \n",
    "Notice that this equation depends on time, $t$, since the initial injection.  It has the effect of increasing glucose sensitivity over time.  If you are familiar with control systems, the effect of this term is similar to the integral term in a [PID controller](https://en.wikipedia.org/wiki/PID_controller).\n",
    "\n",
    "In addition to the three parameters in the equation, we will also consider the initial concentration of insulin, $I_0$, to be a free parameter; that is, we will choose the value of $I_0$, and the other parameters, that best fit the data."
   ]
  },
  {
   "cell_type": "markdown",
   "metadata": {},
   "source": [
    "**Exercise:**  Write a version of `make_system` that takes the parameters of the model (`I0`, `k`, `gamma`, and `G_T`) as parameters, along with a `DataFrame` containing the measurements, and returns a `System` object suitable for use with `run_solve_ivp`.\n",
    "\n",
    "Use it to make a `System` object with the following parameters:"
   ]
  },
  {
   "cell_type": "code",
   "execution_count": 55,
   "metadata": {},
   "outputs": [],
   "source": [
    "I0 = 360   \n",
    "k = 0.25\n",
    "gamma = 0.004\n",
    "G_T = 80\n",
    "\n",
    "params = I0, k, gamma, G_T"
   ]
  },
  {
   "cell_type": "code",
   "execution_count": 56,
   "metadata": {},
   "outputs": [],
   "source": [
    "# Solution goes here\n",
    "def make_system(params, data):\n",
    "    I0, k, gamma, G_T = params\n",
    "    \n",
    "    init = State(I = I0, X = 0)\n",
    "    \n",
    "    t0 = data.index[0]\n",
    "    t_end = data.index[-1]\n",
    "\n",
    "    G = interpolate(data.glucose)\n",
    "        \n",
    "    return System(init=init, t0=t0, t_end=t_end, k=k, gamma=gamma, G_T=G_T, G=G)"
   ]
  },
  {
   "cell_type": "code",
   "execution_count": 57,
   "metadata": {},
   "outputs": [
    {
     "data": {
      "text/plain": [
       "namespace(init=I    360\n",
       "               X      0\n",
       "               Name: state, dtype: int64,\n",
       "          t0=np.int64(0),\n",
       "          t_end=np.int64(182),\n",
       "          k=0.25,\n",
       "          gamma=0.004,\n",
       "          G_T=80,\n",
       "          G=<scipy.interpolate._interpolate.interp1d at 0x125293d40>)"
      ]
     },
     "execution_count": 57,
     "metadata": {},
     "output_type": "execute_result"
    }
   ],
   "source": [
    "# Solution goes here\n",
    "system = make_system(params, data)\n",
    "system"
   ]
  },
  {
   "cell_type": "markdown",
   "metadata": {},
   "source": [
    "**Exercise:** Write a slope function that takes a time stamp, a `State` object, and a `System` object, and returns the derivative of `I` with respect to time.  Test your function with the initial conditions from `system`."
   ]
  },
  {
   "cell_type": "markdown",
   "metadata": {},
   "source": [
    "$ \\frac{dI}{dt} = -k I(t) + \\gamma (G(t) - G_T) t $"
   ]
  },
  {
   "cell_type": "code",
   "execution_count": 58,
   "metadata": {},
   "outputs": [],
   "source": [
    "# Solution goes here\n",
    "def slope_func(t, state, system):\n",
    "    I, X = state\n",
    "    G = system.G\n",
    "    k, gamma, G_T = system.k, system.gamma, system.G_T\n",
    "    dIdt = -k * I + gamma * (G(t) - G_T) * t\n",
    "    return dIdt"
   ]
  },
  {
   "cell_type": "code",
   "execution_count": 59,
   "metadata": {},
   "outputs": [
    {
     "data": {
      "text/plain": [
       "np.float64(-90.0)"
      ]
     },
     "execution_count": 59,
     "metadata": {},
     "output_type": "execute_result"
    }
   ],
   "source": [
    "# Solution goes here\n",
    "slope_func(system.t0, system.init, system)"
   ]
  },
  {
   "cell_type": "markdown",
   "metadata": {},
   "source": [
    "**Exercise:** Run `run_solve_ivp` with your `System` object and slope function, and plot the results, along with the measured insulin levels.  Use the keyword argument `t_eval=data.index` so the results are evaluated as the same time stamps as the data."
   ]
  },
  {
   "cell_type": "code",
   "execution_count": 60,
   "metadata": {},
   "outputs": [
    {
     "data": {
      "text/plain": [
       "(True, 'The solver successfully reached the end of the integration interval.')"
      ]
     },
     "execution_count": 60,
     "metadata": {},
     "output_type": "execute_result"
    }
   ],
   "source": [
    "# Solution goes here\n",
    "results, details = run_solve_ivp(system, slope_func, t_eval=data.index)\n",
    "details.success, details.message"
   ]
  },
  {
   "cell_type": "code",
   "execution_count": 61,
   "metadata": {},
   "outputs": [
    {
     "data": {
      "image/png": "[encoded data removed]",
      "text/plain": [
       "<Figure size 450x300 with 1 Axes>"
      ]
     },
     "metadata": {},
     "output_type": "display_data"
    }
   ],
   "source": [
    "# Solution goes here\n",
    "results.I.plot(label='simulation')\n",
    "decorate(xlabel='Time (min)',ylabel='Insulin Level')"
   ]
  },
  {
   "cell_type": "code",
   "execution_count": null,
   "metadata": {},
   "outputs": [],
   "source": [
    "# Solution goes here"
   ]
  },
  {
   "cell_type": "markdown",
   "metadata": {},
   "source": [
    "**Exercise:**  Write an error function that takes a sequence of parameters as an argument, along with the `DataFrame` containing the measurements.  It should make a `System` object with the given parameters, call `run_solve_ivp`, and compute the difference between the results of the simulation and the measured values.  Test your error function by calling it with the parameters from the previous exercise.\n",
    "\n",
    "Hint: As we did with the glucose model, you might want to drop the first 2-3 elements from the sequence of errors."
   ]
  },
  {
   "cell_type": "code",
   "execution_count": 62,
   "metadata": {},
   "outputs": [],
   "source": [
    "# Solution goes here\n",
    "def error_func(params, data):\n",
    "    \"\"\"Computes an array of errors to be minimized.\n",
    "    \n",
    "    params: sequence of parameters\n",
    "    data: DataFrame of values to be matched\n",
    "    \n",
    "    returns: array of errors\n",
    "    \"\"\"\n",
    "    print(params)\n",
    "    \n",
    "    # make a System with the given parameters\n",
    "    system = make_system(params, data)\n",
    "    \n",
    "    # solve the ODE\n",
    "    results, details = run_solve_ivp(system, slope_func, \n",
    "                                     t_eval=data.index)\n",
    "    \n",
    "    # compute the difference between the model\n",
    "    # results and actual data\n",
    "    errors = results.I - data.insulin\n",
    "    return errors.iloc[3:]"
   ]
  },
  {
   "cell_type": "code",
   "execution_count": 63,
   "metadata": {},
   "outputs": [
    {
     "name": "stdout",
     "output_type": "stream",
     "text": [
      "(360, 0.25, 0.004, 80)\n"
     ]
    },
    {
     "data": {
      "text/plain": [
       "6       4.553116\n",
       "8      10.709171\n",
       "10     -3.172829\n",
       "12     -7.897145\n",
       "14     -7.985017\n",
       "16     -3.553263\n",
       "19      1.776561\n",
       "22      2.618612\n",
       "27      7.007712\n",
       "32      3.686015\n",
       "42      8.941163\n",
       "52      9.586846\n",
       "62      0.796609\n",
       "72     -3.204869\n",
       "82    -10.374173\n",
       "92     -7.410135\n",
       "102    -9.055942\n",
       "122    -3.586778\n",
       "142    -3.563592\n",
       "162     3.186066\n",
       "182    18.705483\n",
       "dtype: float64"
      ]
     },
     "execution_count": 63,
     "metadata": {},
     "output_type": "execute_result"
    }
   ],
   "source": [
    "# Solution goes here\n",
    "error_func(params, data)"
   ]
  },
  {
   "cell_type": "markdown",
   "metadata": {},
   "source": [
    "**Exercise:** Use `leastsq` to find the parameters that best fit the data.  Make a `System` object with those parameters, run it, and plot the results along with the measurements."
   ]
  },
  {
   "cell_type": "code",
   "execution_count": 64,
   "metadata": {},
   "outputs": [
    {
     "name": "stdout",
     "output_type": "stream",
     "text": [
      "[3.6e+02 2.5e-01 4.0e-03 8.0e+01]\n",
      "[3.6e+02 2.5e-01 4.0e-03 8.0e+01]\n",
      "[3.6e+02 2.5e-01 4.0e-03 8.0e+01]\n",
      "[3.60000005e+02 2.50000000e-01 4.00000000e-03 8.00000000e+01]\n",
      "[3.60000000e+02 2.50000004e-01 4.00000000e-03 8.00000000e+01]\n",
      "[3.60000000e+02 2.50000000e-01 4.00000006e-03 8.00000000e+01]\n",
      "[3.60000000e+02 2.50000000e-01 4.00000000e-03 8.00000012e+01]\n",
      "[3.54335448e+02 2.53013238e-01 3.60571294e-03 7.98118985e+01]\n",
      "[3.54335454e+02 2.53013238e-01 3.60571294e-03 7.98118985e+01]\n",
      "[3.54335448e+02 2.53013242e-01 3.60571294e-03 7.98118985e+01]\n",
      "[3.54335448e+02 2.53013238e-01 3.60571299e-03 7.98118985e+01]\n",
      "[3.54335448e+02 2.53013238e-01 3.60571294e-03 7.98118997e+01]\n",
      "[3.54240796e+02 2.53013945e-01 3.61090278e-03 8.05524363e+01]\n",
      "[3.54240796e+02 2.53013945e-01 3.61090278e-03 8.05524363e+01]\n",
      "[3.54246469e+02 2.53013925e-01 3.61063400e-03 8.03474382e+01]\n",
      "[3.54268023e+02 2.53013750e-01 3.60950984e-03 7.99261133e+01]\n",
      "[3.54301512e+02 2.53013328e-01 3.60760354e-03 7.98241357e+01]\n",
      "[3.54318856e+02 2.53013098e-01 3.60660381e-03 7.98144347e+01]\n",
      "[3.54327004e+02 2.53012991e-01 3.60613335e-03 7.98126011e+01]\n",
      "[3.54330731e+02 2.53012944e-01 3.60591800e-03 7.98121341e+01]\n",
      "[3.54333281e+02 2.53012921e-01 3.60577051e-03 7.98119262e+01]\n",
      "[3.54333287e+02 2.53012921e-01 3.60577051e-03 7.98119262e+01]\n",
      "[3.54333281e+02 2.53012925e-01 3.60577051e-03 7.98119262e+01]\n",
      "[3.54333281e+02 2.53012921e-01 3.60577057e-03 7.98119262e+01]\n",
      "[3.54333281e+02 2.53012921e-01 3.60577051e-03 7.98119274e+01]\n",
      "[3.54332794e+02 2.53012727e-01 3.60582239e-03 7.98119145e+01]\n",
      "[3.54332800e+02 2.53012727e-01 3.60582239e-03 7.98119145e+01]\n",
      "[3.54332794e+02 2.53012731e-01 3.60582239e-03 7.98119145e+01]\n",
      "[3.54332794e+02 2.53012727e-01 3.60582245e-03 7.98119145e+01]\n",
      "[3.54332794e+02 2.53012727e-01 3.60582239e-03 7.98119156e+01]\n",
      "[3.54332462e+02 2.53012478e-01 3.60585516e-03 7.98118335e+01]\n",
      "[3.54332660e+02 2.53012632e-01 3.60583572e-03 7.98118989e+01]\n",
      "[3.54332744e+02 2.53012692e-01 3.60582742e-03 7.98119097e+01]\n",
      "[3.54332776e+02 2.53012715e-01 3.60582419e-03 7.98119129e+01]\n"
     ]
    }
   ],
   "source": [
    "# Solution goes here\n",
    "best_params, fit_details = leastsq(error_func, params, data)"
   ]
  },
  {
   "cell_type": "code",
   "execution_count": 65,
   "metadata": {},
   "outputs": [
    {
     "data": {
      "text/plain": [
       "(array([3.54332794e+02, 2.53012727e-01, 3.60582239e-03, 7.98119145e+01]),\n",
       " namespace(cov_x=array([[ 1.79698820e+00, -1.69837900e-05,  5.33762222e-05,\n",
       "                          1.55095586e-01],\n",
       "                        [-1.69837900e-05,  2.36135640e-10, -4.62330442e-10,\n",
       "                         -2.22843815e-06],\n",
       "                        [ 5.33762222e-05, -4.62330442e-10,  1.60894254e-09,\n",
       "                          4.17759790e-06],\n",
       "                        [ 1.55095586e-01, -2.22843815e-06,  4.17759790e-06,\n",
       "                          6.87734229e-02]]),\n",
       "           mesg='The relative error between two consecutive iterates is at most 0.000000',\n",
       "           ier=2,\n",
       "           fvec=array([  0.92778288,   7.45935373,  -6.19807384, -10.82192822,\n",
       "                       -10.92323518,  -6.59240459,  -1.46645   ,  -0.80726134,\n",
       "                         3.45901816,   0.21423267,   5.67599748,   6.98425116,\n",
       "                        -0.82204101,  -3.92186269, -10.12482534,  -7.19417843,\n",
       "                        -8.99837303,  -3.63804197,  -3.67478582,   2.35929682,\n",
       "                        16.40705077]),\n",
       "           nfev=32,\n",
       "           fjac=array([[-8.38232559e+06, -3.59909040e+05,  5.74759138e-02,\n",
       "                        -2.26199598e+01,  6.55278692e-04,  7.35133326e-04,\n",
       "                         8.46864641e-04,  9.29423734e-04,  1.05853375e-03,\n",
       "                         9.93110276e-04,  1.18837776e-03,  1.67412134e-03,\n",
       "                         5.67035236e-04,  5.69904105e-03,  2.13832074e-02,\n",
       "                        -4.38929440e-02, -1.43062980e-02,  1.10991606e-02,\n",
       "                         2.12355017e-03, -9.98330724e-01, -2.40231658e-02],\n",
       "                       [ 4.66396722e+06, -1.23922345e+05, -1.02075950e-01,\n",
       "                         4.27967799e+01,  2.30466011e-02,  2.62808511e-02,\n",
       "                         3.08141747e-02,  3.36007545e-02,  3.61157089e-02,\n",
       "                         3.65209587e-02,  3.60105208e-02,  3.53141315e-02,\n",
       "                         1.80062623e-02,  5.73570189e-02,  1.81991481e-01,\n",
       "                        -4.10097783e-01, -1.34473862e-01,  1.03871359e-01,\n",
       "                        -8.66435528e-01,  2.85134969e-02,  7.39299114e-02],\n",
       "                       [-7.44815351e-01, -1.70620246e+00,  4.24907858e+00,\n",
       "                        -1.15848239e-01,  4.29880751e-02,  5.08146618e-02,\n",
       "                         6.24225744e-02,  7.36606411e-02,  9.21610952e-02,\n",
       "                         1.08134753e-01,  1.41281817e-01,  1.74148962e-01,\n",
       "                         2.01674088e-01,  2.51920953e-01,  3.46509673e-01,\n",
       "                         1.57177175e-01,  2.79297762e-01,  4.40586768e-01,\n",
       "                         1.34390876e-01,  1.72869812e-03,  6.12123203e-01],\n",
       "                       [ 2.93126149e+02, -1.02396143e+00, -3.66732142e-01,\n",
       "                        -7.45980350e-01,  2.25581975e-01,  2.29810832e-01,\n",
       "                         2.45868971e-01,  2.54607789e-01,  2.56386791e-01,\n",
       "                         2.50070029e-01,  1.97493780e-01,  1.10231993e-01,\n",
       "                         5.72916384e-03, -1.24477751e-01, -3.20088179e-01,\n",
       "                         1.22015878e-02, -1.46464036e-01, -3.20600630e-01,\n",
       "                         3.15591906e-01,  3.81471979e-01, -2.27934494e-01]]),\n",
       "           ipvt=array([3, 2, 4, 1], dtype=int32),\n",
       "           qtf=array([ 2.59018803, -6.01867797, -0.74458358,  0.08584555]),\n",
       "           success=True))"
      ]
     },
     "execution_count": 65,
     "metadata": {},
     "output_type": "execute_result"
    }
   ],
   "source": [
    "# Solution goes here\n",
    "best_params, fit_details"
   ]
  },
  {
   "cell_type": "code",
   "execution_count": 66,
   "metadata": {},
   "outputs": [],
   "source": [
    "# Solution goes here\n",
    "system2 = make_system(best_params, data)\n",
    "results2, details2 = run_solve_ivp(system2, slope_func, t_eval=results.index)"
   ]
  },
  {
   "cell_type": "code",
   "execution_count": 67,
   "metadata": {},
   "outputs": [
    {
     "data": {
      "image/png": "[encoded data removed]",
      "text/plain": [
       "<Figure size 450x300 with 1 Axes>"
      ]
     },
     "metadata": {},
     "output_type": "display_data"
    }
   ],
   "source": [
    "# Solution goes here\n",
    "results.I.plot(label='simulation')\n",
    "results2.I.plot(label='fitted')\n",
    "decorate(xlabel='Time (min)',ylabel='Insulin Level')"
   ]
  },
  {
   "cell_type": "code",
   "execution_count": null,
   "metadata": {},
   "outputs": [],
   "source": [
    "# Solution goes here"
   ]
  },
  {
   "cell_type": "markdown",
   "metadata": {},
   "source": [
    "**Exercise:** Using the best parameters, estimate the sensitivity to glucose of the first and second phase pancreatic responsivity:\n",
    "\n",
    "$ \\phi_1 = \\frac{I_{max} - I_b}{k (G_0 - G_b)} $\n",
    "\n",
    "$ \\phi_2 = \\gamma \\times 10^4 $\n",
    "\n",
    "For $G_0$, use the best estimate from the glucose model, 272 mg/dL.  For $G_b$ and $I_b$, use the initial measurements from the data.\n",
    "For $I_{max}$ is the maximum measurement of insulin concentration."
   ]
  },
  {
   "cell_type": "code",
   "execution_count": 68,
   "metadata": {},
   "outputs": [
    {
     "data": {
      "text/plain": [
       "(272, np.int64(92), np.int64(11), 130)"
      ]
     },
     "execution_count": 68,
     "metadata": {},
     "output_type": "execute_result"
    }
   ],
   "source": [
    "# Solution goes here\n",
    "G0 = 272\n",
    "Gb = data.glucose[0]\n",
    "Ib = data.insulin[0]\n",
    "Imax = max(data.insulin)\n",
    "G0, Gb, Ib, Imax"
   ]
  },
  {
   "cell_type": "code",
   "execution_count": 69,
   "metadata": {},
   "outputs": [
    {
     "data": {
      "text/plain": [
       "(array([3.54332794e+02, 2.53012727e-01, 3.60582239e-03, 7.98119145e+01]),\n",
       " (360, 0.25, 0.004, 80))"
      ]
     },
     "execution_count": 69,
     "metadata": {},
     "output_type": "execute_result"
    }
   ],
   "source": [
    "# params = I0, k, gamma, G_T\n",
    "best_params, params"
   ]
  },
  {
   "cell_type": "code",
   "execution_count": 70,
   "metadata": {},
   "outputs": [
    {
     "data": {
      "text/plain": [
       "(np.float64(2.612955950391983), np.float64(36.05822391307365))"
      ]
     },
     "execution_count": 70,
     "metadata": {},
     "output_type": "execute_result"
    }
   ],
   "source": [
    "# Solution goes here\n",
    "phi_1 = (Imax - Ib) / ( best_params[1] * (G0 - Gb))\n",
    "phi_2 = best_params[2] * 10000\n",
    "phi_1, phi_2"
   ]
  },
  {
   "cell_type": "code",
   "execution_count": null,
   "metadata": {},
   "outputs": [],
   "source": [
    "# Solution goes here"
   ]
  },
  {
   "cell_type": "code",
   "execution_count": null,
   "metadata": {},
   "outputs": [],
   "source": [
    "# Solution goes here"
   ]
  },
  {
   "cell_type": "code",
   "execution_count": null,
   "metadata": {},
   "outputs": [],
   "source": [
    "# Solution goes here"
   ]
  },
  {
   "cell_type": "markdown",
   "metadata": {},
   "source": [
    "According to [Pacini and Bergman](https://www.researchgate.net/publication/13707725_Insulin_sensitivity_and_glucose_effectiveness_Minimal_model_analysis_of_regular_and_insulin-modified_FSIGT), here are the normal ranges for these quantities."
   ]
  },
  {
   "cell_type": "code",
   "execution_count": 72,
   "metadata": {},
   "outputs": [
    {
     "data": {
      "text/plain": [
       "(2, 4)"
      ]
     },
     "execution_count": 72,
     "metadata": {},
     "output_type": "execute_result"
    }
   ],
   "source": [
    "phi_1_interval = 2, 4\n",
    "phi_1_interval"
   ]
  },
  {
   "cell_type": "code",
   "execution_count": 73,
   "metadata": {},
   "outputs": [
    {
     "data": {
      "text/plain": [
       "(20, 35)"
      ]
     },
     "execution_count": 73,
     "metadata": {},
     "output_type": "execute_result"
    }
   ],
   "source": [
    "phi_2_interval = 20, 35\n",
    "phi_2_interval"
   ]
  },
  {
   "cell_type": "markdown",
   "metadata": {},
   "source": [
    "Do your estimates fall in these ranges?"
   ]
  },
  {
   "cell_type": "code",
   "execution_count": 76,
   "metadata": {},
   "outputs": [],
   "source": [
    "def in_range(phi, phi_range):\n",
    "    return phi > phi_range[0] and phi < phi_range[1]"
   ]
  },
  {
   "cell_type": "code",
   "execution_count": 77,
   "metadata": {},
   "outputs": [
    {
     "data": {
      "text/plain": [
       "(np.True_, np.False_)"
      ]
     },
     "execution_count": 77,
     "metadata": {},
     "output_type": "execute_result"
    }
   ],
   "source": [
    "in_range(phi_1, phi_1_interval), in_range(phi_2, phi_2_interval)"
   ]
  }
 ],
 "metadata": {
  "kernelspec": {
   "display_name": "Python 3 (ipykernel)",
   "language": "python",
   "name": "python3"
  },
  "language_info": {
   "codemirror_mode": {
    "name": "ipython",
    "version": 3
   },
   "file_extension": ".py",
   "mimetype": "text/x-python",
   "name": "python",
   "nbconvert_exporter": "python",
   "pygments_lexer": "ipython3",
   "version": "3.12.2"
  }
 },
 "nbformat": 4,
 "nbformat_minor": 2
}
