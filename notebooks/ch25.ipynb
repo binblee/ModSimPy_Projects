{
 "cells": [
  {
   "cell_type": "code",
   "execution_count": 37,
   "metadata": {},
   "outputs": [],
   "source": [
    "from modsim import *\n",
    "from numpy import pi\n",
    "import pandas as pd"
   ]
  },
  {
   "cell_type": "code",
   "execution_count": 73,
   "metadata": {},
   "outputs": [],
   "source": [
    "radius_disk = 0.5   # meters\n",
    "mass_disk = 7    # kg\n",
    "radius_pot = 0.4   # meters\n",
    "mass_pot = 0.3    # kg\n",
    "# force = 2.0       # Newtons\n",
    "force = 2       # Newtons\n",
    "\n",
    "theta_push = 0.5  # radians\n",
    "theta_test = 1.5 # radians\n",
    "theta_target = pi # radians"
   ]
  },
  {
   "cell_type": "code",
   "execution_count": 74,
   "metadata": {},
   "outputs": [],
   "source": [
    "I_disk = mass_disk * radius_disk**2 / 2\n",
    "I_pot = mass_pot * radius_pot**2\n",
    "I_total = I_disk + I_pot"
   ]
  },
  {
   "cell_type": "code",
   "execution_count": 75,
   "metadata": {},
   "outputs": [],
   "source": [
    "torque_friction = 0.3 # Newton-meters"
   ]
  },
  {
   "cell_type": "code",
   "execution_count": 99,
   "metadata": {},
   "outputs": [
    {
     "data": {
      "text/plain": [
       "namespace(init=theta    0\n",
       "               omega    0\n",
       "               Name: state, dtype: int64,\n",
       "          params=namespace(radius_disk=0.5,\n",
       "                           mass_disk=7,\n",
       "                           radius_pot=0.4,\n",
       "                           mass_pot=0.3,\n",
       "                           force=2,\n",
       "                           theta_push=0.5,\n",
       "                           theta_test=1.5,\n",
       "                           theta_target=3.141592653589793,\n",
       "                           I_disk=0.875,\n",
       "                           I_pot=0.04800000000000001,\n",
       "                           I_total=0.923,\n",
       "                           torque_friction=0.3),\n",
       "          t_end=20)"
      ]
     },
     "execution_count": 99,
     "metadata": {},
     "output_type": "execute_result"
    }
   ],
   "source": [
    "params = Params(radius_disk=radius_disk,\n",
    "                mass_disk=mass_disk,\n",
    "                radius_pot=radius_pot,\n",
    "                mass_pot=mass_pot,\n",
    "                force=force,\n",
    "                theta_push=theta_push,\n",
    "                theta_test=theta_test,\n",
    "                theta_target=theta_target,\n",
    "                I_disk=I_disk,\n",
    "                I_pot=I_pot,\n",
    "                I_total=I_total,\n",
    "                torque_friction=torque_friction)\n",
    "def make_system(params):\n",
    "    init = State(theta=0, omega=0)\n",
    "    system = System(init=init,\n",
    "                    params=params,\n",
    "                    t_end=20)\n",
    "    return system\n",
    "system = make_system(params)\n",
    "system"
   ]
  },
  {
   "cell_type": "code",
   "execution_count": 100,
   "metadata": {},
   "outputs": [],
   "source": [
    "def slope_func(t, state, system):\n",
    "    theta, omega = state\n",
    "    radius_disk, force = system.params.radius_disk, system.params.force\n",
    "    I_total = system.params.I_total\n",
    "    torque_friction = system.params.torque_friction\n",
    "    torque = radius_disk * force - torque_friction\n",
    "    alpha = torque / I_total\n",
    "    return omega, alpha"
   ]
  },
  {
   "cell_type": "code",
   "execution_count": 101,
   "metadata": {},
   "outputs": [
    {
     "data": {
      "text/plain": [
       "(0, 0.7583965330444203)"
      ]
     },
     "execution_count": 101,
     "metadata": {},
     "output_type": "execute_result"
    }
   ],
   "source": [
    "slope_func(0, system.init, system)"
   ]
  },
  {
   "cell_type": "code",
   "execution_count": 102,
   "metadata": {},
   "outputs": [],
   "source": [
    "def event_func1(t, state, system):\n",
    "    theta, omega = state\n",
    "    return theta - system.params.theta_push"
   ]
  },
  {
   "cell_type": "code",
   "execution_count": 103,
   "metadata": {},
   "outputs": [
    {
     "data": {
      "text/plain": [
       "-0.5"
      ]
     },
     "execution_count": 103,
     "metadata": {},
     "output_type": "execute_result"
    }
   ],
   "source": [
    "event_func1(0, system.init, system)"
   ]
  },
  {
   "cell_type": "code",
   "execution_count": 104,
   "metadata": {},
   "outputs": [
    {
     "data": {
      "text/plain": [
       "'A termination event occurred.'"
      ]
     },
     "execution_count": 104,
     "metadata": {},
     "output_type": "execute_result"
    }
   ],
   "source": [
    "results1, details1 = run_solve_ivp(system, slope_func, events=event_func1)\n",
    "details1.message"
   ]
  },
  {
   "cell_type": "code",
   "execution_count": 105,
   "metadata": {},
   "outputs": [
    {
     "data": {
      "text/html": [
       "<div>\n",
       "<style scoped>\n",
       "    .dataframe tbody tr th:only-of-type {\n",
       "        vertical-align: middle;\n",
       "    }\n",
       "\n",
       "    .dataframe tbody tr th {\n",
       "        vertical-align: top;\n",
       "    }\n",
       "\n",
       "    .dataframe thead th {\n",
       "        text-align: right;\n",
       "    }\n",
       "</style>\n",
       "<table border=\"1\" class=\"dataframe\">\n",
       "  <thead>\n",
       "    <tr style=\"text-align: right;\">\n",
       "      <th></th>\n",
       "      <th>theta</th>\n",
       "      <th>omega</th>\n",
       "    </tr>\n",
       "  </thead>\n",
       "  <tbody>\n",
       "    <tr>\n",
       "      <th>1.102359</th>\n",
       "      <td>0.46080</td>\n",
       "      <td>0.836025</td>\n",
       "    </tr>\n",
       "    <tr>\n",
       "      <th>1.113842</th>\n",
       "      <td>0.47045</td>\n",
       "      <td>0.844734</td>\n",
       "    </tr>\n",
       "    <tr>\n",
       "      <th>1.125325</th>\n",
       "      <td>0.48020</td>\n",
       "      <td>0.853442</td>\n",
       "    </tr>\n",
       "    <tr>\n",
       "      <th>1.136808</th>\n",
       "      <td>0.49005</td>\n",
       "      <td>0.862151</td>\n",
       "    </tr>\n",
       "    <tr>\n",
       "      <th>1.148291</th>\n",
       "      <td>0.50000</td>\n",
       "      <td>0.870860</td>\n",
       "    </tr>\n",
       "  </tbody>\n",
       "</table>\n",
       "</div>"
      ],
      "text/plain": [
       "            theta     omega\n",
       "1.102359  0.46080  0.836025\n",
       "1.113842  0.47045  0.844734\n",
       "1.125325  0.48020  0.853442\n",
       "1.136808  0.49005  0.862151\n",
       "1.148291  0.50000  0.870860"
      ]
     },
     "execution_count": 105,
     "metadata": {},
     "output_type": "execute_result"
    }
   ],
   "source": [
    "results1.tail()"
   ]
  },
  {
   "cell_type": "code",
   "execution_count": 106,
   "metadata": {},
   "outputs": [],
   "source": [
    "t_2 = results1.index[-1]\n",
    "init2 = results1.iloc[-1]"
   ]
  },
  {
   "cell_type": "code",
   "execution_count": 107,
   "metadata": {},
   "outputs": [
    {
     "data": {
      "text/plain": [
       "namespace(init=theta    0.50000\n",
       "               omega    0.87086\n",
       "               Name: 1.1482906550919196, dtype: float64,\n",
       "          params=namespace(radius_disk=0.5,\n",
       "                           mass_disk=7,\n",
       "                           radius_pot=0.4,\n",
       "                           mass_pot=0.3,\n",
       "                           force=0,\n",
       "                           theta_push=0.5,\n",
       "                           theta_test=1.5,\n",
       "                           theta_target=3.141592653589793,\n",
       "                           I_disk=0.875,\n",
       "                           I_pot=0.04800000000000001,\n",
       "                           I_total=0.923,\n",
       "                           torque_friction=0.3),\n",
       "          t_end=20,\n",
       "          t_0=np.float64(1.1482906550919196))"
      ]
     },
     "execution_count": 107,
     "metadata": {},
     "output_type": "execute_result"
    }
   ],
   "source": [
    "system2 = system.set(init=init2, t_0=t_2, params=params.set(force=0))\n",
    "system2"
   ]
  },
  {
   "cell_type": "code",
   "execution_count": 108,
   "metadata": {},
   "outputs": [],
   "source": [
    "def event_func2(t, state, system):\n",
    "    theta, omega = state\n",
    "    return omega"
   ]
  },
  {
   "cell_type": "code",
   "execution_count": 109,
   "metadata": {},
   "outputs": [
    {
     "data": {
      "text/plain": [
       "0.8708596517490182"
      ]
     },
     "execution_count": 109,
     "metadata": {},
     "output_type": "execute_result"
    }
   ],
   "source": [
    "event_func2(0, system2.init, system2)"
   ]
  },
  {
   "cell_type": "code",
   "execution_count": 110,
   "metadata": {},
   "outputs": [
    {
     "data": {
      "text/plain": [
       "'A termination event occurred.'"
      ]
     },
     "execution_count": 110,
     "metadata": {},
     "output_type": "execute_result"
    }
   ],
   "source": [
    "results2, details2 = run_solve_ivp(system2, slope_func, events=event_func2)\n",
    "details2.message"
   ]
  },
  {
   "cell_type": "code",
   "execution_count": 111,
   "metadata": {},
   "outputs": [],
   "source": [
    "results = pd.concat([results1, results2])"
   ]
  },
  {
   "cell_type": "code",
   "execution_count": 112,
   "metadata": {},
   "outputs": [
    {
     "data": {
      "text/html": [
       "<div>\n",
       "<style scoped>\n",
       "    .dataframe tbody tr th:only-of-type {\n",
       "        vertical-align: middle;\n",
       "    }\n",
       "\n",
       "    .dataframe tbody tr th {\n",
       "        vertical-align: top;\n",
       "    }\n",
       "\n",
       "    .dataframe thead th {\n",
       "        text-align: right;\n",
       "    }\n",
       "</style>\n",
       "<table border=\"1\" class=\"dataframe\">\n",
       "  <thead>\n",
       "    <tr style=\"text-align: right;\">\n",
       "      <th></th>\n",
       "      <th>theta</th>\n",
       "      <th>omega</th>\n",
       "    </tr>\n",
       "  </thead>\n",
       "  <tbody>\n",
       "    <tr>\n",
       "      <th>3.720462</th>\n",
       "      <td>1.664800</td>\n",
       "      <td>3.483439e-02</td>\n",
       "    </tr>\n",
       "    <tr>\n",
       "      <th>3.747255</th>\n",
       "      <td>1.665617</td>\n",
       "      <td>2.612579e-02</td>\n",
       "    </tr>\n",
       "    <tr>\n",
       "      <th>3.774049</th>\n",
       "      <td>1.666200</td>\n",
       "      <td>1.741719e-02</td>\n",
       "    </tr>\n",
       "    <tr>\n",
       "      <th>3.800842</th>\n",
       "      <td>1.666550</td>\n",
       "      <td>8.708597e-03</td>\n",
       "    </tr>\n",
       "    <tr>\n",
       "      <th>3.827636</th>\n",
       "      <td>1.666667</td>\n",
       "      <td>-2.220446e-16</td>\n",
       "    </tr>\n",
       "  </tbody>\n",
       "</table>\n",
       "</div>"
      ],
      "text/plain": [
       "             theta         omega\n",
       "3.720462  1.664800  3.483439e-02\n",
       "3.747255  1.665617  2.612579e-02\n",
       "3.774049  1.666200  1.741719e-02\n",
       "3.800842  1.666550  8.708597e-03\n",
       "3.827636  1.666667 -2.220446e-16"
      ]
     },
     "execution_count": 112,
     "metadata": {},
     "output_type": "execute_result"
    }
   ],
   "source": [
    "results.tail()"
   ]
  },
  {
   "cell_type": "code",
   "execution_count": 113,
   "metadata": {},
   "outputs": [
    {
     "data": {
      "image/png": "[encoded data removed]",
      "text/plain": [
       "<Figure size 450x300 with 1 Axes>"
      ]
     },
     "metadata": {},
     "output_type": "display_data"
    }
   ],
   "source": [
    "results.theta.plot()\n",
    "decorate(xlabel='Time (s)',ylabel='Angle (rad)')"
   ]
  },
  {
   "cell_type": "code",
   "execution_count": 114,
   "metadata": {},
   "outputs": [
    {
     "data": {
      "image/png": "[encoded data removed]",
      "text/plain": [
       "<Figure size 450x300 with 1 Axes>"
      ]
     },
     "metadata": {},
     "output_type": "display_data"
    }
   ],
   "source": [
    "results.omega.plot()\n",
    "decorate(xlabel='Time (s)',ylabel='Angular velocity (rad/s)')"
   ]
  },
  {
   "cell_type": "code",
   "execution_count": 124,
   "metadata": {},
   "outputs": [],
   "source": [
    "def run_two_phases(force, torque_friction, system):\n",
    "    # put the specified parameters into the system object\n",
    "    system_1 = system.set(params=params.set(\n",
    "                    force=force, \n",
    "                    torque_friction=torque_friction)\n",
    "                )\n",
    "    # run phase1\n",
    "    results1, details1 = run_solve_ivp(system_1, slope_func, events=event_func1)\n",
    " \n",
    "    # get the final state of phase1\n",
    "    t_2 = results1.index[-1]\n",
    "    init2 = results1.iloc[-1]\n",
    " \n",
    "    # set the initial conditions for phase2\n",
    "    system_2 = system_1.set(init=init2, t_0=t_2, params=params.set(force=0,torque_friction=torque_friction))\n",
    "\n",
    "    # run phase2\n",
    "    results2, details2 = run_solve_ivp(system_2, slope_func, events=event_func2)\n",
    " \n",
    "    # combine the results\n",
    "    results = pd.concat([results1, results2])\n",
    "    return results"
   ]
  },
  {
   "cell_type": "code",
   "execution_count": 125,
   "metadata": {},
   "outputs": [],
   "source": [
    "results = run_two_phases(2, 0.3, system)"
   ]
  },
  {
   "cell_type": "code",
   "execution_count": 126,
   "metadata": {},
   "outputs": [
    {
     "data": {
      "text/html": [
       "<div>\n",
       "<style scoped>\n",
       "    .dataframe tbody tr th:only-of-type {\n",
       "        vertical-align: middle;\n",
       "    }\n",
       "\n",
       "    .dataframe tbody tr th {\n",
       "        vertical-align: top;\n",
       "    }\n",
       "\n",
       "    .dataframe thead th {\n",
       "        text-align: right;\n",
       "    }\n",
       "</style>\n",
       "<table border=\"1\" class=\"dataframe\">\n",
       "  <thead>\n",
       "    <tr style=\"text-align: right;\">\n",
       "      <th></th>\n",
       "      <th>theta</th>\n",
       "      <th>omega</th>\n",
       "    </tr>\n",
       "  </thead>\n",
       "  <tbody>\n",
       "    <tr>\n",
       "      <th>3.720462</th>\n",
       "      <td>1.664800</td>\n",
       "      <td>3.483439e-02</td>\n",
       "    </tr>\n",
       "    <tr>\n",
       "      <th>3.747255</th>\n",
       "      <td>1.665617</td>\n",
       "      <td>2.612579e-02</td>\n",
       "    </tr>\n",
       "    <tr>\n",
       "      <th>3.774049</th>\n",
       "      <td>1.666200</td>\n",
       "      <td>1.741719e-02</td>\n",
       "    </tr>\n",
       "    <tr>\n",
       "      <th>3.800842</th>\n",
       "      <td>1.666550</td>\n",
       "      <td>8.708597e-03</td>\n",
       "    </tr>\n",
       "    <tr>\n",
       "      <th>3.827636</th>\n",
       "      <td>1.666667</td>\n",
       "      <td>-2.220446e-16</td>\n",
       "    </tr>\n",
       "  </tbody>\n",
       "</table>\n",
       "</div>"
      ],
      "text/plain": [
       "             theta         omega\n",
       "3.720462  1.664800  3.483439e-02\n",
       "3.747255  1.665617  2.612579e-02\n",
       "3.774049  1.666200  1.741719e-02\n",
       "3.800842  1.666550  8.708597e-03\n",
       "3.827636  1.666667 -2.220446e-16"
      ]
     },
     "execution_count": 126,
     "metadata": {},
     "output_type": "execute_result"
    }
   ],
   "source": [
    "results.tail()"
   ]
  },
  {
   "cell_type": "code",
   "execution_count": 127,
   "metadata": {},
   "outputs": [],
   "source": [
    "def error_func1(torque_friction, system):\n",
    "    force = system.params.force\n",
    "    results = run_two_phases(force, torque_friction, system)\n",
    "    theta_final = results.iloc[-1].theta\n",
    "    print(torque_friction, theta_final)\n",
    "    return theta_final - system.params.theta_test\n"
   ]
  },
  {
   "cell_type": "code",
   "execution_count": 128,
   "metadata": {},
   "outputs": [
    {
     "name": "stdout",
     "output_type": "stream",
     "text": [
      "0.3 1.666666666666669\n"
     ]
    },
    {
     "data": {
      "text/plain": [
       "np.float64(0.16666666666666896)"
      ]
     },
     "execution_count": 128,
     "metadata": {},
     "output_type": "execute_result"
    }
   ],
   "source": [
    "guess1 = 0.3\n",
    "error_func1(guess1, system)"
   ]
  },
  {
   "cell_type": "code",
   "execution_count": 129,
   "metadata": {},
   "outputs": [
    {
     "name": "stdout",
     "output_type": "stream",
     "text": [
      "0.4 1.2499999999999996\n"
     ]
    },
    {
     "data": {
      "text/plain": [
       "np.float64(-0.25000000000000044)"
      ]
     },
     "execution_count": 129,
     "metadata": {},
     "output_type": "execute_result"
    }
   ],
   "source": [
    "guess2 = 0.4\n",
    "error_func1(guess2, system)"
   ]
  },
  {
   "cell_type": "code",
   "execution_count": 131,
   "metadata": {},
   "outputs": [
    {
     "name": "stdout",
     "output_type": "stream",
     "text": [
      "0.3 1.666666666666669\n",
      "0.3 1.666666666666669\n",
      "0.5 1.0000000000000016\n",
      "0.35000000000000064 1.4285714285714257\n",
      "0.3350000000000002 1.492537313432838\n",
      "0.3333250000000007 1.5000375009375202\n",
      "0.3333416662510007 1.4999625028078805\n"
     ]
    }
   ],
   "source": [
    "res = root_scalar(error_func1, system, bracket=[0.3, 0.5])"
   ]
  },
  {
   "cell_type": "code",
   "execution_count": 132,
   "metadata": {},
   "outputs": [
    {
     "data": {
      "text/plain": [
       "0.3333416662510007"
      ]
     },
     "execution_count": 132,
     "metadata": {},
     "output_type": "execute_result"
    }
   ],
   "source": [
    "actual_fraction = res.root\n",
    "actual_fraction"
   ]
  },
  {
   "cell_type": "code",
   "execution_count": 138,
   "metadata": {},
   "outputs": [],
   "source": [
    "from matplotlib.patches import Circle\n",
    "from matplotlib.pyplot import gca, axis\n",
    "def draw_func(t, state):\n",
    "    theta, omega = state\n",
    "    # draw a circle for the table\n",
    "    table = Circle((0, 0), radius_disk)\n",
    "    gca().add_patch(table)\n",
    "\n",
    "    # draw a circle for the teapot\n",
    "    center = pol2cart(theta, radius_pot)\n",
    "    teapot = Circle(center, 0.05, color='C1')\n",
    "    gca().add_patch(teapot)\n",
    "    axis('equal')\n",
    "\n"
   ]
  },
  {
   "cell_type": "code",
   "execution_count": 140,
   "metadata": {},
   "outputs": [
    {
     "data": {
      "image/png": "[encoded data removed]",
      "text/plain": [
       "<Figure size 450x300 with 1 Axes>"
      ]
     },
     "metadata": {},
     "output_type": "display_data"
    }
   ],
   "source": [
    "draw_func(0, system.init)"
   ]
  },
  {
   "cell_type": "code",
   "execution_count": 143,
   "metadata": {},
   "outputs": [
    {
     "data": {
      "image/png": "[encoded data removed]",
      "text/plain": [
       "<Figure size 450x300 with 1 Axes>"
      ]
     },
     "metadata": {},
     "output_type": "display_data"
    }
   ],
   "source": [
    "animate(results, draw_func)"
   ]
  },
  {
   "cell_type": "code",
   "execution_count": 144,
   "metadata": {},
   "outputs": [
    {
     "data": {
      "text/plain": [
       "namespace(init=theta    0\n",
       "               omega    0\n",
       "               Name: state, dtype: int64,\n",
       "          params=namespace(radius_disk=0.5,\n",
       "                           mass_disk=7,\n",
       "                           radius_pot=0.4,\n",
       "                           mass_pot=0.3,\n",
       "                           force=2,\n",
       "                           theta_push=0.5,\n",
       "                           theta_test=1.5,\n",
       "                           theta_target=3.141592653589793,\n",
       "                           I_disk=0.875,\n",
       "                           I_pot=0.04800000000000001,\n",
       "                           I_total=0.923,\n",
       "                           torque_friction=0.3333416662510007),\n",
       "          t_end=20)"
      ]
     },
     "execution_count": 144,
     "metadata": {},
     "output_type": "execute_result"
    }
   ],
   "source": [
    "# Exercise 25.1\n",
    "system3 = make_system(params.set(torque_friction=actual_fraction))\n",
    "system3"
   ]
  },
  {
   "cell_type": "code",
   "execution_count": 145,
   "metadata": {},
   "outputs": [
    {
     "data": {
      "text/plain": [
       "1.6415926535897931"
      ]
     },
     "execution_count": 145,
     "metadata": {},
     "output_type": "execute_result"
    }
   ],
   "source": [
    "remaining_angle = theta_target - theta_test\n",
    "remaining_angle"
   ]
  },
  {
   "cell_type": "code",
   "execution_count": 146,
   "metadata": {},
   "outputs": [],
   "source": [
    "def error_func2(force, system):\n",
    "    torque_friction = system.params.torque_friction\n",
    "    results = run_two_phases(force, torque_friction, system)\n",
    "    theta_final = results.iloc[-1].theta\n",
    "    print(force, theta_final)\n",
    "    return theta_final - system.params.theta_target"
   ]
  },
  {
   "cell_type": "code",
   "execution_count": 149,
   "metadata": {},
   "outputs": [
    {
     "data": {
      "text/plain": [
       "namespace(init=theta    0\n",
       "               omega    0\n",
       "               Name: state, dtype: int64,\n",
       "          params=namespace(radius_disk=0.5,\n",
       "                           mass_disk=7,\n",
       "                           radius_pot=0.4,\n",
       "                           mass_pot=0.3,\n",
       "                           force=2,\n",
       "                           theta_push=0.5,\n",
       "                           theta_test=1.5,\n",
       "                           theta_target=3.141592653589793,\n",
       "                           I_disk=0.875,\n",
       "                           I_pot=0.04800000000000001,\n",
       "                           I_total=0.923,\n",
       "                           torque_friction=0.3333416662510007),\n",
       "          t_end=20)"
      ]
     },
     "execution_count": 149,
     "metadata": {},
     "output_type": "execute_result"
    }
   ],
   "source": [
    "system3"
   ]
  },
  {
   "cell_type": "code",
   "execution_count": 150,
   "metadata": {},
   "outputs": [
    {
     "name": "stdout",
     "output_type": "stream",
     "text": [
      "2 1.4999625028078805\n"
     ]
    },
    {
     "data": {
      "text/plain": [
       "np.float64(-1.6416301507819127)"
      ]
     },
     "execution_count": 150,
     "metadata": {},
     "output_type": "execute_result"
    }
   ],
   "source": [
    "error_func2(2, system3)"
   ]
  },
  {
   "cell_type": "code",
   "execution_count": 152,
   "metadata": {},
   "outputs": [
    {
     "name": "stdout",
     "output_type": "stream",
     "text": [
      "1 0.7499812514039405\n",
      "1.0 0.7499812514039405\n",
      "10.0 7.4998125140393945\n",
      "4.1888949193181 3.1415926535897896\n",
      "4.1891043640650665 3.141749733223219\n"
     ]
    },
    {
     "data": {
      "text/plain": [
       "      converged: True\n",
       "           flag: converged\n",
       " function_calls: 4\n",
       "     iterations: 3\n",
       "           root: 4.1888949193181\n",
       "         method: brentq"
      ]
     },
     "execution_count": 152,
     "metadata": {},
     "output_type": "execute_result"
    }
   ],
   "source": [
    "res = root_scalar(error_func2, system3, bracket=[1, 10])\n",
    "res"
   ]
  },
  {
   "cell_type": "code",
   "execution_count": 155,
   "metadata": {},
   "outputs": [
    {
     "data": {
      "text/plain": [
       "4.1888949193181"
      ]
     },
     "execution_count": 155,
     "metadata": {},
     "output_type": "execute_result"
    }
   ],
   "source": [
    "force_actual = res.root\n",
    "force_actual"
   ]
  },
  {
   "cell_type": "code",
   "execution_count": 156,
   "metadata": {},
   "outputs": [
    {
     "data": {
      "text/plain": [
       "namespace(init=theta    0\n",
       "               omega    0\n",
       "               Name: state, dtype: int64,\n",
       "          params=namespace(radius_disk=0.5,\n",
       "                           mass_disk=7,\n",
       "                           radius_pot=0.4,\n",
       "                           mass_pot=0.3,\n",
       "                           force=4.1888949193181,\n",
       "                           theta_push=0.5,\n",
       "                           theta_test=1.5,\n",
       "                           theta_target=3.141592653589793,\n",
       "                           I_disk=0.875,\n",
       "                           I_pot=0.04800000000000001,\n",
       "                           I_total=0.923,\n",
       "                           torque_friction=0.3333416662510007),\n",
       "          t_end=20)"
      ]
     },
     "execution_count": 156,
     "metadata": {},
     "output_type": "execute_result"
    }
   ],
   "source": [
    "system4 = make_system(params.set(force=force_actual, torque_friction=actual_fraction))\n",
    "system4"
   ]
  },
  {
   "cell_type": "code",
   "execution_count": 157,
   "metadata": {},
   "outputs": [
    {
     "data": {
      "text/html": [
       "<div>\n",
       "<style scoped>\n",
       "    .dataframe tbody tr th:only-of-type {\n",
       "        vertical-align: middle;\n",
       "    }\n",
       "\n",
       "    .dataframe tbody tr th {\n",
       "        vertical-align: top;\n",
       "    }\n",
       "\n",
       "    .dataframe thead th {\n",
       "        text-align: right;\n",
       "    }\n",
       "</style>\n",
       "<table border=\"1\" class=\"dataframe\">\n",
       "  <thead>\n",
       "    <tr style=\"text-align: right;\">\n",
       "      <th></th>\n",
       "      <th>theta</th>\n",
       "      <th>omega</th>\n",
       "    </tr>\n",
       "  </thead>\n",
       "  <tbody>\n",
       "    <tr>\n",
       "      <th>4.395717</th>\n",
       "      <td>3.137366</td>\n",
       "      <td>0.055252</td>\n",
       "    </tr>\n",
       "    <tr>\n",
       "      <th>4.433965</th>\n",
       "      <td>3.139215</td>\n",
       "      <td>0.041439</td>\n",
       "    </tr>\n",
       "    <tr>\n",
       "      <th>4.472212</th>\n",
       "      <td>3.140536</td>\n",
       "      <td>0.027626</td>\n",
       "    </tr>\n",
       "    <tr>\n",
       "      <th>4.510460</th>\n",
       "      <td>3.141328</td>\n",
       "      <td>0.013813</td>\n",
       "    </tr>\n",
       "    <tr>\n",
       "      <th>4.548707</th>\n",
       "      <td>3.141593</td>\n",
       "      <td>0.000000</td>\n",
       "    </tr>\n",
       "  </tbody>\n",
       "</table>\n",
       "</div>"
      ],
      "text/plain": [
       "             theta     omega\n",
       "4.395717  3.137366  0.055252\n",
       "4.433965  3.139215  0.041439\n",
       "4.472212  3.140536  0.027626\n",
       "4.510460  3.141328  0.013813\n",
       "4.548707  3.141593  0.000000"
      ]
     },
     "execution_count": 157,
     "metadata": {},
     "output_type": "execute_result"
    }
   ],
   "source": [
    "results = run_two_phases(force_actual, actual_fraction, system4)\n",
    "results.tail()"
   ]
  }
 ],
 "metadata": {
  "kernelspec": {
   "display_name": "modsimpy",
   "language": "python",
   "name": "python3"
  },
  "language_info": {
   "codemirror_mode": {
    "name": "ipython",
    "version": 3
   },
   "file_extension": ".py",
   "mimetype": "text/x-python",
   "name": "python",
   "nbconvert_exporter": "python",
   "pygments_lexer": "ipython3",
   "version": "3.12.2"
  }
 },
 "nbformat": 4,
 "nbformat_minor": 2
}
