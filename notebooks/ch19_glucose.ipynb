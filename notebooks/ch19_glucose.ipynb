{
 "cells": [
  {
   "cell_type": "markdown",
   "metadata": {},
   "source": [
    "# The Glucose Minimal Model"
   ]
  },
  {
   "cell_type": "markdown",
   "metadata": {},
   "source": [
    "*Modeling and Simulation in Python*\n",
    "\n",
    "Copyright 2021 Allen Downey\n",
    "\n",
    "License: [Creative Commons Attribution-NonCommercial-ShareAlike 4.0 International](https://creativecommons.org/licenses/by-nc-sa/4.0/)"
   ]
  },
  {
   "cell_type": "code",
   "execution_count": 1,
   "metadata": {
    "tags": []
   },
   "outputs": [],
   "source": [
    "# download modsim.py if necessary\n",
    "\n",
    "from os.path import basename, exists\n",
    "\n",
    "def download(url):\n",
    "    filename = basename(url)\n",
    "    if not exists(filename):\n",
    "        from urllib.request import urlretrieve\n",
    "        local, _ = urlretrieve(url, filename)\n",
    "        print('Downloaded ' + local)\n",
    "    \n",
    "download('https://github.com/AllenDowney/ModSimPy/raw/master/modsim.py')"
   ]
  },
  {
   "cell_type": "code",
   "execution_count": 1,
   "metadata": {
    "tags": []
   },
   "outputs": [],
   "source": [
    "# import functions from modsim\n",
    "\n",
    "from modsim import *"
   ]
  },
  {
   "cell_type": "markdown",
   "metadata": {},
   "source": [
    "In the previous chapter we implemented the glucose minimal model using given parameters, but I didn't say where those parameters came from.\n",
    "This notebook solves the mystery.\n",
    "\n",
    "We'll use a SciPy function called `leastsq`, which stands for \"least squares\"; that is, it finds the parameters that minimize the sum of squared differences between the results of the model and the data.\n",
    "\n",
    "You can think of `leastsq` as optional material.  We won't use it in the book itself, but it appears in a few of the case studies.\n",
    "\n",
    "You can read more about `leastsq` in [the SciPy documentation](https://docs.scipy.org/doc/scipy/reference/generated/scipy.optimize.leastsq.html).  It uses the Levenberg-Marquart algorithm, which you can read about [on Wikipedia](https://en.wikipedia.org/wiki/Levenberg%E2%80%93Marquardt_algorithm)."
   ]
  },
  {
   "cell_type": "markdown",
   "metadata": {},
   "source": [
    "The following cells download and read the data."
   ]
  },
  {
   "cell_type": "code",
   "execution_count": 3,
   "metadata": {},
   "outputs": [],
   "source": [
    "download('https://github.com/AllenDowney/ModSim/raw/main/data/' +\n",
    "         'glucose_insulin.csv')"
   ]
  },
  {
   "cell_type": "code",
   "execution_count": 2,
   "metadata": {},
   "outputs": [],
   "source": [
    "data = pd.read_csv('glucose_insulin.csv', index_col='time');"
   ]
  },
  {
   "cell_type": "markdown",
   "metadata": {},
   "source": [
    "We'll use `make_system` and `slope_func` as defined in Chapter 18."
   ]
  },
  {
   "cell_type": "code",
   "execution_count": 5,
   "metadata": {},
   "outputs": [],
   "source": [
    "download('https://github.com/AllenDowney/ModSimPy/raw/master/' +\n",
    "         'chap18.py')"
   ]
  },
  {
   "cell_type": "code",
   "execution_count": 6,
   "metadata": {},
   "outputs": [],
   "source": [
    "from chap18 import make_system\n",
    "from chap18 import slope_func"
   ]
  },
  {
   "cell_type": "code",
   "execution_count": 3,
   "metadata": {},
   "outputs": [],
   "source": [
    "def make_system(params, data):\n",
    "    G0, k1, k2, k3 = params\n",
    "    t_0 = data.index[0]\n",
    "    t_end = data.index[-1]\n",
    "    Gb = data.glucose[t_0]\n",
    "    Ib = data.insulin[t_0]\n",
    "    I = interpolate(data.insulin)\n",
    "    init = State(G=G0, X=0)\n",
    "    return System(init=init, params=params, Gb=Gb, Ib=Ib, I=I, t_0=t_0, t_end=t_end, dt=2)\n",
    "\n",
    "def slope_func(t, state, system):\n",
    "    G, X = state\n",
    "    G0, k1, k2, k3 = system.params\n",
    "    Gb, Ib, I = system.Gb, system.Ib, system.I\n",
    "    dGdt = -k1 * (G - Gb) - X * G\n",
    "    dXdt = k3 * (I(t) - Ib) - k2 * X\n",
    "    return dGdt, dXdt"
   ]
  },
  {
   "cell_type": "markdown",
   "metadata": {},
   "source": [
    "## Computing errors\n",
    "\n",
    "In this context, the \"errors\" are the differences between the results from the model and the data.\n",
    "\n",
    "To compute the errors, I'll start again with the parameters we used in Chapter 18."
   ]
  },
  {
   "cell_type": "code",
   "execution_count": 4,
   "metadata": {},
   "outputs": [],
   "source": [
    "G0 = 270\n",
    "k1 = 0.02\n",
    "k2 = 0.02\n",
    "k3 = 1.5e-05"
   ]
  },
  {
   "cell_type": "code",
   "execution_count": 5,
   "metadata": {},
   "outputs": [],
   "source": [
    "params = G0, k1, k2, k3"
   ]
  },
  {
   "cell_type": "markdown",
   "metadata": {},
   "source": [
    "`make_system` takes the parameters and actual data and returns a `System` object."
   ]
  },
  {
   "cell_type": "code",
   "execution_count": 6,
   "metadata": {},
   "outputs": [],
   "source": [
    "system = make_system(params, data)"
   ]
  },
  {
   "cell_type": "markdown",
   "metadata": {},
   "source": [
    "Here's how we run the ODE solver."
   ]
  },
  {
   "cell_type": "code",
   "execution_count": 7,
   "metadata": {},
   "outputs": [
    {
     "data": {
      "text/plain": [
       "'The solver successfully reached the end of the integration interval.'"
      ]
     },
     "execution_count": 7,
     "metadata": {},
     "output_type": "execute_result"
    }
   ],
   "source": [
    "results, details = run_solve_ivp(system, slope_func, \n",
    "                                 t_eval=data.index)\n",
    "details.message"
   ]
  },
  {
   "cell_type": "markdown",
   "metadata": {},
   "source": [
    "Because we specify `t_eval=data.index`, the results are evaluated at the some time stamps as the data."
   ]
  },
  {
   "cell_type": "code",
   "execution_count": 8,
   "metadata": {},
   "outputs": [
    {
     "data": {
      "text/html": [
       "<div>\n",
       "<style scoped>\n",
       "    .dataframe tbody tr th:only-of-type {\n",
       "        vertical-align: middle;\n",
       "    }\n",
       "\n",
       "    .dataframe tbody tr th {\n",
       "        vertical-align: top;\n",
       "    }\n",
       "\n",
       "    .dataframe thead th {\n",
       "        text-align: right;\n",
       "    }\n",
       "</style>\n",
       "<table border=\"1\" class=\"dataframe\">\n",
       "  <thead>\n",
       "    <tr style=\"text-align: right;\">\n",
       "      <th></th>\n",
       "      <th>G</th>\n",
       "      <th>X</th>\n",
       "    </tr>\n",
       "  </thead>\n",
       "  <tbody>\n",
       "    <tr>\n",
       "      <th>102</th>\n",
       "      <td>80.894528</td>\n",
       "      <td>0.003535</td>\n",
       "    </tr>\n",
       "    <tr>\n",
       "      <th>122</th>\n",
       "      <td>80.997119</td>\n",
       "      <td>0.001861</td>\n",
       "    </tr>\n",
       "    <tr>\n",
       "      <th>142</th>\n",
       "      <td>83.257581</td>\n",
       "      <td>0.000384</td>\n",
       "    </tr>\n",
       "    <tr>\n",
       "      <th>162</th>\n",
       "      <td>86.293945</td>\n",
       "      <td>-0.000459</td>\n",
       "    </tr>\n",
       "    <tr>\n",
       "      <th>182</th>\n",
       "      <td>89.405110</td>\n",
       "      <td>-0.001178</td>\n",
       "    </tr>\n",
       "  </tbody>\n",
       "</table>\n",
       "</div>"
      ],
      "text/plain": [
       "             G         X\n",
       "102  80.894528  0.003535\n",
       "122  80.997119  0.001861\n",
       "142  83.257581  0.000384\n",
       "162  86.293945 -0.000459\n",
       "182  89.405110 -0.001178"
      ]
     },
     "execution_count": 8,
     "metadata": {},
     "output_type": "execute_result"
    }
   ],
   "source": [
    "results.tail()"
   ]
  },
  {
   "cell_type": "markdown",
   "metadata": {},
   "source": [
    "We can plot the results like this."
   ]
  },
  {
   "cell_type": "code",
   "execution_count": 9,
   "metadata": {},
   "outputs": [
    {
     "data": {
      "image/png": "[encoded data removed]",
      "text/plain": [
       "<Figure size 450x300 with 1 Axes>"
      ]
     },
     "metadata": {},
     "output_type": "display_data"
    }
   ],
   "source": [
    "data.glucose.plot(style='o', alpha=0.5, label='data')\n",
    "results.G.plot(style='-', color='C0', label='model')\n",
    "\n",
    "decorate(xlabel='Time (min)',\n",
    "         ylabel='Concentration (mg/dL)')"
   ]
  },
  {
   "cell_type": "markdown",
   "metadata": {},
   "source": [
    "During the first three time steps, the model does not fit the data. That's because it takes some time for the injected glucose to disperse.\n",
    "\n",
    "We can compute the errors like this."
   ]
  },
  {
   "cell_type": "code",
   "execution_count": 10,
   "metadata": {},
   "outputs": [
    {
     "data": {
      "text/plain": [
       "0    178.000000\n",
       "2    -87.019058\n",
       "4    -31.316545\n",
       "6     -3.684558\n",
       "8     -1.728149\n",
       "dtype: float64"
      ]
     },
     "execution_count": 10,
     "metadata": {},
     "output_type": "execute_result"
    }
   ],
   "source": [
    "errors = results.G - data.glucose\n",
    "errors.head()"
   ]
  },
  {
   "cell_type": "markdown",
   "metadata": {},
   "source": [
    "The first few errors are substantially larger than the rest.\n",
    "\n",
    "In the next section, we'll use `leastsq` to search for the parameters that minimize the sum of the squared errors."
   ]
  },
  {
   "cell_type": "markdown",
   "metadata": {},
   "source": [
    "## Optimization\n",
    "\n",
    "To use `leastsq`, we need an \"error function\" that takes a sequence of parameters and returns an array of errors.\n",
    "\n",
    "Here's a function that does what we need."
   ]
  },
  {
   "cell_type": "code",
   "execution_count": 11,
   "metadata": {},
   "outputs": [],
   "source": [
    "def error_func(params, data):\n",
    "    \"\"\"Computes an array of errors to be minimized.\n",
    "    \n",
    "    params: sequence of parameters\n",
    "    data: DataFrame of values to be matched\n",
    "    \n",
    "    returns: array of errors\n",
    "    \"\"\"\n",
    "    print(params)\n",
    "    \n",
    "    # make a System with the given parameters\n",
    "    system = make_system(params, data)\n",
    "    \n",
    "    # solve the ODE\n",
    "    results, details = run_solve_ivp(system, slope_func, \n",
    "                                     t_eval=data.index)\n",
    "    \n",
    "    # compute the difference between the model\n",
    "    # results and actual data\n",
    "    errors = results.G - data.glucose\n",
    "    return errors.iloc[3:]"
   ]
  },
  {
   "cell_type": "markdown",
   "metadata": {},
   "source": [
    "`error_func` uses the given parameters to make a `System` object, runs the simulation, and returns the errors.\n",
    "\n",
    "But notice that it does not return all of the errors; rather, it uses `iloc` to select only the elements with index 3 or more.\n",
    "In other words, it omits the elements with index 0, 1, and 2.\n",
    "Note: You can read more about this use of `iloc` [in the Pandas documentation](https://pandas.pydata.org/pandas-docs/stable/indexing.html#indexing-integer).\n",
    "\n",
    "Since we don't expect the model to fit the data in this regime, we'll leave it out.\n",
    "\n",
    "We can call `error_func` like this:"
   ]
  },
  {
   "cell_type": "code",
   "execution_count": 12,
   "metadata": {},
   "outputs": [
    {
     "name": "stdout",
     "output_type": "stream",
     "text": [
      "(270, 0.02, 0.02, 1.5e-05)\n"
     ]
    },
    {
     "data": {
      "text/plain": [
       "6      -3.684558\n",
       "8      -1.728149\n",
       "10     13.294083\n",
       "12      9.425807\n",
       "14      6.752546\n",
       "16      7.353682\n",
       "19     -0.610979\n",
       "22      8.260041\n",
       "27      0.569221\n",
       "32      6.984791\n",
       "42      1.228652\n",
       "52      3.302437\n",
       "62      4.855592\n",
       "72      5.283959\n",
       "82      7.627294\n",
       "92      0.046105\n",
       "102    -0.105472\n",
       "122    -1.002881\n",
       "142     1.257581\n",
       "162     1.293945\n",
       "182    -0.594890\n",
       "dtype: float64"
      ]
     },
     "execution_count": 12,
     "metadata": {},
     "output_type": "execute_result"
    }
   ],
   "source": [
    "error_func(params, data)"
   ]
  },
  {
   "cell_type": "markdown",
   "metadata": {},
   "source": [
    "Now we're ready to call `leastsq`.  As arguments, we pass `error_func`, the parameters where we want to start the search, and the data, which will be passed as an argument to `error_func`."
   ]
  },
  {
   "cell_type": "code",
   "execution_count": 13,
   "metadata": {},
   "outputs": [
    {
     "name": "stdout",
     "output_type": "stream",
     "text": [
      "[2.7e+02 2.0e-02 2.0e-02 1.5e-05]\n",
      "[2.7e+02 2.0e-02 2.0e-02 1.5e-05]\n",
      "[2.7e+02 2.0e-02 2.0e-02 1.5e-05]\n",
      "[2.70000004e+02 2.00000000e-02 2.00000000e-02 1.50000000e-05]\n",
      "[2.70000000e+02 2.00000003e-02 2.00000000e-02 1.50000000e-05]\n",
      "[2.70000000e+02 2.00000000e-02 2.00000003e-02 1.50000000e-05]\n",
      "[2.70000000e+02 2.00000000e-02 2.00000000e-02 1.50000002e-05]\n",
      "[2.71539223e+02 2.40776792e-02 1.85336372e-02 1.31312411e-05]\n",
      "[2.71539227e+02 2.40776792e-02 1.85336372e-02 1.31312411e-05]\n",
      "[2.71539223e+02 2.40776796e-02 1.85336372e-02 1.31312411e-05]\n",
      "[2.71539223e+02 2.40776792e-02 1.85336375e-02 1.31312411e-05]\n",
      "[2.71539223e+02 2.40776792e-02 1.85336372e-02 1.31312413e-05]\n",
      "[2.70733829e+02 2.35942255e-02 1.56223467e-02 1.29654857e-05]\n",
      "[2.70733833e+02 2.35942255e-02 1.56223467e-02 1.29654857e-05]\n",
      "[2.70733829e+02 2.35942259e-02 1.56223467e-02 1.29654857e-05]\n",
      "[2.70733829e+02 2.35942255e-02 1.56223469e-02 1.29654857e-05]\n",
      "[2.70733829e+02 2.35942255e-02 1.56223467e-02 1.29654859e-05]\n",
      "[2.73718410e+02 2.53505172e-02 1.83157923e-02 1.23470443e-05]\n",
      "[2.71304512e+02 2.40609632e-02 1.67167060e-02 1.27741850e-05]\n",
      "[2.71304516e+02 2.40609632e-02 1.67167060e-02 1.27741850e-05]\n",
      "[2.71304512e+02 2.40609635e-02 1.67167060e-02 1.27741850e-05]\n",
      "[2.71304512e+02 2.40609632e-02 1.67167063e-02 1.27741850e-05]\n",
      "[2.71304512e+02 2.40609632e-02 1.67167060e-02 1.27741852e-05]\n",
      "[2.71405873e+02 2.39600228e-02 1.59107310e-02 1.27989036e-05]\n",
      "[2.71405877e+02 2.39600228e-02 1.59107310e-02 1.27989036e-05]\n",
      "[2.71405873e+02 2.39600231e-02 1.59107310e-02 1.27989036e-05]\n",
      "[2.71405873e+02 2.39600228e-02 1.59107313e-02 1.27989036e-05]\n",
      "[2.71405873e+02 2.39600228e-02 1.59107310e-02 1.27989038e-05]\n",
      "[2.71595091e+02 2.40620048e-02 1.63747763e-02 1.28086893e-05]\n",
      "[2.71595095e+02 2.40620048e-02 1.63747763e-02 1.28086893e-05]\n",
      "[2.71595091e+02 2.40620051e-02 1.63747763e-02 1.28086893e-05]\n",
      "[2.71595091e+02 2.40620048e-02 1.63747765e-02 1.28086893e-05]\n",
      "[2.71595091e+02 2.40620048e-02 1.63747763e-02 1.28086895e-05]\n",
      "[2.71159403e+02 2.38372973e-02 1.58439938e-02 1.27814681e-05]\n",
      "[2.71581131e+02 2.40464514e-02 1.62886174e-02 1.27996019e-05]\n",
      "[2.71581135e+02 2.40464514e-02 1.62886174e-02 1.27996019e-05]\n",
      "[2.71581131e+02 2.40464518e-02 1.62886174e-02 1.27996019e-05]\n",
      "[2.71581131e+02 2.40464514e-02 1.62886176e-02 1.27996019e-05]\n",
      "[2.71581131e+02 2.40464514e-02 1.62886174e-02 1.27996021e-05]\n",
      "[2.71850561e+02 2.41980767e-02 1.61990530e-02 1.27961902e-05]\n",
      "[2.71659729e+02 2.41276247e-02 1.63163660e-02 1.27984202e-05]\n",
      "[2.71603594e+02 2.40811785e-02 1.63077911e-02 1.27990972e-05]\n",
      "[2.71603598e+02 2.40811785e-02 1.63077911e-02 1.27990972e-05]\n",
      "[2.71603594e+02 2.40811789e-02 1.63077911e-02 1.27990972e-05]\n",
      "[2.71603594e+02 2.40811785e-02 1.63077914e-02 1.27990972e-05]\n",
      "[2.71603594e+02 2.40811785e-02 1.63077911e-02 1.27990974e-05]\n",
      "[2.71611700e+02 2.40994469e-02 1.62778931e-02 1.27995030e-05]\n",
      "[2.71593507e+02 2.40872609e-02 1.62985086e-02 1.27992479e-05]\n",
      "[2.71596869e+02 2.40835414e-02 1.63046138e-02 1.27991515e-05]\n",
      "[2.71596873e+02 2.40835414e-02 1.63046138e-02 1.27991515e-05]\n",
      "[2.71596869e+02 2.40835418e-02 1.63046138e-02 1.27991515e-05]\n",
      "[2.71596869e+02 2.40835414e-02 1.63046140e-02 1.27991515e-05]\n",
      "[2.71596869e+02 2.40835414e-02 1.63046138e-02 1.27991517e-05]\n",
      "[2.71591679e+02 2.40876413e-02 1.62985381e-02 1.27992486e-05]\n",
      "[2.71594566e+02 2.40845320e-02 1.63032989e-02 1.27991734e-05]\n",
      "[2.71594570e+02 2.40845320e-02 1.63032989e-02 1.27991734e-05]\n",
      "[2.71594566e+02 2.40845324e-02 1.63032989e-02 1.27991734e-05]\n",
      "[2.71594566e+02 2.40845320e-02 1.63032992e-02 1.27991734e-05]\n",
      "[2.71594566e+02 2.40845320e-02 1.63032989e-02 1.27991736e-05]\n",
      "[2.71591651e+02 2.40863757e-02 1.63007211e-02 1.27992152e-05]\n",
      "[2.71593811e+02 2.40848870e-02 1.63028338e-02 1.27991811e-05]\n",
      "[2.71594190e+02 2.40847035e-02 1.63030764e-02 1.27991771e-05]\n",
      "[2.71594194e+02 2.40847035e-02 1.63030764e-02 1.27991771e-05]\n",
      "[2.71594190e+02 2.40847038e-02 1.63030764e-02 1.27991771e-05]\n",
      "[2.71594190e+02 2.40847035e-02 1.63030766e-02 1.27991771e-05]\n",
      "[2.71594190e+02 2.40847035e-02 1.63030764e-02 1.27991773e-05]\n",
      "[2.71593496e+02 2.40850411e-02 1.63026329e-02 1.27991844e-05]\n",
      "[2.71594034e+02 2.40847756e-02 1.63029830e-02 1.27991786e-05]\n",
      "[2.71594038e+02 2.40847756e-02 1.63029830e-02 1.27991786e-05]\n",
      "[2.71594034e+02 2.40847760e-02 1.63029830e-02 1.27991786e-05]\n",
      "[2.71594034e+02 2.40847756e-02 1.63029832e-02 1.27991786e-05]\n",
      "[2.71594034e+02 2.40847756e-02 1.63029830e-02 1.27991788e-05]\n",
      "[2.71594089e+02 2.40848296e-02 1.63030006e-02 1.27991782e-05]\n",
      "[2.71594094e+02 2.40848296e-02 1.63030006e-02 1.27991782e-05]\n",
      "[2.71594089e+02 2.40848300e-02 1.63030006e-02 1.27991782e-05]\n",
      "[2.71594089e+02 2.40848296e-02 1.63030008e-02 1.27991782e-05]\n",
      "[2.71594089e+02 2.40848296e-02 1.63030006e-02 1.27991784e-05]\n",
      "[2.71593972e+02 2.40848581e-02 1.63029710e-02 1.27991786e-05]\n",
      "[2.71593976e+02 2.40848581e-02 1.63029710e-02 1.27991786e-05]\n",
      "[2.71593972e+02 2.40848585e-02 1.63029710e-02 1.27991786e-05]\n",
      "[2.71593972e+02 2.40848581e-02 1.63029712e-02 1.27991786e-05]\n",
      "[2.71593972e+02 2.40848581e-02 1.63029710e-02 1.27991788e-05]\n",
      "[2.71594028e+02 2.40849122e-02 1.63029885e-02 1.27991782e-05]\n",
      "[2.71594032e+02 2.40849122e-02 1.63029885e-02 1.27991782e-05]\n",
      "[2.71594028e+02 2.40849125e-02 1.63029885e-02 1.27991782e-05]\n",
      "[2.71594028e+02 2.40849122e-02 1.63029888e-02 1.27991782e-05]\n",
      "[2.71594028e+02 2.40849122e-02 1.63029885e-02 1.27991784e-05]\n",
      "[2.71593969e+02 2.40849264e-02 1.63029737e-02 1.27991784e-05]\n",
      "[2.71593973e+02 2.40849264e-02 1.63029737e-02 1.27991784e-05]\n",
      "[2.71593969e+02 2.40849267e-02 1.63029737e-02 1.27991784e-05]\n",
      "[2.71593969e+02 2.40849264e-02 1.63029740e-02 1.27991784e-05]\n",
      "[2.71593969e+02 2.40849264e-02 1.63029737e-02 1.27991786e-05]\n",
      "[2.71593854e+02 2.40849547e-02 1.63029441e-02 1.27991788e-05]\n",
      "[2.71593858e+02 2.40849547e-02 1.63029441e-02 1.27991788e-05]\n",
      "[2.71593854e+02 2.40849550e-02 1.63029441e-02 1.27991788e-05]\n",
      "[2.71593854e+02 2.40849547e-02 1.63029443e-02 1.27991788e-05]\n",
      "[2.71593854e+02 2.40849547e-02 1.63029441e-02 1.27991790e-05]\n",
      "[2.71593966e+02 2.40850626e-02 1.63029791e-02 1.27991779e-05]\n",
      "[2.71593905e+02 2.40850045e-02 1.63029603e-02 1.27991784e-05]\n",
      "[2.71593878e+02 2.40849778e-02 1.63029516e-02 1.27991786e-05]\n"
     ]
    }
   ],
   "source": [
    "best_params, fit_details = leastsq(error_func, params, data)"
   ]
  },
  {
   "cell_type": "markdown",
   "metadata": {},
   "source": [
    "Each time `error_func` is called, it prints the parameters, so we can get a sense of how `leastsq` works.\n",
    "\n",
    "`leastsq` has two return values.\n",
    "The is an array with the best parameters:"
   ]
  },
  {
   "cell_type": "code",
   "execution_count": 15,
   "metadata": {},
   "outputs": [
    {
     "data": {
      "text/plain": [
       "(array([2.71593854e+02, 2.40849547e-02, 1.63029441e-02, 1.27991788e-05]),\n",
       " (270, 0.02, 0.02, 1.5e-05))"
      ]
     },
     "execution_count": 15,
     "metadata": {},
     "output_type": "execute_result"
    }
   ],
   "source": [
    "best_params, params"
   ]
  },
  {
   "cell_type": "markdown",
   "metadata": {},
   "source": [
    "The second is an object with information about the results, including a success flag and a message."
   ]
  },
  {
   "cell_type": "code",
   "execution_count": 16,
   "metadata": {},
   "outputs": [
    {
     "data": {
      "text/plain": [
       "True"
      ]
     },
     "execution_count": 16,
     "metadata": {},
     "output_type": "execute_result"
    }
   ],
   "source": [
    "fit_details.success"
   ]
  },
  {
   "cell_type": "code",
   "execution_count": 17,
   "metadata": {},
   "outputs": [
    {
     "data": {
      "text/plain": [
       "'The relative error between two consecutive iterates is at most 0.000000'"
      ]
     },
     "execution_count": 17,
     "metadata": {},
     "output_type": "execute_result"
    }
   ],
   "source": [
    "fit_details.mesg"
   ]
  },
  {
   "cell_type": "markdown",
   "metadata": {},
   "source": [
    "Now that we have `best_params`, we can use it to make a `System` object and run it."
   ]
  },
  {
   "cell_type": "code",
   "execution_count": 18,
   "metadata": {},
   "outputs": [
    {
     "data": {
      "text/plain": [
       "'The solver successfully reached the end of the integration interval.'"
      ]
     },
     "execution_count": 18,
     "metadata": {},
     "output_type": "execute_result"
    }
   ],
   "source": [
    "system2 = make_system(best_params, data)\n",
    "results2, details = run_solve_ivp(system2, slope_func, \n",
    "                                  t_eval=data.index)\n",
    "details.message"
   ]
  },
  {
   "cell_type": "markdown",
   "metadata": {},
   "source": [
    "Here are the results, along with the data."
   ]
  },
  {
   "cell_type": "code",
   "execution_count": 19,
   "metadata": {},
   "outputs": [
    {
     "data": {
      "image/png": "[encoded data removed]",
      "text/plain": [
       "<Figure size 450x300 with 1 Axes>"
      ]
     },
     "metadata": {},
     "output_type": "display_data"
    }
   ],
   "source": [
    "data.glucose.plot(style='o', alpha=0.5, label='data')\n",
    "results.G.plot(style='-', color='C0', label='model')\n",
    "\n",
    "decorate(xlabel='Time (min)',\n",
    "         ylabel='Concentration (mg/dL)')"
   ]
  },
  {
   "cell_type": "markdown",
   "metadata": {},
   "source": [
    "We can compute the errors like this."
   ]
  },
  {
   "cell_type": "code",
   "execution_count": 20,
   "metadata": {},
   "outputs": [
    {
     "data": {
      "text/plain": [
       "0    179.593854\n",
       "2    -86.885731\n",
       "4    -32.457099\n",
       "6     -5.859291\n",
       "8     -4.873474\n",
       "dtype: float64"
      ]
     },
     "execution_count": 20,
     "metadata": {},
     "output_type": "execute_result"
    }
   ],
   "source": [
    "errors2 = results2.G - data.glucose\n",
    "errors2.head()"
   ]
  },
  {
   "cell_type": "markdown",
   "metadata": {},
   "source": [
    "And the sum of the squared errors like this:"
   ]
  },
  {
   "cell_type": "code",
   "execution_count": 21,
   "metadata": {},
   "outputs": [
    {
     "data": {
      "text/plain": [
       "np.float64(318.1276841705799)"
      ]
     },
     "execution_count": 21,
     "metadata": {},
     "output_type": "execute_result"
    }
   ],
   "source": [
    "from numpy import sum\n",
    "\n",
    "sum(errors2.iloc[3:]**2)"
   ]
  },
  {
   "cell_type": "markdown",
   "metadata": {},
   "source": [
    "If things have gone according to plan, the sum of squared errors should be smaller now, compared to the parameters we started with."
   ]
  },
  {
   "cell_type": "code",
   "execution_count": 22,
   "metadata": {},
   "outputs": [
    {
     "data": {
      "text/plain": [
       "np.float64(626.244345014139)"
      ]
     },
     "execution_count": 22,
     "metadata": {},
     "output_type": "execute_result"
    }
   ],
   "source": [
    "sum(errors.iloc[3:]**2)"
   ]
  },
  {
   "cell_type": "markdown",
   "metadata": {},
   "source": [
    "## Interpreting parameters\n",
    "\n",
    "So we found the parameters that best match the data.  You might wonder why this is useful.\n",
    "\n",
    "The parameters themselves don't mean very much, but we can use them to compute two quantities we care about:\n",
    "\n",
    "-   \"Glucose effectiveness\", $E$, which is the tendency of elevated\n",
    "    glucose to cause depletion of glucose.\n",
    "\n",
    "-   \"Insulin sensitivity\", $S$, which is the ability of elevated blood\n",
    "    insulin to enhance glucose effectiveness.\n",
    "\n",
    "Glucose effectiveness is defined as the change in $dG/dt$ as we vary\n",
    "$G$: \n",
    "\n",
    "$$E \\equiv - \\frac{\\delta \\dot{G}}{\\delta G}$$ \n",
    "\n",
    "where $\\dot{G}$ is shorthand for $dG/dt$. Taking the derivative of $dG/dt$ with respect to $G$, we get \n",
    "\n",
    "$$E = k_1 + X$$ \n",
    "\n",
    "The **glucose effectiveness index**, $S_G$, is the value of $E$ when blood insulin is near its basal level, $I_b$.\n",
    "In that case, $X$ approaches 0 and $E$ approaches $k_1$. So we can use\n",
    "the best-fit value of $k_1$ as an estimate of $S_G$."
   ]
  },
  {
   "cell_type": "markdown",
   "metadata": {},
   "source": [
    "Insulin sensitivity is defined as the change in $E$ as we vary $I$:\n",
    "\n",
    "$$S \\equiv - \\frac{\\delta E}{\\delta I}$$ \n",
    "\n",
    "The **insulin sensitivity index**, $S_I$, is the value of $S$ when $E$ and $I$ are at steady state: \n",
    "\n",
    "$$S_I \\equiv \\frac{\\delta E_{SS}}{\\delta I_{SS}}$$ \n",
    "\n",
    "$E$ and $I$ are at steady state when $dG/dt$ and $dX/dt$ are 0, but we don't actually have to solve those equations to find $S_I$. \n",
    "\n",
    "If we set $dX/dt = 0$ and solve for $X$, we find the relation:\n",
    "\n",
    "$$X_{SS} = \\frac{k_3}{k_2} I_{SS}$$ \n",
    "\n",
    "And since $E = k_1 + X$, we have:\n",
    "\n",
    "$$S_I = \\frac{\\delta E_{SS}}{\\delta I_{SS}} = \\frac{\\delta X_{SS}}{\\delta I_{SS}}$$\n",
    "\n",
    "Taking the derivative of $X_{SS}$ with respect to $I_{SS}$, we have:\n",
    "\n",
    "$$S_I = k_3 / k_2$$ \n",
    "\n",
    "So if we find parameters that make the model fit the data, we can use $k_3 / k_2$ as an estimate of $S_I$."
   ]
  },
  {
   "cell_type": "markdown",
   "metadata": {},
   "source": [
    "For the parameters we found, here are the estimated values of $S_G$ and $S_I$:"
   ]
  },
  {
   "cell_type": "code",
   "execution_count": 25,
   "metadata": {},
   "outputs": [],
   "source": [
    "G0, k1, k2, k3 = best_params\n",
    "indices = SimpleNamespace(S_G=k1, S_I=k3/k2)\n",
    "show(indices)"
   ]
  },
  {
   "cell_type": "markdown",
   "metadata": {},
   "source": [
    "According to [Boston et al](https://www.researchgate.net/publication/8931437_MINMOD_Millennium_A_Computer_Program_to_Calculate_Glucose_Effectiveness_and_Insulin_Sensitivity_From_the_Frequently_Sampled_Intravenous_Glucose_Tolerance_Test), normal ranges for these values are..."
   ]
  },
  {
   "cell_type": "code",
   "execution_count": 26,
   "metadata": {},
   "outputs": [],
   "source": [
    "S_G_interval = 1.2e-3, 4.5e-2\n",
    "S_G_interval"
   ]
  },
  {
   "cell_type": "code",
   "execution_count": 27,
   "metadata": {},
   "outputs": [],
   "source": [
    "S_I_interval = 5.0e-5, 2.2e-3\n",
    "S_I_interval"
   ]
  },
  {
   "cell_type": "markdown",
   "metadata": {},
   "source": [
    "The estimated quantities are within the normal intervals."
   ]
  },
  {
   "cell_type": "markdown",
   "metadata": {},
   "source": [
    "## Exercises\n",
    "\n",
    "**Exercise:** How sensitive are the results to the starting guess for the parameters?  If you try different values for the starting guess, do we get the same values for the best parameters?"
   ]
  },
  {
   "cell_type": "code",
   "execution_count": null,
   "metadata": {},
   "outputs": [],
   "source": []
  }
 ],
 "metadata": {
  "kernelspec": {
   "display_name": "Python 3 (ipykernel)",
   "language": "python",
   "name": "python3"
  },
  "language_info": {
   "codemirror_mode": {
    "name": "ipython",
    "version": 3
   },
   "file_extension": ".py",
   "mimetype": "text/x-python",
   "name": "python",
   "nbconvert_exporter": "python",
   "pygments_lexer": "ipython3",
   "version": "3.12.2"
  }
 },
 "nbformat": 4,
 "nbformat_minor": 2
}
