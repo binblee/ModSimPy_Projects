{
 "cells": [
  {
   "cell_type": "code",
   "execution_count": 3,
   "metadata": {},
   "outputs": [],
   "source": [
    "from modsim import *"
   ]
  },
  {
   "cell_type": "code",
   "execution_count": 4,
   "metadata": {},
   "outputs": [
    {
     "data": {
      "text/plain": [
       "(np.int64(10), np.int64(2))"
      ]
     },
     "execution_count": 4,
     "metadata": {},
     "output_type": "execute_result"
    }
   ],
   "source": [
    "bikeshare = State(olin=10, wellesley=2)\n",
    "bikeshare.olin, bikeshare.wellesley"
   ]
  },
  {
   "cell_type": "code",
   "execution_count": 4,
   "metadata": {},
   "outputs": [
    {
     "data": {
      "text/plain": [
       "olin         10\n",
       "wellesley     2\n",
       "Name: state, dtype: int64"
      ]
     },
     "execution_count": 4,
     "metadata": {},
     "output_type": "execute_result"
    }
   ],
   "source": [
    "bikeshare"
   ]
  },
  {
   "cell_type": "code",
   "execution_count": 5,
   "metadata": {},
   "outputs": [
    {
     "data": {
      "text/html": [
       "<div>\n",
       "<style scoped>\n",
       "    .dataframe tbody tr th:only-of-type {\n",
       "        vertical-align: middle;\n",
       "    }\n",
       "\n",
       "    .dataframe tbody tr th {\n",
       "        vertical-align: top;\n",
       "    }\n",
       "\n",
       "    .dataframe thead th {\n",
       "        text-align: right;\n",
       "    }\n",
       "</style>\n",
       "<table border=\"1\" class=\"dataframe\">\n",
       "  <thead>\n",
       "    <tr style=\"text-align: right;\">\n",
       "      <th></th>\n",
       "      <th>state</th>\n",
       "    </tr>\n",
       "  </thead>\n",
       "  <tbody>\n",
       "    <tr>\n",
       "      <th>olin</th>\n",
       "      <td>10</td>\n",
       "    </tr>\n",
       "    <tr>\n",
       "      <th>wellesley</th>\n",
       "      <td>2</td>\n",
       "    </tr>\n",
       "  </tbody>\n",
       "</table>\n",
       "</div>"
      ],
      "text/plain": [
       "           state\n",
       "olin          10\n",
       "wellesley      2"
      ]
     },
     "execution_count": 5,
     "metadata": {},
     "output_type": "execute_result"
    }
   ],
   "source": [
    "show(bikeshare)"
   ]
  },
  {
   "cell_type": "code",
   "execution_count": 14,
   "metadata": {},
   "outputs": [],
   "source": [
    "def bike_to_wellesley():\n",
    "    if bikeshare.olin >= 1:\n",
    "        bikeshare.olin -= 1\n",
    "        bikeshare.wellesley += 1\n",
    "        print('Moved a bike to Wellesley.')\n",
    "    else:\n",
    "        print('Failed to move a bike to Wellesley.')\n",
    "def bike_to_olin():\n",
    "    if bikeshare.wellesley >= 1:\n",
    "        bikeshare.olin += 1\n",
    "        bikeshare.wellesley -= 1\n",
    "        print('Moved a bike to Olin.')\n",
    "    else:\n",
    "        print('Failed to move a bike to Olin.')"
   ]
  },
  {
   "cell_type": "code",
   "execution_count": 15,
   "metadata": {},
   "outputs": [
    {
     "name": "stdout",
     "output_type": "stream",
     "text": [
      "Moved a bike to Wellesley.\n"
     ]
    },
    {
     "data": {
      "text/html": [
       "<div>\n",
       "<style scoped>\n",
       "    .dataframe tbody tr th:only-of-type {\n",
       "        vertical-align: middle;\n",
       "    }\n",
       "\n",
       "    .dataframe tbody tr th {\n",
       "        vertical-align: top;\n",
       "    }\n",
       "\n",
       "    .dataframe thead th {\n",
       "        text-align: right;\n",
       "    }\n",
       "</style>\n",
       "<table border=\"1\" class=\"dataframe\">\n",
       "  <thead>\n",
       "    <tr style=\"text-align: right;\">\n",
       "      <th></th>\n",
       "      <th>state</th>\n",
       "    </tr>\n",
       "  </thead>\n",
       "  <tbody>\n",
       "    <tr>\n",
       "      <th>olin</th>\n",
       "      <td>9</td>\n",
       "    </tr>\n",
       "    <tr>\n",
       "      <th>wellesley</th>\n",
       "      <td>3</td>\n",
       "    </tr>\n",
       "  </tbody>\n",
       "</table>\n",
       "</div>"
      ],
      "text/plain": [
       "           state\n",
       "olin           9\n",
       "wellesley      3"
      ]
     },
     "execution_count": 15,
     "metadata": {},
     "output_type": "execute_result"
    }
   ],
   "source": [
    "bike_to_wellesley()\n",
    "show(bikeshare)"
   ]
  },
  {
   "cell_type": "code",
   "execution_count": 21,
   "metadata": {},
   "outputs": [],
   "source": [
    "def step(p1, p2):\n",
    "    if flip(p1):\n",
    "        bike_to_wellesley()\n",
    "    if flip(p2):\n",
    "        bike_to_olin()"
   ]
  },
  {
   "cell_type": "code",
   "execution_count": 22,
   "metadata": {},
   "outputs": [
    {
     "name": "stdout",
     "output_type": "stream",
     "text": [
      "Olin=6, Wellesley=6\n",
      "Moved a bike to Wellesley.\n",
      "Olin=5, Wellesley=7\n",
      "Olin=5, Wellesley=7\n",
      "Olin=5, Wellesley=7\n",
      "Moved a bike to Wellesley.\n",
      "Moved a bike to Olin.\n",
      "Olin=5, Wellesley=7\n"
     ]
    }
   ],
   "source": [
    "for s in range(5):\n",
    "    step(0.5, 0.33)\n",
    "    print(f\"Olin={bikeshare.olin}, Wellesley={bikeshare.wellesley}\")"
   ]
  },
  {
   "cell_type": "code",
   "execution_count": 33,
   "metadata": {},
   "outputs": [
    {
     "name": "stdout",
     "output_type": "stream",
     "text": [
      "Moved a bike to Olin.\n",
      "Moved a bike to Wellesley.\n",
      "Moved a bike to Olin.\n",
      "Moved a bike to Olin.\n",
      "Failed to move a bike to Wellesley.\n",
      "Moved a bike to Wellesley.\n",
      "Moved a bike to Wellesley.\n",
      "Moved a bike to Wellesley.\n",
      "Moved a bike to Wellesley.\n",
      "Moved a bike to Wellesley.\n",
      "Moved a bike to Olin.\n",
      "Moved a bike to Olin.\n",
      "Moved a bike to Wellesley.\n",
      "Moved a bike to Olin.\n",
      "Moved a bike to Olin.\n",
      "Moved a bike to Wellesley.\n",
      "Moved a bike to Wellesley.\n",
      "Moved a bike to Olin.\n",
      "Moved a bike to Wellesley.\n",
      "Moved a bike to Olin.\n",
      "Moved a bike to Wellesley.\n",
      "Moved a bike to Wellesley.\n",
      "Moved a bike to Olin.\n",
      "Moved a bike to Wellesley.\n",
      "Moved a bike to Wellesley.\n",
      "Moved a bike to Olin.\n",
      "Moved a bike to Wellesley.\n",
      "Moved a bike to Olin.\n",
      "Moved a bike to Olin.\n",
      "Moved a bike to Wellesley.\n",
      "Moved a bike to Wellesley.\n",
      "Moved a bike to Wellesley.\n",
      "Moved a bike to Wellesley.\n",
      "Moved a bike to Olin.\n",
      "Moved a bike to Wellesley.\n",
      "Moved a bike to Wellesley.\n",
      "Moved a bike to Olin.\n",
      "Moved a bike to Wellesley.\n",
      "Moved a bike to Olin.\n",
      "Moved a bike to Wellesley.\n",
      "Moved a bike to Olin.\n",
      "Moved a bike to Olin.\n",
      "Moved a bike to Wellesley.\n",
      "Moved a bike to Olin.\n",
      "Moved a bike to Wellesley.\n",
      "Moved a bike to Wellesley.\n",
      "Moved a bike to Olin.\n",
      "Moved a bike to Wellesley.\n",
      "Moved a bike to Olin.\n",
      "Moved a bike to Olin.\n",
      "Moved a bike to Olin.\n",
      "Moved a bike to Wellesley.\n",
      "Moved a bike to Wellesley.\n"
     ]
    }
   ],
   "source": [
    "bikeshare = State(olin=10, wellesley=2)\n",
    "results = TimeSeries()\n",
    "for s in range(60):\n",
    "    step(0.5, 0.33)\n",
    "    results[s] = bikeshare.olin"
   ]
  },
  {
   "cell_type": "code",
   "execution_count": 30,
   "metadata": {},
   "outputs": [
    {
     "data": {
      "text/html": [
       "<div>\n",
       "<style scoped>\n",
       "    .dataframe tbody tr th:only-of-type {\n",
       "        vertical-align: middle;\n",
       "    }\n",
       "\n",
       "    .dataframe tbody tr th {\n",
       "        vertical-align: top;\n",
       "    }\n",
       "\n",
       "    .dataframe thead th {\n",
       "        text-align: right;\n",
       "    }\n",
       "</style>\n",
       "<table border=\"1\" class=\"dataframe\">\n",
       "  <thead>\n",
       "    <tr style=\"text-align: right;\">\n",
       "      <th></th>\n",
       "      <th>Quantity</th>\n",
       "    </tr>\n",
       "    <tr>\n",
       "      <th>Time</th>\n",
       "      <th></th>\n",
       "    </tr>\n",
       "  </thead>\n",
       "  <tbody>\n",
       "    <tr>\n",
       "      <th>0</th>\n",
       "      <td>10</td>\n",
       "    </tr>\n",
       "    <tr>\n",
       "      <th>1</th>\n",
       "      <td>9</td>\n",
       "    </tr>\n",
       "    <tr>\n",
       "      <th>2</th>\n",
       "      <td>10</td>\n",
       "    </tr>\n",
       "    <tr>\n",
       "      <th>3</th>\n",
       "      <td>10</td>\n",
       "    </tr>\n",
       "    <tr>\n",
       "      <th>4</th>\n",
       "      <td>10</td>\n",
       "    </tr>\n",
       "    <tr>\n",
       "      <th>5</th>\n",
       "      <td>10</td>\n",
       "    </tr>\n",
       "    <tr>\n",
       "      <th>6</th>\n",
       "      <td>9</td>\n",
       "    </tr>\n",
       "    <tr>\n",
       "      <th>7</th>\n",
       "      <td>9</td>\n",
       "    </tr>\n",
       "    <tr>\n",
       "      <th>8</th>\n",
       "      <td>8</td>\n",
       "    </tr>\n",
       "    <tr>\n",
       "      <th>9</th>\n",
       "      <td>8</td>\n",
       "    </tr>\n",
       "  </tbody>\n",
       "</table>\n",
       "</div>"
      ],
      "text/plain": [
       "      Quantity\n",
       "Time          \n",
       "0           10\n",
       "1            9\n",
       "2           10\n",
       "3           10\n",
       "4           10\n",
       "5           10\n",
       "6            9\n",
       "7            9\n",
       "8            8\n",
       "9            8"
      ]
     },
     "execution_count": 30,
     "metadata": {},
     "output_type": "execute_result"
    }
   ],
   "source": [
    "show(results)"
   ]
  },
  {
   "cell_type": "code",
   "execution_count": 34,
   "metadata": {},
   "outputs": [
    {
     "data": {
      "image/png": "[encoded data removed]",
      "text/plain": [
       "<Figure size 450x300 with 1 Axes>"
      ]
     },
     "metadata": {},
     "output_type": "display_data"
    }
   ],
   "source": [
    "results.plot()\n",
    "decorate(title='Olin-Wellesley bikeshare', xlabel='Time step(min)',\n",
    "         ylabel='Number of bikes in Olin')"
   ]
  }
 ],
 "metadata": {
  "kernelspec": {
   "display_name": "modsimpy",
   "language": "python",
   "name": "python3"
  },
  "language_info": {
   "codemirror_mode": {
    "name": "ipython",
    "version": 3
   },
   "file_extension": ".py",
   "mimetype": "text/x-python",
   "name": "python",
   "nbconvert_exporter": "python",
   "pygments_lexer": "ipython3",
   "version": "3.12.2"
  }
 },
 "nbformat": 4,
 "nbformat_minor": 2
}
