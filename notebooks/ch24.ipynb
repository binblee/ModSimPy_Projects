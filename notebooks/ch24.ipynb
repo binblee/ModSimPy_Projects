{
 "cells": [
  {
   "cell_type": "code",
   "execution_count": 2,
   "metadata": {},
   "outputs": [],
   "source": [
    "from modsim import *\n",
    "import numpy as np"
   ]
  },
  {
   "cell_type": "code",
   "execution_count": 13,
   "metadata": {},
   "outputs": [
    {
     "data": {
      "text/plain": [
       "(300,\n",
       " 0.02,\n",
       " 0.055,\n",
       " 47,\n",
       " 0.0375,\n",
       " 0.23561944901923448,\n",
       " 199.47419534184218,\n",
       " 1253.3333333333335,\n",
       " 2.7925531914893616e-05)"
      ]
     },
     "execution_count": 13,
     "metadata": {},
     "output_type": "execute_result"
    }
   ],
   "source": [
    "omega = 300 # rad/s\n",
    "Rmin = 0.02 # m\n",
    "Rmax = 0.055 # m\n",
    "L = 47 # m\n",
    "Ravg = (Rmax + Rmin)/2\n",
    "Cavg = 2 * np.pi * Ravg\n",
    "revs = L / Cavg\n",
    "theta = 2 * np.pi * revs\n",
    "k_est = (Rmax - Rmin) / theta\n",
    "omega, Rmin, Rmax, L, Ravg, Cavg, revs, theta, k_est"
   ]
  },
  {
   "cell_type": "code",
   "execution_count": 15,
   "metadata": {},
   "outputs": [
    {
     "data": {
      "text/plain": [
       "namespace(init=theta    0.00\n",
       "               y        0.00\n",
       "               r        0.02\n",
       "               Name: state, dtype: float64,\n",
       "          params=namespace(omega=300,\n",
       "                           Rmin=0.02,\n",
       "                           Rmax=0.055,\n",
       "                           L=47,\n",
       "                           k_est=2.7925531914893616e-05),\n",
       "          t_end=10)"
      ]
     },
     "execution_count": 15,
     "metadata": {},
     "output_type": "execute_result"
    }
   ],
   "source": [
    "params = Params(\n",
    "    omega=omega,\n",
    "    Rmin=Rmin,\n",
    "    Rmax=Rmax,\n",
    "    L=L,\n",
    "    k_est=k_est\n",
    ")\n",
    "init = State(theta=0, y=0, r=Rmin)\n",
    "system = System(init=init, params=params, t_end=10)\n",
    "system"
   ]
  },
  {
   "cell_type": "markdown",
   "metadata": {},
   "source": [
    "$$ \\frac{d \\theta}{dt} = \\omega$$\n",
    "\n",
    "$$\n",
    "\\frac{dy}{dt} = r \\frac{d \\theta}{dt} = r \\omega\n",
    "$$\n",
    "\n",
    "$$\n",
    "\\frac{dr}{dt} = k \\frac{d \\theta}{dt} = k \\omega\n",
    "$$"
   ]
  },
  {
   "cell_type": "code",
   "execution_count": 16,
   "metadata": {},
   "outputs": [],
   "source": [
    "def slope_func(t, state, system):\n",
    "    theta, y, r = state\n",
    "    omega = system.params.omega\n",
    "    dydt = r * omega\n",
    "    drdt = system.params.k_est * omega\n",
    "    return omega, dydt, drdt"
   ]
  },
  {
   "cell_type": "code",
   "execution_count": 17,
   "metadata": {},
   "outputs": [
    {
     "data": {
      "text/plain": [
       "(300, 6.0, 0.008377659574468085)"
      ]
     },
     "execution_count": 17,
     "metadata": {},
     "output_type": "execute_result"
    }
   ],
   "source": [
    "slope_func(0, system.init, system)"
   ]
  },
  {
   "cell_type": "code",
   "execution_count": 18,
   "metadata": {},
   "outputs": [],
   "source": [
    "def event_func(t, state, system):\n",
    "    theta, y, r = state\n",
    "    return system.params.L - y"
   ]
  },
  {
   "cell_type": "code",
   "execution_count": 19,
   "metadata": {},
   "outputs": [
    {
     "data": {
      "text/plain": [
       "47.0"
      ]
     },
     "execution_count": 19,
     "metadata": {},
     "output_type": "execute_result"
    }
   ],
   "source": [
    "event_func(0, system.init, system)"
   ]
  },
  {
   "cell_type": "code",
   "execution_count": 20,
   "metadata": {},
   "outputs": [
    {
     "data": {
      "text/plain": [
       "'A termination event occurred.'"
      ]
     },
     "execution_count": 20,
     "metadata": {},
     "output_type": "execute_result"
    }
   ],
   "source": [
    "results, details = run_solve_ivp(system, slope_func, events=event_func)\n",
    "details.message"
   ]
  },
  {
   "cell_type": "code",
   "execution_count": 21,
   "metadata": {},
   "outputs": [
    {
     "data": {
      "text/html": [
       "<div>\n",
       "<style scoped>\n",
       "    .dataframe tbody tr th:only-of-type {\n",
       "        vertical-align: middle;\n",
       "    }\n",
       "\n",
       "    .dataframe tbody tr th {\n",
       "        vertical-align: top;\n",
       "    }\n",
       "\n",
       "    .dataframe thead th {\n",
       "        text-align: right;\n",
       "    }\n",
       "</style>\n",
       "<table border=\"1\" class=\"dataframe\">\n",
       "  <thead>\n",
       "    <tr style=\"text-align: right;\">\n",
       "      <th></th>\n",
       "      <th>theta</th>\n",
       "      <th>y</th>\n",
       "      <th>r</th>\n",
       "    </tr>\n",
       "  </thead>\n",
       "  <tbody>\n",
       "    <tr>\n",
       "      <th>4.010667</th>\n",
       "      <td>1203.200000</td>\n",
       "      <td>44.277760</td>\n",
       "      <td>0.05360</td>\n",
       "    </tr>\n",
       "    <tr>\n",
       "      <th>4.052444</th>\n",
       "      <td>1215.733333</td>\n",
       "      <td>44.951740</td>\n",
       "      <td>0.05395</td>\n",
       "    </tr>\n",
       "    <tr>\n",
       "      <th>4.094222</th>\n",
       "      <td>1228.266667</td>\n",
       "      <td>45.630107</td>\n",
       "      <td>0.05430</td>\n",
       "    </tr>\n",
       "    <tr>\n",
       "      <th>4.136000</th>\n",
       "      <td>1240.800000</td>\n",
       "      <td>46.312860</td>\n",
       "      <td>0.05465</td>\n",
       "    </tr>\n",
       "    <tr>\n",
       "      <th>4.177778</th>\n",
       "      <td>1253.333333</td>\n",
       "      <td>47.000000</td>\n",
       "      <td>0.05500</td>\n",
       "    </tr>\n",
       "  </tbody>\n",
       "</table>\n",
       "</div>"
      ],
      "text/plain": [
       "                theta          y        r\n",
       "4.010667  1203.200000  44.277760  0.05360\n",
       "4.052444  1215.733333  44.951740  0.05395\n",
       "4.094222  1228.266667  45.630107  0.05430\n",
       "4.136000  1240.800000  46.312860  0.05465\n",
       "4.177778  1253.333333  47.000000  0.05500"
      ]
     },
     "execution_count": 21,
     "metadata": {},
     "output_type": "execute_result"
    }
   ],
   "source": [
    "results.tail()"
   ]
  },
  {
   "cell_type": "code",
   "execution_count": 22,
   "metadata": {},
   "outputs": [
    {
     "data": {
      "text/plain": [
       "theta    1253.333333\n",
       "y          47.000000\n",
       "r           0.055000\n",
       "Name: 4.177777777777779, dtype: float64"
      ]
     },
     "execution_count": 22,
     "metadata": {},
     "output_type": "execute_result"
    }
   ],
   "source": [
    "final_state = results.iloc[-1]\n",
    "final_state"
   ]
  },
  {
   "cell_type": "code",
   "execution_count": 23,
   "metadata": {},
   "outputs": [
    {
     "data": {
      "text/plain": [
       "np.float64(199.47419534184218)"
      ]
     },
     "execution_count": 23,
     "metadata": {},
     "output_type": "execute_result"
    }
   ],
   "source": [
    "rotations = final_state.theta / 2 / np.pi\n",
    "rotations"
   ]
  },
  {
   "cell_type": "code",
   "execution_count": 24,
   "metadata": {},
   "outputs": [
    {
     "data": {
      "image/png": "[encoded data removed]",
      "text/plain": [
       "<Figure size 450x300 with 1 Axes>"
      ]
     },
     "metadata": {},
     "output_type": "display_data"
    }
   ],
   "source": [
    "def plot_theta(results):\n",
    "    results.theta.plot(label='theta')\n",
    "    decorate(xlabel='Time (s)',\n",
    "             ylabel='Angle (rad)')\n",
    "plot_theta(results)"
   ]
  },
  {
   "cell_type": "code",
   "execution_count": 25,
   "metadata": {},
   "outputs": [
    {
     "data": {
      "image/png": "[encoded data removed]",
      "text/plain": [
       "<Figure size 450x300 with 1 Axes>"
      ]
     },
     "metadata": {},
     "output_type": "display_data"
    }
   ],
   "source": [
    "def plot_r(results):\n",
    "    results.r.plot(label='r')\n",
    "    decorate(xlabel='Time (s)',\n",
    "             ylabel='Radius (m)')\n",
    "plot_r(results)"
   ]
  },
  {
   "cell_type": "code",
   "execution_count": 26,
   "metadata": {},
   "outputs": [
    {
     "data": {
      "image/png": "[encoded data removed]",
      "text/plain": [
       "<Figure size 450x300 with 1 Axes>"
      ]
     },
     "metadata": {},
     "output_type": "display_data"
    }
   ],
   "source": [
    "def plot_y(results):\n",
    "    results.y.plot(label='y')\n",
    "    decorate(xlabel='Time (s)',\n",
    "             ylabel='Length (m)')\n",
    "plot_y(results)"
   ]
  },
  {
   "cell_type": "code",
   "execution_count": 27,
   "metadata": {},
   "outputs": [
    {
     "data": {
      "text/plain": [
       "2.7925531914893616e-05"
      ]
     },
     "execution_count": 27,
     "metadata": {},
     "output_type": "execute_result"
    }
   ],
   "source": [
    "k = (Rmax ** 2 - Rmin ** 2) / 2 / L\n",
    "k"
   ]
  },
  {
   "cell_type": "code",
   "execution_count": 28,
   "metadata": {},
   "outputs": [],
   "source": [
    "# Exercise 24.1\n",
    "dydt = gradient(results.y)"
   ]
  },
  {
   "cell_type": "code",
   "execution_count": 29,
   "metadata": {},
   "outputs": [
    {
     "data": {
      "image/png": "[encoded data removed]",
      "text/plain": [
       "<Figure size 450x300 with 1 Axes>"
      ]
     },
     "metadata": {},
     "output_type": "display_data"
    }
   ],
   "source": [
    "dydt.plot(label='dydt')\n",
    "decorate(xlabel='Time (s)',ylabel='Linear velocity (m/s)')"
   ]
  },
  {
   "cell_type": "code",
   "execution_count": 30,
   "metadata": {},
   "outputs": [
    {
     "data": {
      "text/plain": [
       "np.float64(16.447499999999934)"
      ]
     },
     "execution_count": 30,
     "metadata": {},
     "output_type": "execute_result"
    }
   ],
   "source": [
    "max_linear_velocity = dydt.max()\n",
    "max_linear_velocity"
   ]
  },
  {
   "cell_type": "markdown",
   "metadata": {},
   "source": [
    "\n",
    "$$\n",
    "\\frac{dy}{dt} = r \\frac{d \\theta}{dt} = V_{max}\n",
    "$$\n",
    "\n",
    "$$\n",
    "\\frac{dr}{dt} = k \\frac{d \\theta}{dt}\n",
    "$$"
   ]
  },
  {
   "cell_type": "code",
   "execution_count": 31,
   "metadata": {},
   "outputs": [],
   "source": [
    "# mlv = max_linear_velocity\n",
    "def slope_func_mlv(t, state, system):\n",
    "    theta, y, r = state\n",
    "    omega = max_linear_velocity / r\n",
    "    drdt = system.params.k_est * omega\n",
    "    return omega, max_linear_velocity, drdt"
   ]
  },
  {
   "cell_type": "code",
   "execution_count": 32,
   "metadata": {},
   "outputs": [
    {
     "data": {
      "text/plain": [
       "'A termination event occurred.'"
      ]
     },
     "execution_count": 32,
     "metadata": {},
     "output_type": "execute_result"
    }
   ],
   "source": [
    "results_mlv, details_mlv = run_solve_ivp(system, slope_func_mlv, events=event_func)\n",
    "details_mlv.message"
   ]
  },
  {
   "cell_type": "code",
   "execution_count": 33,
   "metadata": {},
   "outputs": [
    {
     "data": {
      "text/plain": [
       "np.float64(2.8575771393828964)"
      ]
     },
     "execution_count": 33,
     "metadata": {},
     "output_type": "execute_result"
    }
   ],
   "source": [
    "t_relv = results_mlv.index[-1]\n",
    "t_relv"
   ]
  },
  {
   "cell_type": "code",
   "execution_count": 34,
   "metadata": {},
   "outputs": [
    {
     "data": {
      "text/html": [
       "<div>\n",
       "<style scoped>\n",
       "    .dataframe tbody tr th:only-of-type {\n",
       "        vertical-align: middle;\n",
       "    }\n",
       "\n",
       "    .dataframe tbody tr th {\n",
       "        vertical-align: top;\n",
       "    }\n",
       "\n",
       "    .dataframe thead th {\n",
       "        text-align: right;\n",
       "    }\n",
       "</style>\n",
       "<table border=\"1\" class=\"dataframe\">\n",
       "  <thead>\n",
       "    <tr style=\"text-align: right;\">\n",
       "      <th></th>\n",
       "      <th>theta</th>\n",
       "      <th>y</th>\n",
       "      <th>r</th>\n",
       "    </tr>\n",
       "  </thead>\n",
       "  <tbody>\n",
       "    <tr>\n",
       "      <th>2.743274</th>\n",
       "      <td>1218.554529</td>\n",
       "      <td>45.12</td>\n",
       "      <td>0.054029</td>\n",
       "    </tr>\n",
       "    <tr>\n",
       "      <th>2.771850</th>\n",
       "      <td>1227.234916</td>\n",
       "      <td>45.59</td>\n",
       "      <td>0.054271</td>\n",
       "    </tr>\n",
       "    <tr>\n",
       "      <th>2.800426</th>\n",
       "      <td>1235.879005</td>\n",
       "      <td>46.06</td>\n",
       "      <td>0.054513</td>\n",
       "    </tr>\n",
       "    <tr>\n",
       "      <th>2.829001</th>\n",
       "      <td>1244.487208</td>\n",
       "      <td>46.53</td>\n",
       "      <td>0.054753</td>\n",
       "    </tr>\n",
       "    <tr>\n",
       "      <th>2.857577</th>\n",
       "      <td>1253.059832</td>\n",
       "      <td>47.00</td>\n",
       "      <td>0.054992</td>\n",
       "    </tr>\n",
       "  </tbody>\n",
       "</table>\n",
       "</div>"
      ],
      "text/plain": [
       "                theta      y         r\n",
       "2.743274  1218.554529  45.12  0.054029\n",
       "2.771850  1227.234916  45.59  0.054271\n",
       "2.800426  1235.879005  46.06  0.054513\n",
       "2.829001  1244.487208  46.53  0.054753\n",
       "2.857577  1253.059832  47.00  0.054992"
      ]
     },
     "execution_count": 34,
     "metadata": {},
     "output_type": "execute_result"
    }
   ],
   "source": [
    "results_mlv.tail()"
   ]
  },
  {
   "cell_type": "code",
   "execution_count": 39,
   "metadata": {},
   "outputs": [
    {
     "name": "stdout",
     "output_type": "stream",
     "text": [
      "The time to finish rolling the paper at the maximum linear velocity is 2.86 seconds.\n"
     ]
    }
   ],
   "source": [
    "# solution\n",
    "print(f\"The time to finish rolling the paper at the maximum linear velocity is {t_relv:.2f} seconds.\")"
   ]
  }
 ],
 "metadata": {
  "kernelspec": {
   "display_name": "modsimpy",
   "language": "python",
   "name": "python3"
  },
  "language_info": {
   "codemirror_mode": {
    "name": "ipython",
    "version": 3
   },
   "file_extension": ".py",
   "mimetype": "text/x-python",
   "name": "python",
   "nbconvert_exporter": "python",
   "pygments_lexer": "ipython3",
   "version": "3.12.2"
  }
 },
 "nbformat": 4,
 "nbformat_minor": 2
}
