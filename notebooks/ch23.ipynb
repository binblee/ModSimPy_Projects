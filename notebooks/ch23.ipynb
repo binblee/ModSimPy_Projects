{
 "cells": [
  {
   "cell_type": "code",
   "execution_count": 2,
   "metadata": {},
   "outputs": [],
   "source": [
    "from modsim import *\n",
    "from pint import UnitRegistry\n",
    "units = UnitRegistry()"
   ]
  },
  {
   "cell_type": "code",
   "execution_count": 3,
   "metadata": {},
   "outputs": [],
   "source": [
    "feet_to_meter = (1 * units.feet).to(units.meter).magnitude"
   ]
  },
  {
   "cell_type": "code",
   "execution_count": 4,
   "metadata": {},
   "outputs": [
    {
     "data": {
      "text/plain": [
       "namespace(x=0,\n",
       "          y=1,\n",
       "          angle=45,\n",
       "          speed=40,\n",
       "          mass=0.145,\n",
       "          diameter=0.073,\n",
       "          C_d=0.33,\n",
       "          rho=1.2,\n",
       "          g=9.8,\n",
       "          t_end=10,\n",
       "          wall_distance=94.48799999999999,\n",
       "          wall_height=11.277599999999998)"
      ]
     },
     "execution_count": 4,
     "metadata": {},
     "output_type": "execute_result"
    }
   ],
   "source": [
    "params = Params(\n",
    "    x=0, # m\n",
    "    y=1, # m\n",
    "    angle=45, # degree\n",
    "    speed=40, # m / s\n",
    "\n",
    "    mass=145e-3, # kg\n",
    "    diameter=73e-3, # m\n",
    "    C_d=0.33, # dimensionless\n",
    "\n",
    "    rho=1.2, # kg/m**3\n",
    "    g=9.8, # m/s**2\n",
    "    t_end=10, # s\n",
    "\n",
    "    wall_distance= 310 * feet_to_meter, # m\n",
    "    wall_height= 37 * feet_to_meter, # m\n",
    ")\n",
    "params"
   ]
  },
  {
   "cell_type": "code",
   "execution_count": 17,
   "metadata": {},
   "outputs": [],
   "source": [
    "from numpy import pi, deg2rad\n",
    "def make_system(params):\n",
    "    # convert angle to radians\n",
    "    theta = deg2rad(params.angle)\n",
    "\n",
    "    # compute x and y components of velocity\n",
    "    vx, vy = pol2cart(theta, params.speed)\n",
    "\n",
    "    # make the initial state\n",
    "    init = State(x=params.x, y=params.y, vx=vx, vy=vy)\n",
    "\n",
    "    # compute the frontal area\n",
    "    area = pi * (params.diameter/2)**2\n",
    "\n",
    "    # return system\n",
    "    return System(params, init=init, area=area)\n",
    "\n",
    "def drag_force(V, system):\n",
    "    rho, C_d, area = system.rho, system.C_d, system.area\n",
    "    mag = rho * vector_mag(V)**2 * C_d * area / 2\n",
    "    direction = -vector_hat(V)\n",
    "    f_drag = mag * direction\n",
    "    return f_drag\n",
    "\n",
    "def slope_func(t, state, system):\n",
    "    x, y, vx, vy = state\n",
    "    mass, g = system.mass, system.g\n",
    "    V = Vector(vx, vy)\n",
    "    a_drag = drag_force(V, system) / system.mass\n",
    "    a_grav = Vector(0, -g)\n",
    "    A = a_grav + a_drag\n",
    "    return V.x, V.y, A.x, A.y\n",
    "\n",
    "def event_func(t, state, system):\n",
    "    x, y, vx, vy = state\n",
    "    return y\n",
    "\n",
    "system = make_system(params)"
   ]
  },
  {
   "cell_type": "code",
   "execution_count": 7,
   "metadata": {},
   "outputs": [],
   "source": [
    "def range_func(angle, params):\n",
    "    params = params.set(angle=angle)\n",
    "    system = make_system(params)\n",
    "    results, details = run_solve_ivp(system, slope_func, events=event_func)\n",
    "    x_dist = results.iloc[-1].x\n",
    "    print(angle, x_dist)\n",
    "    return x_dist"
   ]
  },
  {
   "cell_type": "code",
   "execution_count": 8,
   "metadata": {},
   "outputs": [
    {
     "name": "stdout",
     "output_type": "stream",
     "text": [
      "45 99.31829628352207\n"
     ]
    },
    {
     "data": {
      "text/plain": [
       "np.float64(99.31829628352207)"
      ]
     },
     "execution_count": 8,
     "metadata": {},
     "output_type": "execute_result"
    }
   ],
   "source": [
    "range_func(45, params)"
   ]
  },
  {
   "cell_type": "code",
   "execution_count": 11,
   "metadata": {},
   "outputs": [
    {
     "name": "stdout",
     "output_type": "stream",
     "text": [
      "20.0 78.09741067882733\n",
      "23.0 84.11542610650983\n",
      "26.0 89.13192412363966\n",
      "29.0 93.17466724082834\n",
      "32.0 96.27134737391354\n",
      "35.0 98.44725560273994\n",
      "38.0 99.72474586365274\n",
      "41.0 100.12347299697635\n",
      "44.0 99.66100302635328\n",
      "47.0 98.35354763684825\n",
      "50.0 96.21673516565134\n",
      "53.0 93.26623796736267\n",
      "56.0 89.51751617672977\n",
      "59.0 84.98724481958087\n",
      "62.0 79.69434524339994\n",
      "65.0 73.66129770133256\n",
      "68.0 66.91470886279748\n",
      "71.0 59.482694929397475\n",
      "74.0 51.402871099404315\n",
      "77.0 42.72047925533483\n",
      "80.0 33.48437980813934\n"
     ]
    },
    {
     "data": {
      "image/png": "[encoded data removed]",
      "text/plain": [
       "<Figure size 450x300 with 1 Axes>"
      ]
     },
     "metadata": {},
     "output_type": "display_data"
    }
   ],
   "source": [
    "angles = linspace(20, 80, 21)\n",
    "sweep = SweepSeries()\n",
    "for angle in angles:\n",
    "    x_dist = range_func(angle, params)\n",
    "    sweep[angle] = x_dist\n",
    "sweep.plot()\n",
    "decorate(xlabel='Launch angle (degrees)',\n",
    "         ylabel='Range (m)')"
   ]
  },
  {
   "cell_type": "code",
   "execution_count": 12,
   "metadata": {},
   "outputs": [
    {
     "name": "stdout",
     "output_type": "stream",
     "text": [
      "0 17.468795355645696\n",
      "34.37694101250946 98.06996498016366\n",
      "55.62305898749054 90.03182421721928\n",
      "21.246117974981075 80.72039493627986\n",
      "41.173855871044005 100.1200188931698\n",
      "40.980120907838035 100.12368377099199\n",
      "40.882137319070246 100.1241700443184\n",
      "40.87925420124324 100.12417043309694\n",
      "40.87928713865314 100.12417043314977\n",
      "40.879291078324286 100.12417043314917\n",
      "40.879283198981994 100.12417043314895\n"
     ]
    }
   ],
   "source": [
    "res = maximize_scalar(range_func, params, bounds=[0, 90])"
   ]
  },
  {
   "cell_type": "code",
   "execution_count": 13,
   "metadata": {},
   "outputs": [
    {
     "data": {
      "text/plain": [
       " message: Solution found.\n",
       " success: True\n",
       "  status: 0\n",
       "     fun: 100.12417043314977\n",
       "       x: 40.87928713865314\n",
       "     nit: 10\n",
       "    nfev: 10"
      ]
     },
     "execution_count": 13,
     "metadata": {},
     "output_type": "execute_result"
    }
   ],
   "source": [
    "res"
   ]
  },
  {
   "cell_type": "code",
   "execution_count": 14,
   "metadata": {},
   "outputs": [
    {
     "data": {
      "text/plain": [
       "(np.float64(40.87928713865314), np.float64(100.12417043314977))"
      ]
     },
     "execution_count": 14,
     "metadata": {},
     "output_type": "execute_result"
    }
   ],
   "source": [
    "res.x, res.fun"
   ]
  },
  {
   "cell_type": "markdown",
   "metadata": {},
   "source": [
    "### Exercise 1\n",
    "\n",
    "Let's finish off the Manny Ramirez problem:\n",
    "\n",
    "> What is the minimum effort required to hit a home run in Fenway Park?\n",
    "\n",
    "Although the problem asks for a minimum, it is not an optimization problem.  Rather, we want to solve for the initial speed that just barely gets the ball to the top of the wall, given that it is launched at the optimal angle.\n",
    "\n",
    "And we have to be careful about what we mean by \"optimal\".  For this problem, we don't want the longest range; we want the maximum height at the point where it reaches the wall.\n",
    "\n",
    "If you are ready to solve the problem on your own, go ahead.  Otherwise I will walk you through the process with an outline and some starter code.\n",
    "\n",
    "As a first step, write an `event_func` that stops the simulation when the ball reaches the wall at `wall_distance`, which is a parameter in `params`.\n",
    "Test your function with the initial conditions."
   ]
  },
  {
   "cell_type": "code",
   "execution_count": 23,
   "metadata": {},
   "outputs": [],
   "source": [
    "def event_func(t, state, system):\n",
    "    x, y, vx, vy = state\n",
    "    return x - system.wall_distance "
   ]
  },
  {
   "cell_type": "code",
   "execution_count": 24,
   "metadata": {},
   "outputs": [
    {
     "data": {
      "text/plain": [
       "-94.48799999999999"
      ]
     },
     "execution_count": 24,
     "metadata": {},
     "output_type": "execute_result"
    }
   ],
   "source": [
    "event_func(0, system.init, system)"
   ]
  },
  {
   "cell_type": "markdown",
   "metadata": {},
   "source": [
    "Next, write a function called `height_func` that takes a launch angle, simulates the flight of a baseball, and returns the height of the baseball when it reaches the wall.\n",
    "Test your function with the initial conditions."
   ]
  },
  {
   "cell_type": "code",
   "execution_count": 25,
   "metadata": {},
   "outputs": [],
   "source": [
    "def height_func(angle, params):\n",
    "    params = params.set(angle=angle)\n",
    "    system = make_system(params)\n",
    "    results, details = run_solve_ivp(system, slope_func, events=event_func)\n",
    "    y_height = results.iloc[-1].y\n",
    "    return y_height"
   ]
  },
  {
   "cell_type": "code",
   "execution_count": 26,
   "metadata": {},
   "outputs": [
    {
     "data": {
      "text/plain": [
       "np.float64(6.968278259866757)"
      ]
     },
     "execution_count": 26,
     "metadata": {},
     "output_type": "execute_result"
    }
   ],
   "source": [
    "height_func(45, params)"
   ]
  },
  {
   "cell_type": "markdown",
   "metadata": {},
   "source": [
    "Now use `maximize_scalar` to find the optimal angle.  Is it higher or lower than the angle that maximizes range?"
   ]
  },
  {
   "cell_type": "code",
   "execution_count": 27,
   "metadata": {},
   "outputs": [
    {
     "data": {
      "text/plain": [
       " message: Solution found.\n",
       " success: True\n",
       "  status: 0\n",
       "     fun: 7.217049532932929\n",
       "       x: 43.1050809786475\n",
       "     nit: 13\n",
       "    nfev: 13"
      ]
     },
     "execution_count": 27,
     "metadata": {},
     "output_type": "execute_result"
    }
   ],
   "source": [
    "res2 = maximize_scalar(height_func, params, bounds=[0, 90])\n",
    "res2"
   ]
  },
  {
   "cell_type": "code",
   "execution_count": 31,
   "metadata": {},
   "outputs": [
    {
     "data": {
      "text/plain": [
       "(np.float64(43.1050809786475), np.float64(-4.060550467067069))"
      ]
     },
     "execution_count": 31,
     "metadata": {},
     "output_type": "execute_result"
    }
   ],
   "source": [
    "res2.x, res2.fun - system.wall_height"
   ]
  },
  {
   "cell_type": "markdown",
   "metadata": {},
   "source": [
    "The angle that maximizes the height at the wall is a little higher than the angle that maximizes range.\n",
    "\n",
    "Now, let's find the initial speed that makes the height at the wall exactly 37 feet, given that it's launched at the optimal angle. \n",
    "This is a root-finding problem, so we'll use `root_scalar`.\n",
    "\n",
    "Write an error function that takes a speed and a `System` object as parameters.  It should use `maximize_scalar` to find the highest possible height of the ball at the wall, for the given speed.  Then it should return the difference between that optimal height and `wall_height`, which is a parameter in `params`."
   ]
  },
  {
   "cell_type": "code",
   "execution_count": 36,
   "metadata": {},
   "outputs": [],
   "source": [
    "def error_func(speed, params):\n",
    "    params = params.set(speed=speed, angle=res2.x)\n",
    "    res = maximize_scalar(height_func, params, bounds=[0, 90])\n",
    "    y_height = res.fun\n",
    "    return y_height - params.wall_height"
   ]
  },
  {
   "cell_type": "markdown",
   "metadata": {},
   "source": [
    "Test your error function before you call `root_scalar`."
   ]
  },
  {
   "cell_type": "code",
   "execution_count": 37,
   "metadata": {},
   "outputs": [
    {
     "data": {
      "text/plain": [
       "np.float64(-4.060550467067069)"
      ]
     },
     "execution_count": 37,
     "metadata": {},
     "output_type": "execute_result"
    }
   ],
   "source": [
    "error_func(system.speed, params)"
   ]
  },
  {
   "cell_type": "markdown",
   "metadata": {},
   "source": [
    "Then use `root_scalar` to find the answer to the problem, the minimum speed that gets the ball out of the park."
   ]
  },
  {
   "cell_type": "code",
   "execution_count": 38,
   "metadata": {},
   "outputs": [
    {
     "data": {
      "text/plain": [
       "      converged: True\n",
       "           flag: converged\n",
       " function_calls: 6\n",
       "     iterations: 5\n",
       "           root: 41.03929463402887\n",
       "         method: brentq"
      ]
     },
     "execution_count": 38,
     "metadata": {},
     "output_type": "execute_result"
    }
   ],
   "source": [
    "res3 = root_scalar(error_func, params, bracket=[30, 50])\n",
    "res3"
   ]
  },
  {
   "cell_type": "code",
   "execution_count": 41,
   "metadata": {},
   "outputs": [
    {
     "name": "stdout",
     "output_type": "stream",
     "text": [
      "Optimal launch angle 43.11 degrees at speed: 41.04  m/s\n"
     ]
    }
   ],
   "source": [
    "# Solution\n",
    "print(f\"Optimal launch angle {res2.x:.2f} degrees at speed: {res3.root:.2f}  m/s\")"
   ]
  },
  {
   "cell_type": "markdown",
   "metadata": {},
   "source": [
    "And just to check, run `error_func` with the value you found."
   ]
  },
  {
   "cell_type": "code",
   "execution_count": 42,
   "metadata": {},
   "outputs": [
    {
     "data": {
      "text/plain": [
       "np.float64(0.0010039392295819738)"
      ]
     },
     "execution_count": 42,
     "metadata": {},
     "output_type": "execute_result"
    }
   ],
   "source": [
    "error_func(res3.root, params)"
   ]
  }
 ],
 "metadata": {
  "kernelspec": {
   "display_name": "modsimpy",
   "language": "python",
   "name": "python3"
  },
  "language_info": {
   "codemirror_mode": {
    "name": "ipython",
    "version": 3
   },
   "file_extension": ".py",
   "mimetype": "text/x-python",
   "name": "python",
   "nbconvert_exporter": "python",
   "pygments_lexer": "ipython3",
   "version": "3.12.2"
  }
 },
 "nbformat": 4,
 "nbformat_minor": 2
}
