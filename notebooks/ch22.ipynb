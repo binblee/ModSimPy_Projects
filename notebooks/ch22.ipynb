{
 "cells": [
  {
   "cell_type": "code",
   "execution_count": 1,
   "metadata": {},
   "outputs": [],
   "source": [
    "from modsim import *"
   ]
  },
  {
   "cell_type": "code",
   "execution_count": 3,
   "metadata": {},
   "outputs": [
    {
     "data": {
      "text/plain": [
       "(np.float64(5.0), np.float64(0.9272952180016122))"
      ]
     },
     "execution_count": 3,
     "metadata": {},
     "output_type": "execute_result"
    }
   ],
   "source": [
    "A = Vector(3, 4)\n",
    "mag, theta = vector_mag(A), vector_angle(A)\n",
    "mag, theta"
   ]
  },
  {
   "cell_type": "code",
   "execution_count": 4,
   "metadata": {},
   "outputs": [
    {
     "data": {
      "text/plain": [
       "x    3.0\n",
       "y    4.0\n",
       "Name: component, dtype: float64"
      ]
     },
     "execution_count": 4,
     "metadata": {},
     "output_type": "execute_result"
    }
   ],
   "source": [
    "x, y = pol2cart(theta, mag)\n",
    "C = Vector(x, y)\n",
    "C"
   ]
  },
  {
   "cell_type": "code",
   "execution_count": 5,
   "metadata": {},
   "outputs": [
    {
     "data": {
      "text/plain": [
       "x    0.6\n",
       "y    0.8\n",
       "Name: component, dtype: float64"
      ]
     },
     "execution_count": 5,
     "metadata": {},
     "output_type": "execute_result"
    }
   ],
   "source": [
    "A / vector_mag(A)"
   ]
  },
  {
   "cell_type": "code",
   "execution_count": 6,
   "metadata": {},
   "outputs": [
    {
     "data": {
      "text/plain": [
       "x    0.6\n",
       "y    0.8\n",
       "Name: component, dtype: float64"
      ]
     },
     "execution_count": 6,
     "metadata": {},
     "output_type": "execute_result"
    }
   ],
   "source": [
    "A_hat = vector_hat(A)\n",
    "A_hat"
   ]
  },
  {
   "cell_type": "code",
   "execution_count": 9,
   "metadata": {},
   "outputs": [],
   "source": [
    "params = Params(\n",
    "    x=0, # m\n",
    "    y=1, # m\n",
    "    angle=45, # degree\n",
    "    speed=40, # m / s\n",
    "\n",
    "    mass=145e-3, # kg\n",
    "    diameter=73e-3, # m\n",
    "    C_d=0.33, # dimensionless\n",
    "\n",
    "    rho=1.2, # kg/m**3\n",
    "    g=9.8, # m/s**2\n",
    "    t_end=10, # s\n",
    ")"
   ]
  },
  {
   "cell_type": "code",
   "execution_count": 7,
   "metadata": {},
   "outputs": [],
   "source": [
    "from numpy import pi, deg2rad\n",
    "def make_system(params):\n",
    "    # convert angle to radians\n",
    "    theta = deg2rad(params.angle)\n",
    "\n",
    "    # compute x and y components of velocity\n",
    "    vx, vy = pol2cart(theta, params.speed)\n",
    "\n",
    "    # make the initial state\n",
    "    init = State(x=params.x, y=params.y, vx=vx, vy=vy)\n",
    "\n",
    "    # compute the frontal area\n",
    "    area = pi * (params.diameter/2)**2\n",
    "\n",
    "    # return system\n",
    "    return System(params, init=init, area=area)"
   ]
  },
  {
   "cell_type": "code",
   "execution_count": 10,
   "metadata": {},
   "outputs": [
    {
     "data": {
      "text/plain": [
       "x      0.000000\n",
       "y      1.000000\n",
       "vx    28.284271\n",
       "vy    28.284271\n",
       "Name: state, dtype: float64"
      ]
     },
     "execution_count": 10,
     "metadata": {},
     "output_type": "execute_result"
    }
   ],
   "source": [
    "system = make_system(params)\n",
    "system.init"
   ]
  },
  {
   "cell_type": "code",
   "execution_count": 17,
   "metadata": {},
   "outputs": [],
   "source": [
    "def drag_force(V, system):\n",
    "    rho, C_d, area = system.rho, system.C_d, system.area\n",
    "    mag = rho * vector_mag(V)**2 * C_d * area / 2\n",
    "    direction = -vector_hat(V)\n",
    "    f_drag = mag * direction\n",
    "    return f_drag"
   ]
  },
  {
   "cell_type": "code",
   "execution_count": 19,
   "metadata": {},
   "outputs": [
    {
     "data": {
      "text/plain": [
       "x   -0.937574\n",
       "y   -0.937574\n",
       "Name: component, dtype: float64"
      ]
     },
     "execution_count": 19,
     "metadata": {},
     "output_type": "execute_result"
    }
   ],
   "source": [
    "vx, vy = system.init.vx, system.init.vy\n",
    "V_test = Vector(vx, vy)\n",
    "f_drag = drag_force(V_test, system)\n",
    "f_drag"
   ]
  },
  {
   "cell_type": "code",
   "execution_count": 20,
   "metadata": {},
   "outputs": [],
   "source": [
    "def slope_func(t, state, system):\n",
    "    x, y, vx, vy = state\n",
    "    mass, g = system.mass, system.g\n",
    "    V = Vector(vx, vy)\n",
    "    a_drag = drag_force(V, system) / system.mass\n",
    "    a_grav = Vector(0, -g)\n",
    "    A = a_grav + a_drag\n",
    "    return V.x, V.y, A.x, A.y"
   ]
  },
  {
   "cell_type": "code",
   "execution_count": 21,
   "metadata": {},
   "outputs": [
    {
     "data": {
      "text/plain": [
       "(np.float64(28.284271247461902),\n",
       " np.float64(28.2842712474619),\n",
       " np.float64(-6.466030881564545),\n",
       " np.float64(-16.266030881564546))"
      ]
     },
     "execution_count": 21,
     "metadata": {},
     "output_type": "execute_result"
    }
   ],
   "source": [
    "slope_func(0, system.init, system)"
   ]
  },
  {
   "cell_type": "code",
   "execution_count": 22,
   "metadata": {},
   "outputs": [],
   "source": [
    "def event_func(t, state, system):\n",
    "    x, y, vx, vy = state\n",
    "    return y"
   ]
  },
  {
   "cell_type": "code",
   "execution_count": 23,
   "metadata": {},
   "outputs": [
    {
     "data": {
      "text/plain": [
       "1.0"
      ]
     },
     "execution_count": 23,
     "metadata": {},
     "output_type": "execute_result"
    }
   ],
   "source": [
    "event_func(0, system.init, system)"
   ]
  },
  {
   "cell_type": "code",
   "execution_count": 25,
   "metadata": {},
   "outputs": [
    {
     "data": {
      "text/plain": [
       "'A termination event occurred.'"
      ]
     },
     "execution_count": 25,
     "metadata": {},
     "output_type": "execute_result"
    }
   ],
   "source": [
    "results, details = run_solve_ivp(system, slope_func, events=event_func)\n",
    "details.message"
   ]
  },
  {
   "cell_type": "code",
   "execution_count": 26,
   "metadata": {},
   "outputs": [
    {
     "data": {
      "text/html": [
       "<div>\n",
       "<style scoped>\n",
       "    .dataframe tbody tr th:only-of-type {\n",
       "        vertical-align: middle;\n",
       "    }\n",
       "\n",
       "    .dataframe tbody tr th {\n",
       "        vertical-align: top;\n",
       "    }\n",
       "\n",
       "    .dataframe thead th {\n",
       "        text-align: right;\n",
       "    }\n",
       "</style>\n",
       "<table border=\"1\" class=\"dataframe\">\n",
       "  <thead>\n",
       "    <tr style=\"text-align: right;\">\n",
       "      <th></th>\n",
       "      <th>x</th>\n",
       "      <th>y</th>\n",
       "      <th>vx</th>\n",
       "      <th>vy</th>\n",
       "    </tr>\n",
       "  </thead>\n",
       "  <tbody>\n",
       "    <tr>\n",
       "      <th>4.804692</th>\n",
       "      <td>96.438515</td>\n",
       "      <td>4.284486</td>\n",
       "      <td>14.590855</td>\n",
       "      <td>-20.726780</td>\n",
       "    </tr>\n",
       "    <tr>\n",
       "      <th>4.854740</th>\n",
       "      <td>97.166460</td>\n",
       "      <td>3.238415</td>\n",
       "      <td>14.484772</td>\n",
       "      <td>-21.065476</td>\n",
       "    </tr>\n",
       "    <tr>\n",
       "      <th>4.904789</th>\n",
       "      <td>97.889087</td>\n",
       "      <td>2.175515</td>\n",
       "      <td>14.378566</td>\n",
       "      <td>-21.400392</td>\n",
       "    </tr>\n",
       "    <tr>\n",
       "      <th>4.954838</th>\n",
       "      <td>98.606374</td>\n",
       "      <td>1.095978</td>\n",
       "      <td>14.272264</td>\n",
       "      <td>-21.731499</td>\n",
       "    </tr>\n",
       "    <tr>\n",
       "      <th>5.004887</th>\n",
       "      <td>99.318296</td>\n",
       "      <td>0.000000</td>\n",
       "      <td>14.165894</td>\n",
       "      <td>-22.058763</td>\n",
       "    </tr>\n",
       "  </tbody>\n",
       "</table>\n",
       "</div>"
      ],
      "text/plain": [
       "                  x         y         vx         vy\n",
       "4.804692  96.438515  4.284486  14.590855 -20.726780\n",
       "4.854740  97.166460  3.238415  14.484772 -21.065476\n",
       "4.904789  97.889087  2.175515  14.378566 -21.400392\n",
       "4.954838  98.606374  1.095978  14.272264 -21.731499\n",
       "5.004887  99.318296  0.000000  14.165894 -22.058763"
      ]
     },
     "execution_count": 26,
     "metadata": {},
     "output_type": "execute_result"
    }
   ],
   "source": [
    "results.tail()"
   ]
  },
  {
   "cell_type": "code",
   "execution_count": 27,
   "metadata": {},
   "outputs": [
    {
     "data": {
      "text/plain": [
       "np.float64(5.004887034868346)"
      ]
     },
     "execution_count": 27,
     "metadata": {},
     "output_type": "execute_result"
    }
   ],
   "source": [
    "flight_time = results.index[-1]\n",
    "flight_time"
   ]
  },
  {
   "cell_type": "code",
   "execution_count": 28,
   "metadata": {},
   "outputs": [
    {
     "data": {
      "text/plain": [
       "x     99.318296\n",
       "y      0.000000\n",
       "vx    14.165894\n",
       "vy   -22.058763\n",
       "Name: 5.004887034868346, dtype: float64"
      ]
     },
     "execution_count": 28,
     "metadata": {},
     "output_type": "execute_result"
    }
   ],
   "source": [
    "final_state = results.iloc[-1]\n",
    "final_state"
   ]
  },
  {
   "cell_type": "code",
   "execution_count": 29,
   "metadata": {},
   "outputs": [
    {
     "data": {
      "text/plain": [
       "np.float64(99.31829628352207)"
      ]
     },
     "execution_count": 29,
     "metadata": {},
     "output_type": "execute_result"
    }
   ],
   "source": [
    "x_dist = final_state.x\n",
    "x_dist"
   ]
  },
  {
   "cell_type": "code",
   "execution_count": 30,
   "metadata": {},
   "outputs": [
    {
     "data": {
      "text/plain": [
       "x    14.165894\n",
       "y   -22.058763\n",
       "Name: component, dtype: float64"
      ]
     },
     "execution_count": 30,
     "metadata": {},
     "output_type": "execute_result"
    }
   ],
   "source": [
    "final_V = Vector(final_state.vx, final_state.vy)\n",
    "final_V"
   ]
  },
  {
   "cell_type": "code",
   "execution_count": 31,
   "metadata": {},
   "outputs": [
    {
     "data": {
      "text/plain": [
       "np.float64(26.215674453237572)"
      ]
     },
     "execution_count": 31,
     "metadata": {},
     "output_type": "execute_result"
    }
   ],
   "source": [
    "vector_mag(final_V)"
   ]
  },
  {
   "cell_type": "code",
   "execution_count": 32,
   "metadata": {},
   "outputs": [
    {
     "data": {
      "image/png": "[encoded data removed]",
      "text/plain": [
       "<Figure size 450x300 with 1 Axes>"
      ]
     },
     "metadata": {},
     "output_type": "display_data"
    }
   ],
   "source": [
    "results.x.plot()\n",
    "results.y.plot()\n",
    "decorate(xlabel='Time (s)',ylabel='Position (m)')"
   ]
  },
  {
   "cell_type": "code",
   "execution_count": 33,
   "metadata": {},
   "outputs": [
    {
     "data": {
      "image/png": "[encoded data removed]",
      "text/plain": [
       "<Figure size 450x300 with 1 Axes>"
      ]
     },
     "metadata": {},
     "output_type": "display_data"
    }
   ],
   "source": [
    "def plot_trajetory(results):\n",
    "    x = results.x\n",
    "    y = results.y\n",
    "    make_series(x, y).plot(label='trajetory')\n",
    "    decorate(xlabel='x position (m)', ylabel='y position (m)')\n",
    "\n",
    "plot_trajetory(results)\n"
   ]
  },
  {
   "cell_type": "code",
   "execution_count": 35,
   "metadata": {},
   "outputs": [
    {
     "data": {
      "text/plain": [
       "np.float64(-57.29187097821225)"
      ]
     },
     "execution_count": 35,
     "metadata": {},
     "output_type": "execute_result"
    }
   ],
   "source": [
    "from numpy import rad2deg\n",
    "rad2deg(vector_angle(final_V))"
   ]
  },
  {
   "cell_type": "code",
   "execution_count": 36,
   "metadata": {},
   "outputs": [],
   "source": [
    "from matplotlib.pyplot import plot\n",
    "xlim = results.x.min(), results.x.max()\n",
    "ylim = results.y.min(), results.y.max()\n",
    "def draw_func(t, state):\n",
    "    # plot(state.x, state.y, 'bo', update=True)\n",
    "    plot(state.x, state.y, 'bo')\n",
    "    decorate(xlim=xlim, ylim=ylim, xlabel='x position (m)', ylabel='y position (m)')"
   ]
  },
  {
   "cell_type": "code",
   "execution_count": 38,
   "metadata": {},
   "outputs": [
    {
     "data": {
      "image/png": "[encoded data removed]",
      "text/plain": [
       "<Figure size 450x300 with 1 Axes>"
      ]
     },
     "metadata": {},
     "output_type": "display_data"
    }
   ],
   "source": [
    "animate(results, draw_func)"
   ]
  },
  {
   "cell_type": "code",
   "execution_count": 39,
   "metadata": {},
   "outputs": [],
   "source": [
    "# Exercise 22.1\n",
    "# Run the simulation with and without air resistance. \n",
    "# How wrong would we be if we ignored drag?\n",
    "# Hint\n",
    "system2 = make_system(params.set(C_d=0))"
   ]
  },
  {
   "cell_type": "code",
   "execution_count": 41,
   "metadata": {},
   "outputs": [
    {
     "data": {
      "text/plain": [
       "'A termination event occurred.'"
      ]
     },
     "execution_count": 41,
     "metadata": {},
     "output_type": "execute_result"
    }
   ],
   "source": [
    "results2, details2 = run_solve_ivp(system2, slope_func, events=event_func)\n",
    "details2.message"
   ]
  },
  {
   "cell_type": "code",
   "execution_count": 44,
   "metadata": {},
   "outputs": [],
   "source": [
    "def plot_trajetory(results, label='trajetory'):\n",
    "    x = results.x\n",
    "    y = results.y\n",
    "    make_series(x, y).plot(label=label)\n",
    "    decorate(xlabel='x position (m)', ylabel='y position (m)')"
   ]
  },
  {
   "cell_type": "code",
   "execution_count": 46,
   "metadata": {},
   "outputs": [
    {
     "data": {
      "image/png": "[encoded data removed]",
      "text/plain": [
       "<Figure size 450x300 with 1 Axes>"
      ]
     },
     "metadata": {},
     "output_type": "display_data"
    }
   ],
   "source": [
    "plot_trajetory(results, label='with air resistance')\n",
    "plot_trajetory(results2, label='without air resistance')"
   ]
  },
  {
   "cell_type": "code",
   "execution_count": 47,
   "metadata": {},
   "outputs": [],
   "source": [
    "# Exercise 22.2\n",
    "\n",
    "# The baseball stadium in Denver, Colorado, is 1,580 m above sea level, \n",
    "# where the density of air is about 1.0 kg/m3. Compared with the example \n",
    "# near sea level, how much farther would a ball travel if hit with the same \n",
    "# initial speed and launch angle?\n",
    "# Hint\n",
    "system3 = make_system(params.set(rho=1.0))"
   ]
  },
  {
   "cell_type": "code",
   "execution_count": 48,
   "metadata": {},
   "outputs": [
    {
     "data": {
      "text/plain": [
       "'A termination event occurred.'"
      ]
     },
     "execution_count": 48,
     "metadata": {},
     "output_type": "execute_result"
    }
   ],
   "source": [
    "results3, details3 = run_solve_ivp(system3, slope_func, events=event_func)\n",
    "details3.message"
   ]
  },
  {
   "cell_type": "code",
   "execution_count": 51,
   "metadata": {},
   "outputs": [
    {
     "data": {
      "text/plain": [
       "np.float64(6.4700837750757785)"
      ]
     },
     "execution_count": 51,
     "metadata": {},
     "output_type": "execute_result"
    }
   ],
   "source": [
    "results3.iloc[-1].x - results.iloc[-1].x"
   ]
  },
  {
   "cell_type": "markdown",
   "metadata": {},
   "source": [
    "### Exercise 3\n",
    "\n",
    " The model so far is based on the assumption that coefficient of drag does not depend on velocity, but in reality it does.  The following figure, from Adair, *The Physics of Baseball*, shows coefficient of drag as a function of velocity (see <https://books.google.com/books/about/The_Physics_of_Baseball.html?id=4xE4Ngpk_2EC>).\n",
    "\n",
    "![Graph of drag coefficient versus velocity](./baseball_drag.png)\n",
    "\n",
    "I used an online graph digitizer (<https://automeris.io/WebPlotDigitizer>) to extract the data and save it in a CSV file.  "
   ]
  },
  {
   "cell_type": "code",
   "execution_count": 71,
   "metadata": {},
   "outputs": [
    {
     "data": {
      "text/plain": [
       "(   Velocity in mph  Drag coefficient\n",
       " 0         0.058486           0.49965\n",
       " 1        19.845000           0.49878\n",
       " 2        39.476000           0.49704\n",
       " 3        50.181000           0.48225\n",
       " 4        60.134000           0.45004,\n",
       "     Velocity in mph  Drag coefficient\n",
       " 11           104.54           0.30035\n",
       " 12           113.83           0.28816\n",
       " 13           120.90           0.28381\n",
       " 14           127.34           0.28033\n",
       " 15           134.41           0.28207)"
      ]
     },
     "execution_count": 71,
     "metadata": {},
     "output_type": "execute_result"
    }
   ],
   "source": [
    "from pandas import read_csv\n",
    "baseball_drag = read_csv('baseball_drag.csv')\n",
    "baseball_drag.head(), baseball_drag.tail()"
   ]
  },
  {
   "cell_type": "code",
   "execution_count": 66,
   "metadata": {},
   "outputs": [
    {
     "data": {
      "image/png": "[encoded data removed]",
      "text/plain": [
       "<Figure size 450x300 with 1 Axes>"
      ]
     },
     "metadata": {},
     "output_type": "display_data"
    }
   ],
   "source": [
    "make_series(baseball_drag['Velocity in mph'], baseball_drag['Drag coefficient']).plot()\n",
    "decorate(xlabel='Velocity (mph)', ylabel='Drag coefficient')"
   ]
  },
  {
   "cell_type": "code",
   "execution_count": 67,
   "metadata": {},
   "outputs": [],
   "source": [
    "from pint import UnitRegistry\n",
    "units = UnitRegistry()"
   ]
  },
  {
   "cell_type": "code",
   "execution_count": 69,
   "metadata": {},
   "outputs": [],
   "source": [
    "mph_to_mps = (1 * units.mph).to(units.m/units.s).magnitude\n",
    "speed = baseball_drag['Velocity in mph'] * mph_to_mps"
   ]
  },
  {
   "cell_type": "code",
   "execution_count": 70,
   "metadata": {},
   "outputs": [
    {
     "data": {
      "image/png": "[encoded data removed]",
      "text/plain": [
       "<Figure size 450x300 with 1 Axes>"
      ]
     },
     "metadata": {},
     "output_type": "display_data"
    }
   ],
   "source": [
    "C_d_series = make_series(speed, baseball_drag['Drag coefficient'])\n",
    "C_d_series.plot(label='$C_d$')\n",
    "decorate(xlabel='Speed (m/s)', ylabel='Drag coefficient')"
   ]
  },
  {
   "cell_type": "code",
   "execution_count": 72,
   "metadata": {},
   "outputs": [
    {
     "data": {
      "text/plain": [
       "array(0.41607879)"
      ]
     },
     "execution_count": 72,
     "metadata": {},
     "output_type": "execute_result"
    }
   ],
   "source": [
    "drag_interp = interpolate(C_d_series)\n",
    "drag_interp(30)"
   ]
  },
  {
   "cell_type": "code",
   "execution_count": 75,
   "metadata": {},
   "outputs": [
    {
     "data": {
      "text/plain": [
       "(np.float64(28.284271247461902),\n",
       " np.float64(28.2842712474619),\n",
       " np.float64(-6.534891184395128),\n",
       " np.float64(-16.334891184395126))"
      ]
     },
     "execution_count": 75,
     "metadata": {},
     "output_type": "execute_result"
    }
   ],
   "source": [
    "def drag_force_cdi(V, system):\n",
    "    rho, _, area = system.rho, system.C_d, system.area\n",
    "    C_d = drag_interp(vector_mag(V))\n",
    "    mag = rho * vector_mag(V)**2 * C_d * area / 2\n",
    "    direction = -vector_hat(V)\n",
    "    f_drag = mag * direction\n",
    "    return f_drag\n",
    "\n",
    "def slope_func_cdi(t, state, system):\n",
    "    x, y, vx, vy = state\n",
    "    mass, g = system.mass, system.g\n",
    "    V = Vector(vx, vy)\n",
    "    a_drag = drag_force_cdi(V, system) / system.mass\n",
    "    a_grav = Vector(0, -g)\n",
    "    A = a_grav + a_drag\n",
    "    return V.x, V.y, A.x, A.y\n",
    "\n",
    "slope_func_cdi(0, system.init, system)"
   ]
  },
  {
   "cell_type": "code",
   "execution_count": 76,
   "metadata": {},
   "outputs": [
    {
     "data": {
      "text/plain": [
       "'A termination event occurred.'"
      ]
     },
     "execution_count": 76,
     "metadata": {},
     "output_type": "execute_result"
    }
   ],
   "source": [
    "results_cdi, details_cdi = run_solve_ivp(system, slope_func_cdi, events=event_func)\n",
    "details_cdi.message"
   ]
  },
  {
   "cell_type": "code",
   "execution_count": 79,
   "metadata": {},
   "outputs": [
    {
     "data": {
      "image/png": "[encoded data removed]",
      "text/plain": [
       "<Figure size 450x300 with 1 Axes>"
      ]
     },
     "metadata": {},
     "output_type": "display_data"
    }
   ],
   "source": [
    "plot_trajetory(results_cdi, label='variable $C_d$')\n",
    "plot_trajetory(results, label='constant $C_d$')\n",
    "plot_trajetory(results2, label='no air resistance')"
   ]
  }
 ],
 "metadata": {
  "kernelspec": {
   "display_name": "modsimpy",
   "language": "python",
   "name": "python3"
  },
  "language_info": {
   "codemirror_mode": {
    "name": "ipython",
    "version": 3
   },
   "file_extension": ".py",
   "mimetype": "text/x-python",
   "name": "python",
   "nbconvert_exporter": "python",
   "pygments_lexer": "ipython3",
   "version": "3.12.2"
  }
 },
 "nbformat": 4,
 "nbformat_minor": 2
}
