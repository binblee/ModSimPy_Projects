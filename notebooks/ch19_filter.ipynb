{
 "cells": [
  {
   "cell_type": "markdown",
   "metadata": {},
   "source": [
    "# Low-Pass Filter"
   ]
  },
  {
   "cell_type": "markdown",
   "metadata": {},
   "source": [
    "*Modeling and Simulation in Python*\n",
    "\n",
    "Copyright 2021 Allen Downey\n",
    "\n",
    "License: [Creative Commons Attribution-NonCommercial-ShareAlike 4.0 International](https://creativecommons.org/licenses/by-nc-sa/4.0/)"
   ]
  },
  {
   "cell_type": "code",
   "execution_count": 1,
   "metadata": {
    "tags": []
   },
   "outputs": [],
   "source": [
    "# install Pint if necessary\n",
    "\n",
    "try:\n",
    "    import pint\n",
    "except ImportError:\n",
    "    !pip install pint"
   ]
  },
  {
   "cell_type": "code",
   "execution_count": 2,
   "metadata": {
    "tags": []
   },
   "outputs": [],
   "source": [
    "# download modsim.py if necessary\n",
    "\n",
    "from os.path import basename, exists\n",
    "\n",
    "def download(url):\n",
    "    filename = basename(url)\n",
    "    if not exists(filename):\n",
    "        from urllib.request import urlretrieve\n",
    "        local, _ = urlretrieve(url, filename)\n",
    "        print('Downloaded ' + local)\n",
    "    \n",
    "download('https://github.com/AllenDowney/ModSimPy/raw/master/modsim.py')"
   ]
  },
  {
   "cell_type": "code",
   "execution_count": 1,
   "metadata": {
    "tags": []
   },
   "outputs": [],
   "source": [
    "# import functions from modsim\n",
    "\n",
    "from modsim import *"
   ]
  },
  {
   "cell_type": "markdown",
   "metadata": {},
   "source": [
    "The following circuit diagram (from [Wikipedia](https://commons.wikimedia.org/wiki/File:1st_Order_Lowpass_Filter_RC.svg)) shows a low-pass filter built with one resistor and one capacitor.  \n",
    "\n",
    "![Circuit diagram of a low-pass filter](https://github.com/AllenDowney/ModSim/raw/main/figs/Lowpass_Filter_RC.png)\n",
    "\n",
    "A \"filter\" is a circuit takes a signal, $V_{in}$, as input and produces a signal, $V_{out}$, as output.  In this context, a \"signal\" is a voltage that changes over time.\n",
    "\n",
    "A filter is \"low-pass\" if it allows low-frequency signals to pass from $V_{in}$ to $V_{out}$ unchanged, but it reduces the amplitude of high-frequency signals.\n",
    "\n",
    "By applying the laws of circuit analysis, we can derive a differential equation that describes the behavior of this system.  By solving the differential equation, we can predict the effect of this circuit on any input signal.\n",
    "\n",
    "Suppose we are given $V_{in}$ and $V_{out}$ at a particular instant in time.  By Ohm's law, which is a simple model of the behavior of resistors, the instantaneous current through the resistor is:\n",
    "\n",
    "$ I_R = (V_{in} - V_{out}) / R $\n",
    "\n",
    "where $R$ is resistance in ohms.\n",
    "\n",
    "Assuming that no current flows through the output of the circuit, Kirchhoff's current law implies that the current through the capacitor is:\n",
    "\n",
    "$ I_C = I_R $\n",
    "\n",
    "According to a simple model of the behavior of capacitors, current through the capacitor causes a change in the voltage across the capacitor:\n",
    "\n",
    "$ I_C = C \\frac{d V_{out}}{dt} $\n",
    "\n",
    "where $C$ is capacitance in farads (F).\n",
    "\n",
    "Combining these equations yields a differential equation for $V_{out}$:\n",
    "\n",
    "$ \\frac{d }{dt} V_{out} = \\frac{V_{in} - V_{out}}{R C} $\n",
    "\n",
    "Follow the instructions below to simulate the low-pass filter for input signals like this:\n",
    "\n",
    "$ V_{in}(t) = A \\cos (2 \\pi f t) $\n",
    "\n",
    "where $A$ is the amplitude of the input signal, say 5 V, and $f$ is the frequency of the signal in Hz."
   ]
  },
  {
   "cell_type": "markdown",
   "metadata": {},
   "source": [
    "## Params and System objects\n",
    "\n",
    "Here's a `Params` object to contain the quantities we need.  I've chosen values for `R1` and `C1` that might be typical for a circuit that works with audio signal."
   ]
  },
  {
   "cell_type": "code",
   "execution_count": 2,
   "metadata": {},
   "outputs": [
    {
     "data": {
      "text/plain": [
       "namespace(R1=1000000.0, C1=1e-09, A=5, f=1000)"
      ]
     },
     "execution_count": 2,
     "metadata": {},
     "output_type": "execute_result"
    }
   ],
   "source": [
    "params = Params(\n",
    "    R1 = 1e6,   # * ohm\n",
    "    C1 = 1e-9,  # * farad\n",
    "    A = 5,      # * volt\n",
    "    f = 1000,   # * Hz\n",
    ")\n",
    "params"
   ]
  },
  {
   "cell_type": "markdown",
   "metadata": {},
   "source": [
    "Now we can pass the `Params` object `make_system` which computes some additional parameters and defines `init`.\n",
    "\n",
    "* `omega` is the frequency of the input signal in radians/second.\n",
    "\n",
    "* `tau` is the time constant for this circuit, which is the time it takes to get from an initial startup phase to \n",
    "\n",
    "* `cutoff` is the cutoff frequency for this circuit (in Hz), which marks the transition from low frequency signals, which pass through the filter unchanged, to high frequency signals, which are attenuated.\n",
    "\n",
    "* `t_end` is chosen so we run the simulation for 4 cycles of the input signal."
   ]
  },
  {
   "cell_type": "code",
   "execution_count": 3,
   "metadata": {},
   "outputs": [],
   "source": [
    "from numpy import pi\n",
    "\n",
    "def make_system(params):\n",
    "    \"\"\"Makes a System object for the given conditions.\n",
    "    \n",
    "    params: Params object\n",
    "    \n",
    "    returns: System object\n",
    "    \"\"\"\n",
    "    f, R1, C1 = params.f, params.R1, params.C1\n",
    "    \n",
    "    init = State(V_out = 0)\n",
    "    omega = 2 * pi * f\n",
    "    tau = R1 * C1\n",
    "    cutoff = 1 / R1 / C1 / 2 / pi\n",
    "    t_end = 4 / f\n",
    "    \n",
    "    return System(params, \n",
    "                  init=init, \n",
    "                  t_end=t_end, num=401,\n",
    "                  omega=omega, tau=tau, \n",
    "                  cutoff=cutoff)"
   ]
  },
  {
   "cell_type": "markdown",
   "metadata": {},
   "source": [
    "Let's make a `System`"
   ]
  },
  {
   "cell_type": "code",
   "execution_count": 4,
   "metadata": {},
   "outputs": [
    {
     "data": {
      "text/plain": [
       "namespace(R1=1000000.0,\n",
       "          C1=1e-09,\n",
       "          A=5,\n",
       "          f=1000,\n",
       "          init=V_out    0\n",
       "               Name: state, dtype: int64,\n",
       "          t_end=0.004,\n",
       "          num=401,\n",
       "          omega=6283.185307179586,\n",
       "          tau=0.001,\n",
       "          cutoff=159.15494309189532)"
      ]
     },
     "execution_count": 4,
     "metadata": {},
     "output_type": "execute_result"
    }
   ],
   "source": [
    "system = make_system(params)\n",
    "system"
   ]
  },
  {
   "cell_type": "markdown",
   "metadata": {},
   "source": [
    "The system variable `num` controls how many time steps we get from `run_solve_ivp`.  The default is 101; in this case we increase it to 401 because the methods we'll use to analyze the results require high resolution in time."
   ]
  },
  {
   "cell_type": "markdown",
   "metadata": {},
   "source": [
    "**Exercise:** Write a slope function that takes as an input a `State` object that contains `V_out`, and returns the derivative of `V_out`.\n"
   ]
  },
  {
   "cell_type": "markdown",
   "metadata": {},
   "source": [
    "\n",
    "Combining these equations yields a differential equation for $V_{out}$:\n",
    "\n",
    "$ \\frac{d }{dt} V_{out} = \\frac{V_{in} - V_{out}}{R C} $\n",
    "\n",
    "Follow the instructions below to simulate the low-pass filter for input signals like this:\n",
    "\n",
    "$ V_{in}(t) = A \\cos (2 \\pi f t) $"
   ]
  },
  {
   "cell_type": "code",
   "execution_count": 33,
   "metadata": {},
   "outputs": [],
   "source": [
    "# Solution goes here\n",
    "def slope_func(t, state, system):\n",
    "    V_in = system.A * np.cos(system.omega * t)\n",
    "    V_out = state\n",
    "    dVoutdt = (V_in - V_out) / system.tau\n",
    "    return dVoutdt\n"
   ]
  },
  {
   "cell_type": "markdown",
   "metadata": {},
   "source": [
    "Test the slope function with the initial conditions."
   ]
  },
  {
   "cell_type": "code",
   "execution_count": 34,
   "metadata": {},
   "outputs": [
    {
     "data": {
      "text/plain": [
       "V_out    5000.0\n",
       "Name: state, dtype: float64"
      ]
     },
     "execution_count": 34,
     "metadata": {},
     "output_type": "execute_result"
    }
   ],
   "source": [
    "slope_func(0, system.init, system)"
   ]
  },
  {
   "cell_type": "markdown",
   "metadata": {},
   "source": [
    "And then run the simulation.  I suggest using `t_eval=ts` to make sure we have enough data points to plot and analyze the results. "
   ]
  },
  {
   "cell_type": "code",
   "execution_count": 38,
   "metadata": {},
   "outputs": [
    {
     "data": {
      "text/plain": [
       "'The solver successfully reached the end of the integration interval.'"
      ]
     },
     "execution_count": 38,
     "metadata": {},
     "output_type": "execute_result"
    }
   ],
   "source": [
    "results, details = run_solve_ivp(system, slope_func)\n",
    "details.message"
   ]
  },
  {
   "cell_type": "code",
   "execution_count": 39,
   "metadata": {},
   "outputs": [
    {
     "data": {
      "text/html": [
       "<div>\n",
       "<style scoped>\n",
       "    .dataframe tbody tr th:only-of-type {\n",
       "        vertical-align: middle;\n",
       "    }\n",
       "\n",
       "    .dataframe tbody tr th {\n",
       "        vertical-align: top;\n",
       "    }\n",
       "\n",
       "    .dataframe thead th {\n",
       "        text-align: right;\n",
       "    }\n",
       "</style>\n",
       "<table border=\"1\" class=\"dataframe\">\n",
       "  <thead>\n",
       "    <tr style=\"text-align: right;\">\n",
       "      <th></th>\n",
       "      <th>V_out</th>\n",
       "    </tr>\n",
       "  </thead>\n",
       "  <tbody>\n",
       "    <tr>\n",
       "      <th>0.00004</th>\n",
       "      <td>-0.001978</td>\n",
       "    </tr>\n",
       "    <tr>\n",
       "      <th>0.00004</th>\n",
       "      <td>-0.001490</td>\n",
       "    </tr>\n",
       "    <tr>\n",
       "      <th>0.00004</th>\n",
       "      <td>-0.000996</td>\n",
       "    </tr>\n",
       "    <tr>\n",
       "      <th>0.00004</th>\n",
       "      <td>-0.000499</td>\n",
       "    </tr>\n",
       "    <tr>\n",
       "      <th>0.00004</th>\n",
       "      <td>0.000001</td>\n",
       "    </tr>\n",
       "  </tbody>\n",
       "</table>\n",
       "</div>"
      ],
      "text/plain": [
       "            V_out\n",
       "0.00004 -0.001978\n",
       "0.00004 -0.001490\n",
       "0.00004 -0.000996\n",
       "0.00004 -0.000499\n",
       "0.00004  0.000001"
      ]
     },
     "execution_count": 39,
     "metadata": {},
     "output_type": "execute_result"
    }
   ],
   "source": [
    "results.tail()"
   ]
  },
  {
   "cell_type": "markdown",
   "metadata": {},
   "source": [
    "Here's a function you can use to plot `V_out` as a function of time."
   ]
  },
  {
   "cell_type": "code",
   "execution_count": 40,
   "metadata": {},
   "outputs": [
    {
     "data": {
      "image/png": "[encoded data removed]",
      "text/plain": [
       "<Figure size 450x300 with 1 Axes>"
      ]
     },
     "metadata": {},
     "output_type": "display_data"
    }
   ],
   "source": [
    "def plot_results(results):\n",
    "    V_out = results.V_out.copy()\n",
    "    t_end = results.index[-1]\n",
    "    \n",
    "    if t_end < 0.1:\n",
    "        V_out.index *= 1000\n",
    "        xlabel = 'Time (ms)'\n",
    "    else:\n",
    "        V_out = results.V_out\n",
    "        xlabel = 'Time (s)'\n",
    "        \n",
    "    V_out.plot(label='_nolegend')\n",
    "    decorate(xlabel=xlabel,\n",
    "             ylabel='$V_{out}$ (volt)')\n",
    "    \n",
    "plot_results(results)"
   ]
  },
  {
   "cell_type": "markdown",
   "metadata": {},
   "source": [
    "If things have gone according to plan, the amplitude of the output signal should be about 0.8 V.\n",
    "\n",
    "Also, you might notice that it takes a few cycles for the signal to get to the full amplitude. "
   ]
  },
  {
   "cell_type": "markdown",
   "metadata": {},
   "source": [
    "## Sweeping frequency\n",
    "\n",
    "Here's what `V_out` looks like for a range of frequencies:"
   ]
  },
  {
   "cell_type": "code",
   "execution_count": 41,
   "metadata": {},
   "outputs": [
    {
     "data": {
      "image/png": "[encoded data removed]",
      "text/plain": [
       "<Figure size 450x300 with 6 Axes>"
      ]
     },
     "metadata": {},
     "output_type": "display_data"
    }
   ],
   "source": [
    "from matplotlib.pyplot import subplot\n",
    "\n",
    "fs = [1, 10, 100, 1000, 10000, 100000]\n",
    "\n",
    "for i, f in enumerate(fs):\n",
    "    system = make_system(params.set(f=f))\n",
    "    results, details = run_solve_ivp(system, slope_func)\n",
    "    subplot(3, 2, i+1)\n",
    "    plot_results(results)"
   ]
  },
  {
   "cell_type": "markdown",
   "metadata": {},
   "source": [
    "At low frequencies, notice that there is an initial \"transient\" before the output gets to a steady-state sinusoidal output.  The duration of this transient is a small multiple of the time constant, `tau`, which is 1 ms."
   ]
  },
  {
   "cell_type": "markdown",
   "metadata": {},
   "source": [
    "## Estimating the output ratio\n",
    "\n",
    "Let's compare the amplitudes of the input and output signals.  Below the cutoff frequency, we expect them to be about the same.  Above the cutoff, we expect the amplitude of the output signal to be smaller.\n",
    "\n",
    "We'll start with a signal at the cutoff frequency, `f=1000` Hz."
   ]
  },
  {
   "cell_type": "code",
   "execution_count": 42,
   "metadata": {},
   "outputs": [
    {
     "data": {
      "image/png": "[encoded data removed]",
      "text/plain": [
       "<Figure size 450x300 with 1 Axes>"
      ]
     },
     "metadata": {},
     "output_type": "display_data"
    }
   ],
   "source": [
    "system = make_system(params.set(f=1000))\n",
    "results, details = run_solve_ivp(system, slope_func)\n",
    "V_out = results.V_out\n",
    "plot_results(results)"
   ]
  },
  {
   "cell_type": "markdown",
   "metadata": {},
   "source": [
    "The following function computes `V_in` as a `TimeSeries`:"
   ]
  },
  {
   "cell_type": "code",
   "execution_count": 43,
   "metadata": {},
   "outputs": [],
   "source": [
    "def compute_vin(results, system):\n",
    "    \"\"\"Computes V_in as a TimeSeries.\n",
    "    \n",
    "    results: TimeFrame with simulation results\n",
    "    system: System object with A and omega\n",
    "    \n",
    "    returns: TimeSeries\n",
    "    \"\"\"\n",
    "    A, omega = system.A, system.omega\n",
    "    \n",
    "    ts = results.index\n",
    "    V_in = A * np.cos(omega * ts)\n",
    "    return TimeSeries(V_in, results.index, name='V_in')"
   ]
  },
  {
   "cell_type": "markdown",
   "metadata": {},
   "source": [
    "Here's what the input and output look like.  Notice that the output is not just smaller; it is also \"out of phase\"; that is, the peaks of the output are shifted to the right, relative to the peaks of the input."
   ]
  },
  {
   "cell_type": "code",
   "execution_count": 44,
   "metadata": {},
   "outputs": [
    {
     "data": {
      "image/png": "[encoded data removed]",
      "text/plain": [
       "<Figure size 450x300 with 1 Axes>"
      ]
     },
     "metadata": {},
     "output_type": "display_data"
    }
   ],
   "source": [
    "V_in = compute_vin(results, system)\n",
    "\n",
    "V_out.plot()\n",
    "V_in.plot()\n",
    "\n",
    "decorate(xlabel='Time (s)',\n",
    "         ylabel='V (volt)')"
   ]
  },
  {
   "cell_type": "markdown",
   "metadata": {},
   "source": [
    "The following function estimates the amplitude of a signal by computing half the distance between the min and max."
   ]
  },
  {
   "cell_type": "code",
   "execution_count": 45,
   "metadata": {},
   "outputs": [],
   "source": [
    "def estimate_A(series):\n",
    "    \"\"\"Estimate amplitude.\n",
    "    \n",
    "    series: TimeSeries\n",
    "    \n",
    "    returns: amplitude in volts\n",
    "    \"\"\"\n",
    "    return (series.max() - series.min()) / 2"
   ]
  },
  {
   "cell_type": "markdown",
   "metadata": {},
   "source": [
    "The amplitude of `V_in` should be near 5 (but not exact because we evaluated it at a finite number of points)."
   ]
  },
  {
   "cell_type": "code",
   "execution_count": 46,
   "metadata": {},
   "outputs": [
    {
     "data": {
      "text/plain": [
       "np.float64(5.0)"
      ]
     },
     "execution_count": 46,
     "metadata": {},
     "output_type": "execute_result"
    }
   ],
   "source": [
    "A_in = estimate_A(V_in)\n",
    "A_in"
   ]
  },
  {
   "cell_type": "markdown",
   "metadata": {},
   "source": [
    "The amplitude of `V_out` should be lower."
   ]
  },
  {
   "cell_type": "code",
   "execution_count": 47,
   "metadata": {},
   "outputs": [
    {
     "data": {
      "text/plain": [
       "np.float64(0.8126880795365589)"
      ]
     },
     "execution_count": 47,
     "metadata": {},
     "output_type": "execute_result"
    }
   ],
   "source": [
    "A_out = estimate_A(V_out)\n",
    "A_out"
   ]
  },
  {
   "cell_type": "markdown",
   "metadata": {},
   "source": [
    "And here's the ratio between them."
   ]
  },
  {
   "cell_type": "code",
   "execution_count": 48,
   "metadata": {},
   "outputs": [
    {
     "data": {
      "text/plain": [
       "np.float64(0.16253761590731178)"
      ]
     },
     "execution_count": 48,
     "metadata": {},
     "output_type": "execute_result"
    }
   ],
   "source": [
    "ratio = A_out / A_in\n",
    "ratio"
   ]
  },
  {
   "cell_type": "markdown",
   "metadata": {},
   "source": [
    "**Exercise:** Encapsulate the code we have so far in a function that takes two `TimeSeries` objects and returns the ratio between their amplitudes."
   ]
  },
  {
   "cell_type": "code",
   "execution_count": 49,
   "metadata": {},
   "outputs": [],
   "source": [
    "# Solution goes here\n",
    "def estimate_ratio(V_out, V_in):\n",
    "    A_in = estimate_A(V_in)\n",
    "    A_out = estimate_A(V_out)\n",
    "    return A_out / A_in"
   ]
  },
  {
   "cell_type": "markdown",
   "metadata": {},
   "source": [
    "And test your function."
   ]
  },
  {
   "cell_type": "code",
   "execution_count": 50,
   "metadata": {},
   "outputs": [
    {
     "data": {
      "text/plain": [
       "np.float64(0.16253761590731178)"
      ]
     },
     "execution_count": 50,
     "metadata": {},
     "output_type": "execute_result"
    }
   ],
   "source": [
    "estimate_ratio(V_out, V_in)"
   ]
  },
  {
   "cell_type": "markdown",
   "metadata": {},
   "source": [
    "## Estimating phase offset\n",
    "\n",
    "The delay between the peak of the input and the peak of the output is call a \"phase shift\" or \"phase offset\", usually measured in fractions of a cycle, degrees, or radians.\n",
    "\n",
    "To estimate the phase offset between two signals, we can use cross-correlation.  Here's what the cross-correlation looks like between `V_out` and `V_in`:"
   ]
  },
  {
   "cell_type": "code",
   "execution_count": 51,
   "metadata": {},
   "outputs": [
    {
     "data": {
      "image/png": "[encoded data removed]",
      "text/plain": [
       "<Figure size 450x300 with 1 Axes>"
      ]
     },
     "metadata": {},
     "output_type": "display_data"
    }
   ],
   "source": [
    "corr = np.correlate(V_out, V_in, mode='same')\n",
    "corr_series = make_series(V_in.index, corr)\n",
    "corr_series.plot(color='C4')\n",
    "decorate(xlabel='Lag (s)',\n",
    "         ylabel='Correlation')"
   ]
  },
  {
   "cell_type": "markdown",
   "metadata": {},
   "source": [
    "The location of the peak in the cross correlation is the estimated shift between the two signals, in seconds."
   ]
  },
  {
   "cell_type": "code",
   "execution_count": 52,
   "metadata": {},
   "outputs": [
    {
     "data": {
      "text/plain": [
       "np.float64(0.00222)"
      ]
     },
     "execution_count": 52,
     "metadata": {},
     "output_type": "execute_result"
    }
   ],
   "source": [
    "peak_time = corr_series.idxmax()\n",
    "peak_time"
   ]
  },
  {
   "cell_type": "markdown",
   "metadata": {},
   "source": [
    "We can express the phase offset as a multiple of the period of the input signal:"
   ]
  },
  {
   "cell_type": "code",
   "execution_count": 53,
   "metadata": {},
   "outputs": [
    {
     "data": {
      "text/plain": [
       "0.001"
      ]
     },
     "execution_count": 53,
     "metadata": {},
     "output_type": "execute_result"
    }
   ],
   "source": [
    "period = 1 / system.f\n",
    "period"
   ]
  },
  {
   "cell_type": "code",
   "execution_count": 54,
   "metadata": {},
   "outputs": [
    {
     "data": {
      "text/plain": [
       "np.float64(2.22)"
      ]
     },
     "execution_count": 54,
     "metadata": {},
     "output_type": "execute_result"
    }
   ],
   "source": [
    "peak_time / period"
   ]
  },
  {
   "cell_type": "markdown",
   "metadata": {},
   "source": [
    "We don't care about whole period offsets, only the fractional part, which we can get using `modf`:"
   ]
  },
  {
   "cell_type": "code",
   "execution_count": 55,
   "metadata": {},
   "outputs": [
    {
     "data": {
      "text/plain": [
       "np.float64(0.2200000000000002)"
      ]
     },
     "execution_count": 55,
     "metadata": {},
     "output_type": "execute_result"
    }
   ],
   "source": [
    "frac, whole = np.modf(peak_time / period)\n",
    "frac"
   ]
  },
  {
   "cell_type": "markdown",
   "metadata": {},
   "source": [
    "Finally, we can convert from a fraction of a cycle to degrees:"
   ]
  },
  {
   "cell_type": "code",
   "execution_count": 56,
   "metadata": {},
   "outputs": [
    {
     "data": {
      "text/plain": [
       "np.float64(79.20000000000007)"
      ]
     },
     "execution_count": 56,
     "metadata": {},
     "output_type": "execute_result"
    }
   ],
   "source": [
    "frac * 360"
   ]
  },
  {
   "cell_type": "markdown",
   "metadata": {},
   "source": [
    "**Exercise:** Encapsulate this code in a function that takes two `TimeSeries` objects and a `System` object, and returns the phase offset in degrees.\n",
    "\n",
    "Note: by convention, if the output is shifted to the right, the phase offset is negative."
   ]
  },
  {
   "cell_type": "code",
   "execution_count": 28,
   "metadata": {},
   "outputs": [],
   "source": [
    "# Solution goes here"
   ]
  },
  {
   "cell_type": "markdown",
   "metadata": {},
   "source": [
    "Test your function."
   ]
  },
  {
   "cell_type": "code",
   "execution_count": 29,
   "metadata": {},
   "outputs": [],
   "source": [
    "estimate_offset(V_out, V_in, system)"
   ]
  },
  {
   "cell_type": "markdown",
   "metadata": {},
   "source": [
    "## Sweeping frequency again\n",
    "\n",
    "**Exercise:** Write a function that takes as parameters an array of input frequencies and a `Params` object.\n",
    "\n",
    "For each input frequency it should run a simulation and use the results to estimate the output ratio (dimensionless) and phase offset (in degrees).\n",
    "\n",
    "It should return two `SweepSeries` objects, one for the ratios and one for the offsets."
   ]
  },
  {
   "cell_type": "code",
   "execution_count": 30,
   "metadata": {},
   "outputs": [],
   "source": [
    "# Solution goes here"
   ]
  },
  {
   "cell_type": "markdown",
   "metadata": {},
   "source": [
    "Run your function with these frequencies."
   ]
  },
  {
   "cell_type": "code",
   "execution_count": 31,
   "metadata": {},
   "outputs": [],
   "source": [
    "fs = 10 ** linspace(0, 4, 9)"
   ]
  },
  {
   "cell_type": "code",
   "execution_count": 32,
   "metadata": {},
   "outputs": [],
   "source": [
    "ratios, offsets = sweep_frequency(fs, params)"
   ]
  },
  {
   "cell_type": "markdown",
   "metadata": {},
   "source": [
    "We can plot output ratios like this:"
   ]
  },
  {
   "cell_type": "code",
   "execution_count": 33,
   "metadata": {},
   "outputs": [],
   "source": [
    "ratios.plot(color='C2', label='output ratio')\n",
    "decorate(xlabel='Frequency (Hz)',\n",
    "         ylabel='$V_{out} / V_{in}$')"
   ]
  },
  {
   "cell_type": "markdown",
   "metadata": {},
   "source": [
    "But it is useful and conventional to plot ratios on a log-log scale.  The vertical gray line shows the cutoff frequency."
   ]
  },
  {
   "cell_type": "code",
   "execution_count": 34,
   "metadata": {},
   "outputs": [],
   "source": [
    "def plot_ratios(ratios, system):\n",
    "    \"\"\"Plot output ratios.\n",
    "    \"\"\"\n",
    "    # axvline can't handle a Quantity with units\n",
    "    cutoff = magnitude(system.cutoff)\n",
    "    plt.axvline(cutoff, color='gray', alpha=0.4)\n",
    "    \n",
    "    ratios.plot(color='C2', label='output ratio')\n",
    "    decorate(xlabel='Frequency (Hz)',\n",
    "             ylabel='$V_{out} / V_{in}$',\n",
    "             xscale='log', yscale='log')"
   ]
  },
  {
   "cell_type": "code",
   "execution_count": 35,
   "metadata": {},
   "outputs": [],
   "source": [
    "plot_ratios(ratios, system)"
   ]
  },
  {
   "cell_type": "markdown",
   "metadata": {},
   "source": [
    "This plot shows the cutoff behavior more clearly.  Below the cutoff, the output ratio is close to 1.  Above the cutoff, it drops off linearly, on a log scale, which indicates that output ratios for high frequencies are practically 0.\n",
    "\n",
    "Here's the plot for phase offset, on a log-x scale:"
   ]
  },
  {
   "cell_type": "code",
   "execution_count": 44,
   "metadata": {},
   "outputs": [],
   "source": [
    "def plot_offsets(offsets, system):\n",
    "    \"\"\"Plot phase offsets.\n",
    "    \"\"\"\n",
    "    # axvline can't handle a Quantity with units\n",
    "    cutoff = magnitude(system.cutoff)\n",
    "    plt.axvline(cutoff, color='gray', alpha=0.4)\n",
    "    \n",
    "    offsets.plot(color='C9', label='phase offset')\n",
    "    decorate(xlabel='Frequency (Hz)',\n",
    "             ylabel='Phase offset (degree)',\n",
    "             xscale='log')"
   ]
  },
  {
   "cell_type": "code",
   "execution_count": 45,
   "metadata": {},
   "outputs": [],
   "source": [
    "plot_offsets(offsets, system)"
   ]
  },
  {
   "cell_type": "markdown",
   "metadata": {},
   "source": [
    "For low frequencies, the phase offset is near 0.  For high frequencies, it approaches 90 degrees."
   ]
  },
  {
   "cell_type": "markdown",
   "metadata": {},
   "source": [
    "### Analysis\n",
    "\n",
    "By analysis we can show that the output ratio for this signal is\n",
    "\n",
    "$A = \\frac{1}{\\sqrt{1 + (R C \\omega)^2}}$ \n",
    "\n",
    "where $\\omega = 2 \\pi f$, and the phase offset is\n",
    "\n",
    "$ \\phi = \\arctan (- R C \\omega)$ \n",
    "\n",
    "**Exercise:** Write functions that take an array of input frequencies and returns $A(f)$ and $\\phi(f)$ as `SweepSeries` objects.  Plot these objects and compare them with the results from the previous section.\n"
   ]
  },
  {
   "cell_type": "code",
   "execution_count": 46,
   "metadata": {},
   "outputs": [],
   "source": [
    "# Solution goes here"
   ]
  },
  {
   "cell_type": "markdown",
   "metadata": {},
   "source": [
    "Test your function:"
   ]
  },
  {
   "cell_type": "code",
   "execution_count": 47,
   "metadata": {},
   "outputs": [],
   "source": [
    "A = output_ratios(fs, system)"
   ]
  },
  {
   "cell_type": "code",
   "execution_count": 48,
   "metadata": {},
   "outputs": [],
   "source": [
    "# Solution goes here"
   ]
  },
  {
   "cell_type": "markdown",
   "metadata": {},
   "source": [
    "Test your function:"
   ]
  },
  {
   "cell_type": "code",
   "execution_count": 49,
   "metadata": {},
   "outputs": [],
   "source": [
    "phi = phase_offsets(fs, system)"
   ]
  },
  {
   "cell_type": "markdown",
   "metadata": {},
   "source": [
    "Plot the theoretical results along with the simulation results and see if they agree."
   ]
  },
  {
   "cell_type": "code",
   "execution_count": 51,
   "metadata": {},
   "outputs": [],
   "source": [
    "A.plot(style=':', color='gray', label='analysis')\n",
    "plot_ratios(ratios, system)"
   ]
  },
  {
   "cell_type": "code",
   "execution_count": 52,
   "metadata": {},
   "outputs": [],
   "source": [
    "phi.plot(style=':', color='gray', label='analysis')\n",
    "plot_offsets(offsets, system)"
   ]
  },
  {
   "cell_type": "markdown",
   "metadata": {},
   "source": [
    "For the phase offsets, there are differences between the theoretical results and our estimates, but that is probably because it is not easy to estimate phase offsets precisely from numerical results."
   ]
  },
  {
   "cell_type": "markdown",
   "metadata": {},
   "source": [
    "**Exercise:** Consider modifying this notebook to model a [first order high-pass filter](https://en.wikipedia.org/wiki/High-pass_filter#First-order_continuous-time_implementation), a [two-stage second-order low-pass filter](https://www.electronics-tutorials.ws/filter/filter_2.html), or a [passive band-pass filter](https://www.electronics-tutorials.ws/filter/filter_4.html)."
   ]
  },
  {
   "cell_type": "code",
   "execution_count": null,
   "metadata": {},
   "outputs": [],
   "source": []
  }
 ],
 "metadata": {
  "kernelspec": {
   "display_name": "Python 3 (ipykernel)",
   "language": "python",
   "name": "python3"
  },
  "language_info": {
   "codemirror_mode": {
    "name": "ipython",
    "version": 3
   },
   "file_extension": ".py",
   "mimetype": "text/x-python",
   "name": "python",
   "nbconvert_exporter": "python",
   "pygments_lexer": "ipython3",
   "version": "3.12.2"
  }
 },
 "nbformat": 4,
 "nbformat_minor": 2
}
